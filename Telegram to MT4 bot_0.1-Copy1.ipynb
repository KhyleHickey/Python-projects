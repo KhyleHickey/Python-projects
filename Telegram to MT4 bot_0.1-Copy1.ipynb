{
 "cells": [
  {
   "cell_type": "markdown",
   "id": "34453601-ae5c-431e-b068-50cd84911404",
   "metadata": {},
   "source": [
    "## Telegram to MT5 Bot"
   ]
  },
  {
   "cell_type": "markdown",
   "id": "ffe48070-b744-4f1d-87be-7893f51dbe22",
   "metadata": {},
   "source": [
    "### Importing and installing libraries"
   ]
  },
  {
   "cell_type": "code",
   "execution_count": 1,
   "id": "1acca24a-8b7b-4195-a29f-da8f82e64e53",
   "metadata": {},
   "outputs": [
    {
     "name": "stdout",
     "output_type": "stream",
     "text": [
      "Requirement already satisfied: pyrogram in c:\\users\\django\\.conda\\envs\\mitoenv\\lib\\site-packages (2.0.41)\n",
      "Requirement already satisfied: pyaes==1.6.1 in c:\\users\\django\\.conda\\envs\\mitoenv\\lib\\site-packages (from pyrogram) (1.6.1)\n",
      "Requirement already satisfied: pysocks==1.7.1 in c:\\users\\django\\.conda\\envs\\mitoenv\\lib\\site-packages (from pyrogram) (1.7.1)\n",
      "Note: you may need to restart the kernel to use updated packages.\n"
     ]
    }
   ],
   "source": [
    "pip install pyrogram"
   ]
  },
  {
   "cell_type": "code",
   "execution_count": 2,
   "id": "dc5f2e40-04bd-4a65-a335-69a53c8eea5e",
   "metadata": {},
   "outputs": [
    {
     "name": "stderr",
     "output_type": "stream",
     "text": [
      "TgCrypto is missing! Pyrogram will work the same, but at a much slower speed. More info: https://docs.pyrogram.org/topics/speedups\n"
     ]
    }
   ],
   "source": [
    "import MetaTrader5 as mt5\n",
    "from pyrogram import Client, filters\n",
    "import re\n",
    "from time import sleep"
   ]
  },
  {
   "cell_type": "markdown",
   "id": "651fb5c2-274c-4aa8-9ab0-6dac3f759c21",
   "metadata": {},
   "source": [
    "### Defining function to pull data from telegram"
   ]
  },
  {
   "cell_type": "code",
   "execution_count": 3,
   "id": "21a8bab7-212a-45a0-8121-f28cce3683a9",
   "metadata": {},
   "outputs": [],
   "source": [
    "#storing channel ID of telegram trade signal group\n",
    "channel = {-1001416233252: {'type': 'channel', 'trading': 'str_long', 'url': 'test'}}\n",
    "\n",
    "#List of forex sysmbols\n",
    "symbols = ['AUDCAD', 'AUDCHF', 'AUDJPY', 'AUDNZD', 'AUDUSD', 'CADCHF', 'CADJPY', 'CHFJPY', 'GBPAUD', 'GBPCAD',\n",
    "           'GBPCHF', 'GBPJPY', 'GBPNZD', 'GBPUSD', 'EURAUD', 'EURCAD', 'EURCHF', 'EURGBP', 'EURJPY', 'EURNZD',\n",
    "           'EURUSD', 'NZDCAD', 'NZDCHF', 'NZDJPY', 'NZDUSD', 'USDCAD', 'USDCHF', 'USDCNH', 'USDJPY', 'XAUUSD']\n",
    "\n",
    "bot = Client(\"name\", api_id=\"\", api_hash=\"\")\n",
    "\n",
    "def sltp(chat_id, text, Sl, Tp):\n",
    "    \n",
    "    try:\n",
    "        if chat_id == -1001416233252:  # test\n",
    "            try:\n",
    "                PRICE = float(re.findall(r'[\\d.]+', str(text.split('\\n')[0]))[0])\n",
    "                SL = float(re.findall(r'[\\d.]+', str([i for i in text.split('\\n') if Sl in i]))[-1])\n",
    "                TP = float(re.findall(r'[\\d.]+', str([i for i in text.split('\\n') if Tp in i][-1]))[-1])\n",
    "                return [PRICE, SL, TP]\n",
    "            except:\n",
    "                return False\n",
    "    except Exception as ex:\n",
    "        bot.send_message(-1001247941772, f\"sltp.{str(chat_id)}: {ex}\")\n",
    "\n",
    "\n"
   ]
  },
  {
   "cell_type": "code",
   "execution_count": 4,
   "id": "e9728c27-4264-41b6-94c3-3f04c88d3841",
   "metadata": {},
   "outputs": [],
   "source": [
    "def OrderSend(Symbol, Lot, Type, PRICE, Sl, Tp, Magic):\n",
    "    selected = mt5.symbol_select(Symbol, True)\n",
    "    if not selected:\n",
    "        bot.send_message(-1001247941772, f\"OrderSend.symbol_select: {str(mt5.last_error())}\")\n",
    "        mt5.shutdown()\n",
    "    symbol_info = mt5.symbol_info(Symbol)\n",
    "    request = {\n",
    "        \"action\": mt5.TRADE_ACTION_DEAL,\n",
    "        \"symbol\": Symbol,\n",
    "        \"volume\": Lot,\n",
    "        \"type\": Type,\n",
    "        \"price\": PRICE,\n",
    "        \"sl\": Sl,\n",
    "        \"tp\": Tp,\n",
    "        \"deviation\": 3,\n",
    "        \"magic\": Magic,\n",
    "        \"comment\": \"Order ochish\",\n",
    "        \"type_time\": mt5.ORDER_TIME_GTC,\n",
    "        #\"type_filling\": mt5.ORDER_FILLING_    return,\n",
    "    }\n",
    "    result = mt5.order_send(request)\n",
    "    mt5.shutdown()\n",
    "    #quit()"
   ]
  },
  {
   "cell_type": "markdown",
   "id": "40791c3a-0b86-4cf2-8505-20570685ecb1",
   "metadata": {},
   "source": [
    "### Managing telegram bot instance"
   ]
  },
  {
   "cell_type": "code",
   "execution_count": 5,
   "id": "5e02b556-543d-48e9-8ce1-61633ed59f5c",
   "metadata": {},
   "outputs": [
    {
     "name": "stderr",
     "output_type": "stream",
     "text": [
      "C:\\Users\\Django\\.conda\\envs\\mitoenv\\lib\\site-packages\\pyrogram\\methods\\utilities\\run.py:84: RuntimeWarning: coroutine 'Start.start' was never awaited\n",
      "  self.start()\n",
      "RuntimeWarning: Enable tracemalloc to get the object allocation traceback\n"
     ]
    },
    {
     "ename": "RuntimeError",
     "evalue": "This event loop is already running",
     "output_type": "error",
     "traceback": [
      "\u001b[1;31m---------------------------------------------------------------------------\u001b[0m",
      "\u001b[1;31mRuntimeError\u001b[0m                              Traceback (most recent call last)",
      "\u001b[1;32m~\\AppData\\Local\\Temp/ipykernel_13044/1629827184.py\u001b[0m in \u001b[0;36m<module>\u001b[1;34m\u001b[0m\n\u001b[0;32m     50\u001b[0m \u001b[1;33m\u001b[0m\u001b[0m\n\u001b[0;32m     51\u001b[0m \u001b[1;32mif\u001b[0m \u001b[0m__name__\u001b[0m \u001b[1;33m==\u001b[0m \u001b[1;34m\"__main__\"\u001b[0m\u001b[1;33m:\u001b[0m\u001b[1;33m\u001b[0m\u001b[1;33m\u001b[0m\u001b[0m\n\u001b[1;32m---> 52\u001b[1;33m     \u001b[0mbot\u001b[0m\u001b[1;33m.\u001b[0m\u001b[0mrun\u001b[0m\u001b[1;33m(\u001b[0m\u001b[1;33m)\u001b[0m\u001b[1;33m\u001b[0m\u001b[1;33m\u001b[0m\u001b[0m\n\u001b[0m",
      "\u001b[1;32m~\\.conda\\envs\\mitoenv\\lib\\site-packages\\pyrogram\\methods\\utilities\\run.py\u001b[0m in \u001b[0;36mrun\u001b[1;34m(self, coroutine)\u001b[0m\n\u001b[0;32m     83\u001b[0m             \u001b[1;32melse\u001b[0m\u001b[1;33m:\u001b[0m\u001b[1;33m\u001b[0m\u001b[1;33m\u001b[0m\u001b[0m\n\u001b[0;32m     84\u001b[0m                 \u001b[0mself\u001b[0m\u001b[1;33m.\u001b[0m\u001b[0mstart\u001b[0m\u001b[1;33m(\u001b[0m\u001b[1;33m)\u001b[0m\u001b[1;33m\u001b[0m\u001b[1;33m\u001b[0m\u001b[0m\n\u001b[1;32m---> 85\u001b[1;33m                 \u001b[0mrun\u001b[0m\u001b[1;33m(\u001b[0m\u001b[0midle\u001b[0m\u001b[1;33m(\u001b[0m\u001b[1;33m)\u001b[0m\u001b[1;33m)\u001b[0m\u001b[1;33m\u001b[0m\u001b[1;33m\u001b[0m\u001b[0m\n\u001b[0m\u001b[0;32m     86\u001b[0m                 \u001b[0mself\u001b[0m\u001b[1;33m.\u001b[0m\u001b[0mstop\u001b[0m\u001b[1;33m(\u001b[0m\u001b[1;33m)\u001b[0m\u001b[1;33m\u001b[0m\u001b[1;33m\u001b[0m\u001b[0m\n",
      "\u001b[1;32m~\\.conda\\envs\\mitoenv\\lib\\asyncio\\base_events.py\u001b[0m in \u001b[0;36mrun_until_complete\u001b[1;34m(self, future)\u001b[0m\n\u001b[0;32m    590\u001b[0m         \"\"\"\n\u001b[0;32m    591\u001b[0m         \u001b[0mself\u001b[0m\u001b[1;33m.\u001b[0m\u001b[0m_check_closed\u001b[0m\u001b[1;33m(\u001b[0m\u001b[1;33m)\u001b[0m\u001b[1;33m\u001b[0m\u001b[1;33m\u001b[0m\u001b[0m\n\u001b[1;32m--> 592\u001b[1;33m         \u001b[0mself\u001b[0m\u001b[1;33m.\u001b[0m\u001b[0m_check_running\u001b[0m\u001b[1;33m(\u001b[0m\u001b[1;33m)\u001b[0m\u001b[1;33m\u001b[0m\u001b[1;33m\u001b[0m\u001b[0m\n\u001b[0m\u001b[0;32m    593\u001b[0m \u001b[1;33m\u001b[0m\u001b[0m\n\u001b[0;32m    594\u001b[0m         \u001b[0mnew_task\u001b[0m \u001b[1;33m=\u001b[0m \u001b[1;32mnot\u001b[0m \u001b[0mfutures\u001b[0m\u001b[1;33m.\u001b[0m\u001b[0misfuture\u001b[0m\u001b[1;33m(\u001b[0m\u001b[0mfuture\u001b[0m\u001b[1;33m)\u001b[0m\u001b[1;33m\u001b[0m\u001b[1;33m\u001b[0m\u001b[0m\n",
      "\u001b[1;32m~\\.conda\\envs\\mitoenv\\lib\\asyncio\\base_events.py\u001b[0m in \u001b[0;36m_check_running\u001b[1;34m(self)\u001b[0m\n\u001b[0;32m    550\u001b[0m     \u001b[1;32mdef\u001b[0m \u001b[0m_check_running\u001b[0m\u001b[1;33m(\u001b[0m\u001b[0mself\u001b[0m\u001b[1;33m)\u001b[0m\u001b[1;33m:\u001b[0m\u001b[1;33m\u001b[0m\u001b[1;33m\u001b[0m\u001b[0m\n\u001b[0;32m    551\u001b[0m         \u001b[1;32mif\u001b[0m \u001b[0mself\u001b[0m\u001b[1;33m.\u001b[0m\u001b[0mis_running\u001b[0m\u001b[1;33m(\u001b[0m\u001b[1;33m)\u001b[0m\u001b[1;33m:\u001b[0m\u001b[1;33m\u001b[0m\u001b[1;33m\u001b[0m\u001b[0m\n\u001b[1;32m--> 552\u001b[1;33m             \u001b[1;32mraise\u001b[0m \u001b[0mRuntimeError\u001b[0m\u001b[1;33m(\u001b[0m\u001b[1;34m'This event loop is already running'\u001b[0m\u001b[1;33m)\u001b[0m\u001b[1;33m\u001b[0m\u001b[1;33m\u001b[0m\u001b[0m\n\u001b[0m\u001b[0;32m    553\u001b[0m         \u001b[1;32mif\u001b[0m \u001b[0mevents\u001b[0m\u001b[1;33m.\u001b[0m\u001b[0m_get_running_loop\u001b[0m\u001b[1;33m(\u001b[0m\u001b[1;33m)\u001b[0m \u001b[1;32mis\u001b[0m \u001b[1;32mnot\u001b[0m \u001b[1;32mNone\u001b[0m\u001b[1;33m:\u001b[0m\u001b[1;33m\u001b[0m\u001b[1;33m\u001b[0m\u001b[0m\n\u001b[0;32m    554\u001b[0m             raise RuntimeError(\n",
      "\u001b[1;31mRuntimeError\u001b[0m: This event loop is already running"
     ]
    }
   ],
   "source": [
    "@bot.on_message(filters.channel)\n",
    "# @bot.on_message((filters.photo | filters.text) & (filters.channel | filters.chat))\n",
    "def my_handler(client, message):\n",
    "    Type = 2\n",
    "    NOW_PRICE = 0\n",
    "    Lot = 0.01\n",
    "    chat_id = message.chat.id\n",
    "    text = str(message.text).lower()\n",
    "    if message.photo:\n",
    "        if message.caption:\n",
    "            text = message.caption\n",
    "    if chat_id < 0:\n",
    "        if 0 < len(text):\n",
    "            if not ('limit' in text) and not ('sell stop' in text) and not ('buy stop' in text):\n",
    "                if ('sl' in text and 'tp' in text) or ('stop loss' in text and 'take profit' in text):\n",
    "                    for Symbol in symbols:\n",
    "                        if Symbol.lower() in text:\n",
    "                            print(Symbol)\n",
    "                            if 'buy' in text:\n",
    "                                Type = 0\n",
    "                            if 'sell' in text:\n",
    "                                Type = 1\n",
    "                            st = sltp(chat_id, text, 'sl', 'tp')\n",
    "                            print(st)\n",
    "                            if st is not False and Type != 2:\n",
    "                                for i in range(20):\n",
    "                                    if mt5.initialize(login=68025724, server=\"RoboForex-DemoPro\",\n",
    "                                                      password=\"Metatrader5\"):\n",
    "                                        if abs(st[0] - NOW_PRICE) < 200 * mt5.symbol_info(Symbol).point:\n",
    "                                            if Type == 0:\n",
    "                                                NOW_PRICE = mt5.symbol_info_tick(Symbol).ask\n",
    "                                            if Type == 1:\n",
    "                                                NOW_PRICE = mt5.symbol_info_tick(Symbol).bid\n",
    "                                            if mt5.symbol_info(Symbol) is not None:\n",
    "\n",
    "                                                OrderSend(Symbol.upper(), Lot, Type, NOW_PRICE, st[1], st[2],\n",
    "                                                          int(str(chat_id)[-10:]))\n",
    "                                                break\n",
    "                                            else:\n",
    "                                                bot.send_message(-1001247941772,\n",
    "                                                                 f\"{str(mt5.last_error())}\")\n",
    "                                                OrderSend(Symbol.upper(), Lot, Type, NOW_PRICE, st[1], st[2],\n",
    "                                                          int(str(chat_id)[-10:]))\n",
    "                                                mt5.shutdown()\n",
    "                                        else:\n",
    "                                            mt5.shutdown()\n",
    "                                            break\n",
    "                                    sleep(5)\n",
    "\n",
    "\n",
    "if __name__ == \"__main__\":\n",
    "    bot.run()"
   ]
  },
  {
   "cell_type": "code",
   "execution_count": null,
   "id": "03db5f75-e3b2-42fc-a5c3-9c20451bae6d",
   "metadata": {},
   "outputs": [],
   "source": []
  }
 ],
 "metadata": {
  "kernelspec": {
   "display_name": "Python 3 (ipykernel)",
   "language": "python",
   "name": "python3"
  },
  "language_info": {
   "codemirror_mode": {
    "name": "ipython",
    "version": 3
   },
   "file_extension": ".py",
   "mimetype": "text/x-python",
   "name": "python",
   "nbconvert_exporter": "python",
   "pygments_lexer": "ipython3",
   "version": "3.8.12"
  }
 },
 "nbformat": 4,
 "nbformat_minor": 5
}
