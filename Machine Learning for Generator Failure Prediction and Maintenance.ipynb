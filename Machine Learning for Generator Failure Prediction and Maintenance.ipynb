{
 "cells": [
  {
   "cell_type": "markdown",
   "metadata": {},
   "source": [
    "# Machine Learning for Generator Failure Prediction and Maintenance\n"
   ]
  },
  {
   "cell_type": "markdown",
   "metadata": {},
   "source": [
    "Author: Khyle Hickey\n"
   ]
  },
  {
   "cell_type": "markdown",
   "metadata": {},
   "source": [
    "Objective: \n",
    "\n",
    "To analyse generator sensor data and accurately predict time to failure so to reduce costs on maintenance programs"
   ]
  },
  {
   "cell_type": "markdown",
   "metadata": {},
   "source": [
    "# Table of Contents\n",
    "\n",
    "- [Installing libraries](#Installing-libraries)\n",
    "- [Retrieving data from github and perform analysis using pandas](#Retrieving-data-from-github-and-perform-analysis-using-pandas)\n",
    "- [SMOTE the Training Data](#SMOTE-the-Training-Data)\n",
    "- [Build the model on the balanced training data set](#Build-the-model-on-the-balanced-training-data-set)\n",
    "- [Evaluate the Model](#Evaluate-the-Model)\n",
    "- [Evaluate the model using an AUC and accruacy metrics.](#Evaluate-the-model-using-an-AUC-and-accuracy-metrics.)\n",
    "- [Evaluating model with a confusion matrix](#Evaluating-model-with-a-confusion-matrix)\n",
    "- [Using Heuristics to Define a False Positive, True Positive, False Negative, and True Negative.](#Using-Heuristics-to-Define-a-False-Positive,-True-Positive,-False-Negative,-and-True-Negative.)\n",
    "- [Apply Model and Heuristics the Training, Testing and Validation Data Sets.](#Apply-Model-and-Heuristics-the-Training,-Testing-and-Validation-Data-Sets.)\n",
    "- [Conclusions](#Conclusions)"
   ]
  },
  {
   "cell_type": "markdown",
   "metadata": {
    "tags": []
   },
   "source": [
    "### Installing libraries"
   ]
  },
  {
   "cell_type": "code",
   "execution_count": null,
   "metadata": {},
   "outputs": [],
   "source": [
    "#!pip install imbalanced-learn -- upgrade\n",
    "!pip install plotly --upgrade\n",
    "!pip install chart-studio --upgrade\n",
    "!pip install xgboost --upgrade\n",
    "!pip install wget --upgrade\n",
    "!pip install matplotlib"
   ]
  },
  {
   "cell_type": "code",
   "execution_count": 2,
   "metadata": {},
   "outputs": [
    {
     "name": "stdout",
     "output_type": "stream",
     "text": [
      "Requirement already satisfied: scikit-learn==0.23.1 in c:\\users\\django\\.conda\\envs\\mitoenv\\lib\\site-packages (0.23.1)\n",
      "Requirement already satisfied: scipy>=0.19.1 in c:\\users\\django\\.conda\\envs\\mitoenv\\lib\\site-packages (from scikit-learn==0.23.1) (1.7.2)\n",
      "Requirement already satisfied: threadpoolctl>=2.0.0 in c:\\users\\django\\.conda\\envs\\mitoenv\\lib\\site-packages (from scikit-learn==0.23.1) (3.0.0)\n",
      "Requirement already satisfied: numpy>=1.13.3 in c:\\users\\django\\.conda\\envs\\mitoenv\\lib\\site-packages (from scikit-learn==0.23.1) (1.21.4)\n",
      "Requirement already satisfied: joblib>=0.11 in c:\\users\\django\\.conda\\envs\\mitoenv\\lib\\site-packages (from scikit-learn==0.23.1) (1.1.0)\n",
      "Requirement already satisfied: imbalanced-learn==0.7.0 in c:\\users\\django\\.conda\\envs\\mitoenv\\lib\\site-packages (0.7.0)\n",
      "Requirement already satisfied: joblib>=0.11 in c:\\users\\django\\.conda\\envs\\mitoenv\\lib\\site-packages (from imbalanced-learn==0.7.0) (1.1.0)\n",
      "Requirement already satisfied: scipy>=0.19.1 in c:\\users\\django\\.conda\\envs\\mitoenv\\lib\\site-packages (from imbalanced-learn==0.7.0) (1.7.2)\n",
      "Requirement already satisfied: numpy>=1.13.3 in c:\\users\\django\\.conda\\envs\\mitoenv\\lib\\site-packages (from imbalanced-learn==0.7.0) (1.21.4)\n",
      "Requirement already satisfied: scikit-learn>=0.23 in c:\\users\\django\\.conda\\envs\\mitoenv\\lib\\site-packages (from imbalanced-learn==0.7.0) (0.23.1)\n",
      "Requirement already satisfied: threadpoolctl>=2.0.0 in c:\\users\\django\\.conda\\envs\\mitoenv\\lib\\site-packages (from scikit-learn>=0.23->imbalanced-learn==0.7.0) (3.0.0)\n"
     ]
    }
   ],
   "source": [
    "!pip install scikit-learn==0.23.1\n",
    "!pip install imbalanced-learn==0.7.0"
   ]
  },
  {
   "cell_type": "markdown",
   "metadata": {},
   "source": [
    "Importing Libraries"
   ]
  },
  {
   "cell_type": "code",
   "execution_count": 3,
   "metadata": {},
   "outputs": [],
   "source": [
    "import chart_studio.plotly as py\n",
    "import plotly.graph_objs as go\n",
    "import plotly as plotly\n",
    "import pandas as pd\n",
    "import numpy as np\n",
    "from imblearn.over_sampling import SMOTE\n",
    "from imblearn.over_sampling import SMOTENC\n",
    "from sklearn import metrics\n",
    "\n",
    "from sklearn.preprocessing import LabelEncoder\n",
    "\n",
    "import xgboost as xgb\n",
    "from xgboost.sklearn import XGBClassifier\n",
    "\n",
    "import types\n",
    "import pandas as pd\n",
    "import urllib.request\n",
    "\n",
    "def __iter__(self): return 0\n"
   ]
  },
  {
   "cell_type": "markdown",
   "metadata": {},
   "source": [
    "### Retrieving data from github and perform analysis using pandas"
   ]
  },
  {
   "cell_type": "code",
   "execution_count": 4,
   "metadata": {},
   "outputs": [
    {
     "data": {
      "text/plain": [
       "('generator_data.csv', <http.client.HTTPMessage at 0x1f04875e580>)"
      ]
     },
     "execution_count": 4,
     "metadata": {},
     "output_type": "execute_result"
    }
   ],
   "source": [
    "#!wget https://raw.githubusercontent.com/KhyleHickey/Python-projects/master/ai4i2020.csv\n",
    "url = \"https://raw.githubusercontent.com/KhyleHickey/Python-projects/master/generator_data.csv\"\n",
    "file = \"generator_data.csv\"\n",
    "urllib.request.urlretrieve(url, file)\n",
    "\n"
   ]
  },
  {
   "cell_type": "code",
   "execution_count": 5,
   "metadata": {},
   "outputs": [],
   "source": [
    "# Convert csv to pandas dataframe\n",
    "pd_data_1 = pd.read_csv(\"generator_data.csv\", sep=\",\", header=0)"
   ]
  },
  {
   "cell_type": "code",
   "execution_count": 6,
   "metadata": {},
   "outputs": [
    {
     "data": {
      "text/html": [
       "<div><div id=dfeaae8f-b26c-411c-b54a-b46b47d982d9 style=\"display:none; background-color:#9D6CFF; color:white; width:200px; height:30px; padding-left:5px; border-radius:4px; flex-direction:row; justify-content:space-around; align-items:center;\" onmouseover=\"this.style.backgroundColor='#BA9BF8'\" onmouseout=\"this.style.backgroundColor='#9D6CFF'\" onclick=\"window.commands?.execute('create-mitosheet-from-dataframe-output');\">See Full Dataframe in Mito</div> <script> if (window.commands.hasCommand('create-mitosheet-from-dataframe-output')) document.getElementById('dfeaae8f-b26c-411c-b54a-b46b47d982d9').style.display = 'flex' </script> <table border=\"1\" class=\"dataframe\">\n",
       "  <thead>\n",
       "    <tr style=\"text-align: right;\">\n",
       "      <th></th>\n",
       "      <th>UDI</th>\n",
       "      <th>Date</th>\n",
       "      <th>ID</th>\n",
       "      <th>Internal_Pressure_MPa</th>\n",
       "      <th>Battery_Charging_Current_A</th>\n",
       "      <th>coolant_temp_C</th>\n",
       "      <th>carbon_monoxide_content_gramspersec</th>\n",
       "      <th>Oil_Viscosity_cSt</th>\n",
       "      <th>Age_days</th>\n",
       "      <th>Machine_failure</th>\n",
       "    </tr>\n",
       "  </thead>\n",
       "  <tbody>\n",
       "    <tr>\n",
       "      <th>0</th>\n",
       "      <td>1</td>\n",
       "      <td>5/6/1994</td>\n",
       "      <td>M14860</td>\n",
       "      <td>34.747965</td>\n",
       "      <td>3.708370</td>\n",
       "      <td>93.932837</td>\n",
       "      <td>0.007661</td>\n",
       "      <td>6.822525</td>\n",
       "      <td>901</td>\n",
       "      <td>0</td>\n",
       "    </tr>\n",
       "    <tr>\n",
       "      <th>1</th>\n",
       "      <td>2</td>\n",
       "      <td>5/7/1994</td>\n",
       "      <td>M14860</td>\n",
       "      <td>36.137662</td>\n",
       "      <td>2.280414</td>\n",
       "      <td>95.061622</td>\n",
       "      <td>0.008288</td>\n",
       "      <td>7.099404</td>\n",
       "      <td>838</td>\n",
       "      <td>0</td>\n",
       "    </tr>\n",
       "    <tr>\n",
       "      <th>2</th>\n",
       "      <td>3</td>\n",
       "      <td>5/8/1994</td>\n",
       "      <td>M14860</td>\n",
       "      <td>42.024648</td>\n",
       "      <td>4.758938</td>\n",
       "      <td>88.666506</td>\n",
       "      <td>0.008843</td>\n",
       "      <td>11.609655</td>\n",
       "      <td>848</td>\n",
       "      <td>0</td>\n",
       "    </tr>\n",
       "    <tr>\n",
       "      <th>3</th>\n",
       "      <td>4</td>\n",
       "      <td>5/9/1994</td>\n",
       "      <td>M14860</td>\n",
       "      <td>37.039511</td>\n",
       "      <td>2.609166</td>\n",
       "      <td>112.042586</td>\n",
       "      <td>0.007071</td>\n",
       "      <td>9.176312</td>\n",
       "      <td>931</td>\n",
       "      <td>0</td>\n",
       "    </tr>\n",
       "    <tr>\n",
       "      <th>4</th>\n",
       "      <td>5</td>\n",
       "      <td>5/10/1994</td>\n",
       "      <td>M14860</td>\n",
       "      <td>38.719679</td>\n",
       "      <td>4.503190</td>\n",
       "      <td>86.962349</td>\n",
       "      <td>0.007160</td>\n",
       "      <td>7.448912</td>\n",
       "      <td>894</td>\n",
       "      <td>0</td>\n",
       "    </tr>\n",
       "  </tbody>\n",
       "</table></div>"
      ],
      "text/plain": [
       "   UDI       Date      ID  Internal_Pressure_MPa  Battery_Charging_Current_A  \\\n",
       "0    1   5/6/1994  M14860              34.747965                    3.708370   \n",
       "1    2   5/7/1994  M14860              36.137662                    2.280414   \n",
       "2    3   5/8/1994  M14860              42.024648                    4.758938   \n",
       "3    4   5/9/1994  M14860              37.039511                    2.609166   \n",
       "4    5  5/10/1994  M14860              38.719679                    4.503190   \n",
       "\n",
       "   coolant_temp_C  carbon_monoxide_content_gramspersec  Oil_Viscosity_cSt  \\\n",
       "0       93.932837                             0.007661           6.822525   \n",
       "1       95.061622                             0.008288           7.099404   \n",
       "2       88.666506                             0.008843          11.609655   \n",
       "3      112.042586                             0.007071           9.176312   \n",
       "4       86.962349                             0.007160           7.448912   \n",
       "\n",
       "   Age_days  Machine_failure  \n",
       "0       901                0  \n",
       "1       838                0  \n",
       "2       848                0  \n",
       "3       931                0  \n",
       "4       894                0  "
      ]
     },
     "execution_count": 6,
     "metadata": {},
     "output_type": "execute_result"
    }
   ],
   "source": [
    "pd_data_1.head()"
   ]
  },
  {
   "cell_type": "markdown",
   "metadata": {},
   "source": []
  },
  {
   "cell_type": "code",
   "execution_count": 7,
   "metadata": {},
   "outputs": [
    {
     "data": {
      "text/plain": [
       "(10000, 10)"
      ]
     },
     "execution_count": 7,
     "metadata": {},
     "output_type": "execute_result"
    }
   ],
   "source": [
    "pd_data_1.shape"
   ]
  },
  {
   "cell_type": "code",
   "execution_count": 8,
   "metadata": {},
   "outputs": [
    {
     "data": {
      "text/plain": [
       "(10, 9)"
      ]
     },
     "execution_count": 8,
     "metadata": {},
     "output_type": "execute_result"
    }
   ],
   "source": [
    "xxxx = pd.DataFrame(pd_data_1.groupby(['ID']).agg(['count']))\n",
    "xxxx.shape"
   ]
  },
  {
   "cell_type": "code",
   "execution_count": 9,
   "metadata": {},
   "outputs": [
    {
     "data": {
      "text/plain": [
       "(10000, 9)"
      ]
     },
     "execution_count": 9,
     "metadata": {},
     "output_type": "execute_result"
    }
   ],
   "source": [
    "xxxx = pd.DataFrame(pd_data_1.groupby(['Date']).agg(['count']))\n",
    "xxxx.shape"
   ]
  },
  {
   "cell_type": "code",
   "execution_count": 10,
   "metadata": {},
   "outputs": [
    {
     "data": {
      "text/plain": [
       "UDI                                    0\n",
       "Date                                   0\n",
       "ID                                     0\n",
       "Internal_Pressure_MPa                  0\n",
       "Battery_Charging_Current_A             0\n",
       "coolant_temp_C                         0\n",
       "carbon_monoxide_content_gramspersec    0\n",
       "Oil_Viscosity_cSt                      0\n",
       "Age_days                               0\n",
       "Machine_failure                        0\n",
       "dtype: int64"
      ]
     },
     "execution_count": 10,
     "metadata": {},
     "output_type": "execute_result"
    }
   ],
   "source": [
    "pd_data_1.isnull().sum(axis = 0)"
   ]
  },
  {
   "cell_type": "code",
   "execution_count": 11,
   "metadata": {},
   "outputs": [
    {
     "data": {
      "text/html": [
       "<div><div id=a57b27bb-7e4b-4842-a6f0-70055cfab694 style=\"display:none; background-color:#9D6CFF; color:white; width:200px; height:30px; padding-left:5px; border-radius:4px; flex-direction:row; justify-content:space-around; align-items:center;\" onmouseover=\"this.style.backgroundColor='#BA9BF8'\" onmouseout=\"this.style.backgroundColor='#9D6CFF'\" onclick=\"window.commands?.execute('create-mitosheet-from-dataframe-output');\">See Full Dataframe in Mito</div> <script> if (window.commands.hasCommand('create-mitosheet-from-dataframe-output')) document.getElementById('a57b27bb-7e4b-4842-a6f0-70055cfab694').style.display = 'flex' </script> <table border=\"1\" class=\"dataframe\">\n",
       "  <thead>\n",
       "    <tr style=\"text-align: right;\">\n",
       "      <th></th>\n",
       "      <th>ID</th>\n",
       "    </tr>\n",
       "    <tr>\n",
       "      <th>Machine_failure</th>\n",
       "      <th></th>\n",
       "    </tr>\n",
       "  </thead>\n",
       "  <tbody>\n",
       "    <tr>\n",
       "      <th>0</th>\n",
       "      <td>9661</td>\n",
       "    </tr>\n",
       "    <tr>\n",
       "      <th>1</th>\n",
       "      <td>339</td>\n",
       "    </tr>\n",
       "  </tbody>\n",
       "</table></div>"
      ],
      "text/plain": [
       "                   ID\n",
       "Machine_failure      \n",
       "0                9661\n",
       "1                 339"
      ]
     },
     "execution_count": 11,
     "metadata": {},
     "output_type": "execute_result"
    }
   ],
   "source": [
    "xxxx = pd.DataFrame(pd_data_1.groupby(['Machine_failure'])['ID'].agg('count'))\n",
    "xxxx"
   ]
  },
  {
   "cell_type": "code",
   "execution_count": 12,
   "metadata": {},
   "outputs": [
    {
     "data": {
      "text/html": [
       "<div><div id=2559eeeb-86df-4dc8-a57e-99946883800a style=\"display:none; background-color:#9D6CFF; color:white; width:200px; height:30px; padding-left:5px; border-radius:4px; flex-direction:row; justify-content:space-around; align-items:center;\" onmouseover=\"this.style.backgroundColor='#BA9BF8'\" onmouseout=\"this.style.backgroundColor='#9D6CFF'\" onclick=\"window.commands?.execute('create-mitosheet-from-dataframe-output');\">See Full Dataframe in Mito</div> <script> if (window.commands.hasCommand('create-mitosheet-from-dataframe-output')) document.getElementById('2559eeeb-86df-4dc8-a57e-99946883800a').style.display = 'flex' </script> <table border=\"1\" class=\"dataframe\">\n",
       "  <thead>\n",
       "    <tr style=\"text-align: right;\">\n",
       "      <th></th>\n",
       "      <th>UDI</th>\n",
       "      <th>Internal_Pressure_MPa</th>\n",
       "      <th>Battery_Charging_Current_A</th>\n",
       "      <th>coolant_temp_C</th>\n",
       "      <th>carbon_monoxide_content_gramspersec</th>\n",
       "      <th>Oil_Viscosity_cSt</th>\n",
       "      <th>Age_days</th>\n",
       "      <th>Machine_failure</th>\n",
       "    </tr>\n",
       "  </thead>\n",
       "  <tbody>\n",
       "    <tr>\n",
       "      <th>count</th>\n",
       "      <td>10000.00000</td>\n",
       "      <td>10000.000000</td>\n",
       "      <td>10000.000000</td>\n",
       "      <td>10000.000000</td>\n",
       "      <td>10000.000000</td>\n",
       "      <td>10000.000000</td>\n",
       "      <td>10000.000000</td>\n",
       "      <td>10000.000000</td>\n",
       "    </tr>\n",
       "    <tr>\n",
       "      <th>mean</th>\n",
       "      <td>5000.50000</td>\n",
       "      <td>40.004161</td>\n",
       "      <td>3.509621</td>\n",
       "      <td>96.308245</td>\n",
       "      <td>0.007158</td>\n",
       "      <td>8.997876</td>\n",
       "      <td>875.772900</td>\n",
       "      <td>0.033900</td>\n",
       "    </tr>\n",
       "    <tr>\n",
       "      <th>std</th>\n",
       "      <td>2886.89568</td>\n",
       "      <td>4.618268</td>\n",
       "      <td>0.863369</td>\n",
       "      <td>17.155702</td>\n",
       "      <td>0.001784</td>\n",
       "      <td>2.310666</td>\n",
       "      <td>31.802281</td>\n",
       "      <td>0.180981</td>\n",
       "    </tr>\n",
       "    <tr>\n",
       "      <th>min</th>\n",
       "      <td>1.00000</td>\n",
       "      <td>32.000742</td>\n",
       "      <td>2.000785</td>\n",
       "      <td>67.000362</td>\n",
       "      <td>0.000680</td>\n",
       "      <td>5.000335</td>\n",
       "      <td>822.000000</td>\n",
       "      <td>0.000000</td>\n",
       "    </tr>\n",
       "    <tr>\n",
       "      <th>25%</th>\n",
       "      <td>2500.75000</td>\n",
       "      <td>36.012740</td>\n",
       "      <td>2.765754</td>\n",
       "      <td>81.131280</td>\n",
       "      <td>0.005943</td>\n",
       "      <td>7.006941</td>\n",
       "      <td>848.000000</td>\n",
       "      <td>0.000000</td>\n",
       "    </tr>\n",
       "    <tr>\n",
       "      <th>50%</th>\n",
       "      <td>5000.50000</td>\n",
       "      <td>39.999792</td>\n",
       "      <td>3.513385</td>\n",
       "      <td>96.192088</td>\n",
       "      <td>0.007178</td>\n",
       "      <td>9.015949</td>\n",
       "      <td>876.000000</td>\n",
       "      <td>0.000000</td>\n",
       "    </tr>\n",
       "    <tr>\n",
       "      <th>75%</th>\n",
       "      <td>7500.25000</td>\n",
       "      <td>44.045324</td>\n",
       "      <td>4.258305</td>\n",
       "      <td>111.246484</td>\n",
       "      <td>0.008377</td>\n",
       "      <td>10.980296</td>\n",
       "      <td>903.000000</td>\n",
       "      <td>0.000000</td>\n",
       "    </tr>\n",
       "    <tr>\n",
       "      <th>max</th>\n",
       "      <td>10000.00000</td>\n",
       "      <td>47.998109</td>\n",
       "      <td>4.999683</td>\n",
       "      <td>125.993733</td>\n",
       "      <td>0.013711</td>\n",
       "      <td>12.999123</td>\n",
       "      <td>931.000000</td>\n",
       "      <td>1.000000</td>\n",
       "    </tr>\n",
       "  </tbody>\n",
       "</table></div>"
      ],
      "text/plain": [
       "               UDI  Internal_Pressure_MPa  Battery_Charging_Current_A  \\\n",
       "count  10000.00000           10000.000000                10000.000000   \n",
       "mean    5000.50000              40.004161                    3.509621   \n",
       "std     2886.89568               4.618268                    0.863369   \n",
       "min        1.00000              32.000742                    2.000785   \n",
       "25%     2500.75000              36.012740                    2.765754   \n",
       "50%     5000.50000              39.999792                    3.513385   \n",
       "75%     7500.25000              44.045324                    4.258305   \n",
       "max    10000.00000              47.998109                    4.999683   \n",
       "\n",
       "       coolant_temp_C  carbon_monoxide_content_gramspersec  Oil_Viscosity_cSt  \\\n",
       "count    10000.000000                         10000.000000       10000.000000   \n",
       "mean        96.308245                             0.007158           8.997876   \n",
       "std         17.155702                             0.001784           2.310666   \n",
       "min         67.000362                             0.000680           5.000335   \n",
       "25%         81.131280                             0.005943           7.006941   \n",
       "50%         96.192088                             0.007178           9.015949   \n",
       "75%        111.246484                             0.008377          10.980296   \n",
       "max        125.993733                             0.013711          12.999123   \n",
       "\n",
       "           Age_days  Machine_failure  \n",
       "count  10000.000000     10000.000000  \n",
       "mean     875.772900         0.033900  \n",
       "std       31.802281         0.180981  \n",
       "min      822.000000         0.000000  \n",
       "25%      848.000000         0.000000  \n",
       "50%      876.000000         0.000000  \n",
       "75%      903.000000         0.000000  \n",
       "max      931.000000         1.000000  "
      ]
     },
     "execution_count": 12,
     "metadata": {},
     "output_type": "execute_result"
    }
   ],
   "source": [
    "pd_data_1.describe()"
   ]
  },
  {
   "cell_type": "markdown",
   "metadata": {},
   "source": [
    "Analyze correlation between independent variables(sensor values) and dependent variable(machine failure)"
   ]
  },
  {
   "cell_type": "code",
   "execution_count": 13,
   "metadata": {},
   "outputs": [],
   "source": [
    "xxx=pd_data_1.corr( method='pearson')\n",
    "\n",
    "xxx=xxx[['Machine_failure']]\n",
    "xxx['ABS_EQUIPMENT_FAILURE']=abs(xxx['Machine_failure'])\n",
    "xxx=xxx.sort_values(by=['ABS_EQUIPMENT_FAILURE'], ascending=[False])"
   ]
  },
  {
   "cell_type": "code",
   "execution_count": 14,
   "metadata": {},
   "outputs": [
    {
     "data": {
      "text/html": [
       "<div><div id=a04dfa18-16ba-449d-8187-e77a21205a9d style=\"display:none; background-color:#9D6CFF; color:white; width:200px; height:30px; padding-left:5px; border-radius:4px; flex-direction:row; justify-content:space-around; align-items:center;\" onmouseover=\"this.style.backgroundColor='#BA9BF8'\" onmouseout=\"this.style.backgroundColor='#9D6CFF'\" onclick=\"window.commands?.execute('create-mitosheet-from-dataframe-output');\">See Full Dataframe in Mito</div> <script> if (window.commands.hasCommand('create-mitosheet-from-dataframe-output')) document.getElementById('a04dfa18-16ba-449d-8187-e77a21205a9d').style.display = 'flex' </script> <table border=\"1\" class=\"dataframe\">\n",
       "  <thead>\n",
       "    <tr style=\"text-align: right;\">\n",
       "      <th></th>\n",
       "      <th>Machine_failure</th>\n",
       "      <th>ABS_EQUIPMENT_FAILURE</th>\n",
       "    </tr>\n",
       "  </thead>\n",
       "  <tbody>\n",
       "    <tr>\n",
       "      <th>Machine_failure</th>\n",
       "      <td>1.000000</td>\n",
       "      <td>1.000000</td>\n",
       "    </tr>\n",
       "    <tr>\n",
       "      <th>carbon_monoxide_content_gramspersec</th>\n",
       "      <td>0.191321</td>\n",
       "      <td>0.191321</td>\n",
       "    </tr>\n",
       "    <tr>\n",
       "      <th>UDI</th>\n",
       "      <td>-0.022892</td>\n",
       "      <td>0.022892</td>\n",
       "    </tr>\n",
       "    <tr>\n",
       "      <th>Age_days</th>\n",
       "      <td>-0.016177</td>\n",
       "      <td>0.016177</td>\n",
       "    </tr>\n",
       "    <tr>\n",
       "      <th>Battery_Charging_Current_A</th>\n",
       "      <td>-0.011534</td>\n",
       "      <td>0.011534</td>\n",
       "    </tr>\n",
       "    <tr>\n",
       "      <th>Internal_Pressure_MPa</th>\n",
       "      <td>-0.009952</td>\n",
       "      <td>0.009952</td>\n",
       "    </tr>\n",
       "    <tr>\n",
       "      <th>coolant_temp_C</th>\n",
       "      <td>-0.006622</td>\n",
       "      <td>0.006622</td>\n",
       "    </tr>\n",
       "    <tr>\n",
       "      <th>Oil_Viscosity_cSt</th>\n",
       "      <td>-0.004875</td>\n",
       "      <td>0.004875</td>\n",
       "    </tr>\n",
       "  </tbody>\n",
       "</table></div>"
      ],
      "text/plain": [
       "                                     Machine_failure  ABS_EQUIPMENT_FAILURE\n",
       "Machine_failure                             1.000000               1.000000\n",
       "carbon_monoxide_content_gramspersec         0.191321               0.191321\n",
       "UDI                                        -0.022892               0.022892\n",
       "Age_days                                   -0.016177               0.016177\n",
       "Battery_Charging_Current_A                 -0.011534               0.011534\n",
       "Internal_Pressure_MPa                      -0.009952               0.009952\n",
       "coolant_temp_C                             -0.006622               0.006622\n",
       "Oil_Viscosity_cSt                          -0.004875               0.004875"
      ]
     },
     "execution_count": 14,
     "metadata": {},
     "output_type": "execute_result"
    }
   ],
   "source": [
    "xxx"
   ]
  },
  {
   "cell_type": "code",
   "execution_count": 15,
   "metadata": {},
   "outputs": [],
   "source": [
    "pd_data_1['Date'] = pd.to_datetime(pd_data_1['Date'])"
   ]
  },
  {
   "cell_type": "code",
   "execution_count": 16,
   "metadata": {},
   "outputs": [
    {
     "data": {
      "text/html": [
       "<div><div id=29e678bd-e7c9-45ec-9f43-b8a91235a3f0 style=\"display:none; background-color:#9D6CFF; color:white; width:200px; height:30px; padding-left:5px; border-radius:4px; flex-direction:row; justify-content:space-around; align-items:center;\" onmouseover=\"this.style.backgroundColor='#BA9BF8'\" onmouseout=\"this.style.backgroundColor='#9D6CFF'\" onclick=\"window.commands?.execute('create-mitosheet-from-dataframe-output');\">See Full Dataframe in Mito</div> <script> if (window.commands.hasCommand('create-mitosheet-from-dataframe-output')) document.getElementById('29e678bd-e7c9-45ec-9f43-b8a91235a3f0').style.display = 'flex' </script> <table border=\"1\" class=\"dataframe\">\n",
       "  <thead>\n",
       "    <tr style=\"text-align: right;\">\n",
       "      <th></th>\n",
       "      <th>UDI</th>\n",
       "      <th>Date</th>\n",
       "      <th>ID</th>\n",
       "      <th>Internal_Pressure_MPa</th>\n",
       "      <th>Battery_Charging_Current_A</th>\n",
       "      <th>coolant_temp_C</th>\n",
       "      <th>carbon_monoxide_content_gramspersec</th>\n",
       "      <th>Oil_Viscosity_cSt</th>\n",
       "      <th>Age_days</th>\n",
       "      <th>Machine_failure</th>\n",
       "      <th>flipper</th>\n",
       "    </tr>\n",
       "  </thead>\n",
       "  <tbody>\n",
       "    <tr>\n",
       "      <th>3000</th>\n",
       "      <td>3001</td>\n",
       "      <td>2002-07-23</td>\n",
       "      <td>H29424</td>\n",
       "      <td>34.431193</td>\n",
       "      <td>3.462948</td>\n",
       "      <td>122.633301</td>\n",
       "      <td>0.013031</td>\n",
       "      <td>9.277736</td>\n",
       "      <td>876</td>\n",
       "      <td>1</td>\n",
       "      <td>1</td>\n",
       "    </tr>\n",
       "    <tr>\n",
       "      <th>3001</th>\n",
       "      <td>3002</td>\n",
       "      <td>2002-07-24</td>\n",
       "      <td>H29424</td>\n",
       "      <td>33.254299</td>\n",
       "      <td>2.829795</td>\n",
       "      <td>70.210499</td>\n",
       "      <td>0.007858</td>\n",
       "      <td>10.926638</td>\n",
       "      <td>881</td>\n",
       "      <td>0</td>\n",
       "      <td>0</td>\n",
       "    </tr>\n",
       "    <tr>\n",
       "      <th>3002</th>\n",
       "      <td>3003</td>\n",
       "      <td>2002-07-25</td>\n",
       "      <td>H29424</td>\n",
       "      <td>44.122980</td>\n",
       "      <td>2.877520</td>\n",
       "      <td>89.261397</td>\n",
       "      <td>0.006963</td>\n",
       "      <td>8.228768</td>\n",
       "      <td>864</td>\n",
       "      <td>0</td>\n",
       "      <td>0</td>\n",
       "    </tr>\n",
       "    <tr>\n",
       "      <th>3003</th>\n",
       "      <td>3004</td>\n",
       "      <td>2002-07-26</td>\n",
       "      <td>H29424</td>\n",
       "      <td>42.620755</td>\n",
       "      <td>3.964376</td>\n",
       "      <td>78.984041</td>\n",
       "      <td>0.007590</td>\n",
       "      <td>11.114865</td>\n",
       "      <td>901</td>\n",
       "      <td>0</td>\n",
       "      <td>0</td>\n",
       "    </tr>\n",
       "    <tr>\n",
       "      <th>3004</th>\n",
       "      <td>3005</td>\n",
       "      <td>2002-07-27</td>\n",
       "      <td>H29424</td>\n",
       "      <td>37.651749</td>\n",
       "      <td>3.786467</td>\n",
       "      <td>87.421129</td>\n",
       "      <td>0.009523</td>\n",
       "      <td>5.877065</td>\n",
       "      <td>889</td>\n",
       "      <td>0</td>\n",
       "      <td>0</td>\n",
       "    </tr>\n",
       "  </tbody>\n",
       "</table></div>"
      ],
      "text/plain": [
       "       UDI       Date      ID  Internal_Pressure_MPa  \\\n",
       "3000  3001 2002-07-23  H29424              34.431193   \n",
       "3001  3002 2002-07-24  H29424              33.254299   \n",
       "3002  3003 2002-07-25  H29424              44.122980   \n",
       "3003  3004 2002-07-26  H29424              42.620755   \n",
       "3004  3005 2002-07-27  H29424              37.651749   \n",
       "\n",
       "      Battery_Charging_Current_A  coolant_temp_C  \\\n",
       "3000                    3.462948      122.633301   \n",
       "3001                    2.829795       70.210499   \n",
       "3002                    2.877520       89.261397   \n",
       "3003                    3.964376       78.984041   \n",
       "3004                    3.786467       87.421129   \n",
       "\n",
       "      carbon_monoxide_content_gramspersec  Oil_Viscosity_cSt  Age_days  \\\n",
       "3000                             0.013031           9.277736       876   \n",
       "3001                             0.007858          10.926638       881   \n",
       "3002                             0.006963           8.228768       864   \n",
       "3003                             0.007590          11.114865       901   \n",
       "3004                             0.009523           5.877065       889   \n",
       "\n",
       "      Machine_failure  flipper  \n",
       "3000                1        1  \n",
       "3001                0        0  \n",
       "3002                0        0  \n",
       "3003                0        0  \n",
       "3004                0        0  "
      ]
     },
     "execution_count": 16,
     "metadata": {},
     "output_type": "execute_result"
    }
   ],
   "source": [
    "pd_data_1=pd_data_1.sort_values(by=['ID','Date'], ascending=[True, True])\n",
    "\n",
    "pd_data_1['flipper'] = np.where((pd_data_1.ID != pd_data_1.ID.shift(1)), 1, 0)\n",
    "pd_data_1.head()"
   ]
  },
  {
   "cell_type": "code",
   "execution_count": 136,
   "metadata": {},
   "outputs": [],
   "source": [
    "#define feature window. This is the window by which we will aggregate sensor values for running means, max, min, etc.\n",
    "feature_window=28"
   ]
  },
  {
   "cell_type": "code",
   "execution_count": 18,
   "metadata": {},
   "outputs": [],
   "source": [
    "dfx=pd_data_1"
   ]
  },
  {
   "cell_type": "code",
   "execution_count": 19,
   "metadata": {},
   "outputs": [],
   "source": [
    "#Select the first record of each machine\n",
    "\n",
    "starter=dfx[dfx['flipper'] == 1]\n",
    "\n",
    "starter=starter[['Date','ID']]"
   ]
  },
  {
   "cell_type": "code",
   "execution_count": 20,
   "metadata": {},
   "outputs": [],
   "source": [
    "#rename date to start_date\n",
    "starter=starter.rename(index=str, columns={\"Date\": \"START_DATE\"})"
   ]
  },
  {
   "cell_type": "code",
   "execution_count": 21,
   "metadata": {},
   "outputs": [],
   "source": [
    "#convert START_DATE to date\n",
    "starter['START_DATE'] = pd.to_datetime(starter['START_DATE'])"
   ]
  },
  {
   "cell_type": "code",
   "execution_count": 22,
   "metadata": {},
   "outputs": [],
   "source": [
    "#Merge START_DATE to the original data set\n",
    "\n",
    "dfx=dfx.sort_values(by=['ID', 'Date'], ascending=[True, True])\n",
    "starter=starter.sort_values(by=['ID'], ascending=[True])\n",
    "dfx =dfx.merge(starter, on=['ID'], how='left')"
   ]
  },
  {
   "cell_type": "code",
   "execution_count": 23,
   "metadata": {},
   "outputs": [],
   "source": [
    "# calculate the number of days since the beginning of each well. \n",
    "dfx['C'] = dfx['Date'] - dfx['START_DATE']\n",
    "dfx['TIME_SINCE_START'] = dfx['C'] / np.timedelta64(1, 'D')\n",
    "dfx=dfx.drop(columns=['C'])\n",
    "dfx['too_soon'] = np.where((dfx.TIME_SINCE_START < feature_window) , 1, 0)"
   ]
  },
  {
   "cell_type": "markdown",
   "metadata": {},
   "source": [
    "Create a running mean, max, min, and median for the sensor variables."
   ]
  },
  {
   "cell_type": "code",
   "execution_count": 24,
   "metadata": {},
   "outputs": [
    {
     "data": {
      "text/html": [
       "<div><div id=2462d1f7-0d04-4893-a623-a28fad547c6e style=\"display:none; background-color:#9D6CFF; color:white; width:200px; height:30px; padding-left:5px; border-radius:4px; flex-direction:row; justify-content:space-around; align-items:center;\" onmouseover=\"this.style.backgroundColor='#BA9BF8'\" onmouseout=\"this.style.backgroundColor='#9D6CFF'\" onclick=\"window.commands?.execute('create-mitosheet-from-dataframe-output');\">See Full Dataframe in Mito</div> <script> if (window.commands.hasCommand('create-mitosheet-from-dataframe-output')) document.getElementById('2462d1f7-0d04-4893-a623-a28fad547c6e').style.display = 'flex' </script> <table border=\"1\" class=\"dataframe\">\n",
       "  <thead>\n",
       "    <tr style=\"text-align: right;\">\n",
       "      <th></th>\n",
       "      <th>UDI</th>\n",
       "      <th>Date</th>\n",
       "      <th>ID</th>\n",
       "      <th>Internal_Pressure_MPa</th>\n",
       "      <th>Battery_Charging_Current_A</th>\n",
       "      <th>coolant_temp_C</th>\n",
       "      <th>carbon_monoxide_content_gramspersec</th>\n",
       "      <th>Oil_Viscosity_cSt</th>\n",
       "      <th>Age_days</th>\n",
       "      <th>Machine_failure</th>\n",
       "      <th>...</th>\n",
       "      <th>ctemp_max</th>\n",
       "      <th>ctemp_min</th>\n",
       "      <th>CO_mean</th>\n",
       "      <th>CO_median</th>\n",
       "      <th>CO_max</th>\n",
       "      <th>CO_min</th>\n",
       "      <th>viscosity_mean</th>\n",
       "      <th>viscosity_median</th>\n",
       "      <th>viscosity_max</th>\n",
       "      <th>viscosity_min</th>\n",
       "    </tr>\n",
       "  </thead>\n",
       "  <tbody>\n",
       "    <tr>\n",
       "      <th>0</th>\n",
       "      <td>3001</td>\n",
       "      <td>2002-07-23</td>\n",
       "      <td>H29424</td>\n",
       "      <td>34.431193</td>\n",
       "      <td>3.462948</td>\n",
       "      <td>122.633301</td>\n",
       "      <td>0.013031</td>\n",
       "      <td>9.277736</td>\n",
       "      <td>876</td>\n",
       "      <td>1</td>\n",
       "      <td>...</td>\n",
       "      <td>122.633301</td>\n",
       "      <td>122.633301</td>\n",
       "      <td>0.013031</td>\n",
       "      <td>0.013031</td>\n",
       "      <td>0.013031</td>\n",
       "      <td>0.013031</td>\n",
       "      <td>9.277736</td>\n",
       "      <td>9.277736</td>\n",
       "      <td>9.277736</td>\n",
       "      <td>9.277736</td>\n",
       "    </tr>\n",
       "    <tr>\n",
       "      <th>1</th>\n",
       "      <td>3002</td>\n",
       "      <td>2002-07-24</td>\n",
       "      <td>H29424</td>\n",
       "      <td>33.254299</td>\n",
       "      <td>2.829795</td>\n",
       "      <td>70.210499</td>\n",
       "      <td>0.007858</td>\n",
       "      <td>10.926638</td>\n",
       "      <td>881</td>\n",
       "      <td>0</td>\n",
       "      <td>...</td>\n",
       "      <td>70.210499</td>\n",
       "      <td>70.210499</td>\n",
       "      <td>0.007858</td>\n",
       "      <td>0.007858</td>\n",
       "      <td>0.007858</td>\n",
       "      <td>0.007858</td>\n",
       "      <td>10.926638</td>\n",
       "      <td>10.926638</td>\n",
       "      <td>10.926638</td>\n",
       "      <td>10.926638</td>\n",
       "    </tr>\n",
       "    <tr>\n",
       "      <th>2</th>\n",
       "      <td>3003</td>\n",
       "      <td>2002-07-25</td>\n",
       "      <td>H29424</td>\n",
       "      <td>44.122980</td>\n",
       "      <td>2.877520</td>\n",
       "      <td>89.261397</td>\n",
       "      <td>0.006963</td>\n",
       "      <td>8.228768</td>\n",
       "      <td>864</td>\n",
       "      <td>0</td>\n",
       "      <td>...</td>\n",
       "      <td>89.261397</td>\n",
       "      <td>89.261397</td>\n",
       "      <td>0.006963</td>\n",
       "      <td>0.006963</td>\n",
       "      <td>0.006963</td>\n",
       "      <td>0.006963</td>\n",
       "      <td>8.228768</td>\n",
       "      <td>8.228768</td>\n",
       "      <td>8.228768</td>\n",
       "      <td>8.228768</td>\n",
       "    </tr>\n",
       "    <tr>\n",
       "      <th>3</th>\n",
       "      <td>3004</td>\n",
       "      <td>2002-07-26</td>\n",
       "      <td>H29424</td>\n",
       "      <td>42.620755</td>\n",
       "      <td>3.964376</td>\n",
       "      <td>78.984041</td>\n",
       "      <td>0.007590</td>\n",
       "      <td>11.114865</td>\n",
       "      <td>901</td>\n",
       "      <td>0</td>\n",
       "      <td>...</td>\n",
       "      <td>78.984041</td>\n",
       "      <td>78.984041</td>\n",
       "      <td>0.007590</td>\n",
       "      <td>0.007590</td>\n",
       "      <td>0.007590</td>\n",
       "      <td>0.007590</td>\n",
       "      <td>11.114865</td>\n",
       "      <td>11.114865</td>\n",
       "      <td>11.114865</td>\n",
       "      <td>11.114865</td>\n",
       "    </tr>\n",
       "    <tr>\n",
       "      <th>4</th>\n",
       "      <td>3005</td>\n",
       "      <td>2002-07-27</td>\n",
       "      <td>H29424</td>\n",
       "      <td>37.651749</td>\n",
       "      <td>3.786467</td>\n",
       "      <td>87.421129</td>\n",
       "      <td>0.009523</td>\n",
       "      <td>5.877065</td>\n",
       "      <td>889</td>\n",
       "      <td>0</td>\n",
       "      <td>...</td>\n",
       "      <td>87.421129</td>\n",
       "      <td>87.421129</td>\n",
       "      <td>0.009523</td>\n",
       "      <td>0.009523</td>\n",
       "      <td>0.009523</td>\n",
       "      <td>0.009523</td>\n",
       "      <td>5.877065</td>\n",
       "      <td>5.877065</td>\n",
       "      <td>5.877065</td>\n",
       "      <td>5.877065</td>\n",
       "    </tr>\n",
       "  </tbody>\n",
       "</table></div>"
      ],
      "text/plain": [
       "    UDI       Date      ID  Internal_Pressure_MPa  Battery_Charging_Current_A  \\\n",
       "0  3001 2002-07-23  H29424              34.431193                    3.462948   \n",
       "1  3002 2002-07-24  H29424              33.254299                    2.829795   \n",
       "2  3003 2002-07-25  H29424              44.122980                    2.877520   \n",
       "3  3004 2002-07-26  H29424              42.620755                    3.964376   \n",
       "4  3005 2002-07-27  H29424              37.651749                    3.786467   \n",
       "\n",
       "   coolant_temp_C  carbon_monoxide_content_gramspersec  Oil_Viscosity_cSt  \\\n",
       "0      122.633301                             0.013031           9.277736   \n",
       "1       70.210499                             0.007858          10.926638   \n",
       "2       89.261397                             0.006963           8.228768   \n",
       "3       78.984041                             0.007590          11.114865   \n",
       "4       87.421129                             0.009523           5.877065   \n",
       "\n",
       "   Age_days  Machine_failure  ...   ctemp_max   ctemp_min   CO_mean  \\\n",
       "0       876                1  ...  122.633301  122.633301  0.013031   \n",
       "1       881                0  ...   70.210499   70.210499  0.007858   \n",
       "2       864                0  ...   89.261397   89.261397  0.006963   \n",
       "3       901                0  ...   78.984041   78.984041  0.007590   \n",
       "4       889                0  ...   87.421129   87.421129  0.009523   \n",
       "\n",
       "   CO_median    CO_max    CO_min  viscosity_mean  viscosity_median  \\\n",
       "0   0.013031  0.013031  0.013031        9.277736          9.277736   \n",
       "1   0.007858  0.007858  0.007858       10.926638         10.926638   \n",
       "2   0.006963  0.006963  0.006963        8.228768          8.228768   \n",
       "3   0.007590  0.007590  0.007590       11.114865         11.114865   \n",
       "4   0.009523  0.009523  0.009523        5.877065          5.877065   \n",
       "\n",
       "   viscosity_max  viscosity_min  \n",
       "0       9.277736       9.277736  \n",
       "1      10.926638      10.926638  \n",
       "2       8.228768       8.228768  \n",
       "3      11.114865      11.114865  \n",
       "4       5.877065       5.877065  \n",
       "\n",
       "[5 rows x 34 columns]"
      ]
     },
     "execution_count": 24,
     "metadata": {},
     "output_type": "execute_result"
    }
   ],
   "source": [
    "dfx['pressure_mean'] = np.where((dfx.too_soon == 0),(dfx['Internal_Pressure_MPa'].rolling(min_periods=1, window=feature_window).mean()) , dfx.Internal_Pressure_MPa)\n",
    "dfx['pressure_median'] = np.where((dfx.too_soon == 0),(dfx['Internal_Pressure_MPa'].rolling(min_periods=1, window=feature_window).median()) , dfx.Internal_Pressure_MPa)\n",
    "dfx['pressure_max'] = np.where((dfx.too_soon == 0),(dfx['Internal_Pressure_MPa'].rolling(min_periods=1, window=feature_window).max()) , dfx.Internal_Pressure_MPa)\n",
    "dfx['pressure_min'] = np.where((dfx.too_soon == 0),(dfx['Internal_Pressure_MPa'].rolling(min_periods=1, window=feature_window).min()) , dfx.Internal_Pressure_MPa)\n",
    "\n",
    "dfx['current_mean'] = np.where((dfx.too_soon == 0),(dfx['Battery_Charging_Current_A'].rolling(min_periods=1, window=feature_window).mean()) , dfx.Battery_Charging_Current_A)\n",
    "dfx['current_median'] = np.where((dfx.too_soon == 0),(dfx['Battery_Charging_Current_A'].rolling(min_periods=1, window=feature_window).median()) , dfx.Battery_Charging_Current_A)\n",
    "dfx['current_max'] = np.where((dfx.too_soon == 0),(dfx['Battery_Charging_Current_A'].rolling(min_periods=1, window=feature_window).max()) , dfx.Battery_Charging_Current_A)\n",
    "dfx['current_min'] = np.where((dfx.too_soon == 0),(dfx['Battery_Charging_Current_A'].rolling(min_periods=1, window=feature_window).min()) , dfx.Battery_Charging_Current_A)\n",
    "\n",
    "dfx['ctemp_mean'] = np.where((dfx.too_soon == 0),(dfx['coolant_temp_C'].rolling(min_periods=1, window=feature_window).mean()) , dfx.coolant_temp_C)\n",
    "dfx['ctemp_median'] = np.where((dfx.too_soon == 0),(dfx['coolant_temp_C'].rolling(min_periods=1, window=feature_window).median()) , dfx.coolant_temp_C)\n",
    "dfx['ctemp_max'] = np.where((dfx.too_soon == 0),(dfx['coolant_temp_C'].rolling(min_periods=1, window=feature_window).max()) , dfx.coolant_temp_C)\n",
    "dfx['ctemp_min'] = np.where((dfx.too_soon == 0),(dfx['coolant_temp_C'].rolling(min_periods=1, window=feature_window).min()) , dfx.coolant_temp_C)\n",
    "\n",
    "dfx['CO_mean'] = np.where((dfx.too_soon == 0),(dfx['carbon_monoxide_content_gramspersec'].rolling(min_periods=1, window=feature_window).mean()) , dfx.carbon_monoxide_content_gramspersec)\n",
    "dfx['CO_median'] = np.where((dfx.too_soon == 0),(dfx['carbon_monoxide_content_gramspersec'].rolling(min_periods=1, window=feature_window).median()) , dfx.carbon_monoxide_content_gramspersec)\n",
    "dfx['CO_max'] = np.where((dfx.too_soon == 0),(dfx['carbon_monoxide_content_gramspersec'].rolling(min_periods=1, window=feature_window).max()) , dfx.carbon_monoxide_content_gramspersec)\n",
    "dfx['CO_min'] = np.where((dfx.too_soon == 0),(dfx['carbon_monoxide_content_gramspersec'].rolling(min_periods=1, window=feature_window).min()) , dfx.carbon_monoxide_content_gramspersec)\n",
    "\n",
    "dfx['viscosity_mean'] = np.where((dfx.too_soon == 0),(dfx['Oil_Viscosity_cSt'].rolling(min_periods=1, window=feature_window).mean()) , dfx.Oil_Viscosity_cSt)\n",
    "dfx['viscosity_median'] = np.where((dfx.too_soon == 0),(dfx['Oil_Viscosity_cSt'].rolling(min_periods=1, window=feature_window).median()) , dfx.Oil_Viscosity_cSt)\n",
    "dfx['viscosity_max'] = np.where((dfx.too_soon == 0),(dfx['Oil_Viscosity_cSt'].rolling(min_periods=1, window=feature_window).max()) , dfx.Oil_Viscosity_cSt)\n",
    "dfx['viscosity_min'] = np.where((dfx.too_soon == 0),(dfx['Oil_Viscosity_cSt'].rolling(min_periods=1, window=feature_window).min()) , dfx.Oil_Viscosity_cSt)\n",
    "\n",
    "\n",
    "\n",
    "dfx.head()"
   ]
  },
  {
   "cell_type": "markdown",
   "metadata": {},
   "source": [
    "Another useful transformation is to look for sudden spikes in sensor values. This code creates a value indicating how far the current value is from the immediate norm.\n"
   ]
  },
  {
   "cell_type": "code",
   "execution_count": 25,
   "metadata": {},
   "outputs": [],
   "source": [
    "dfx['pressure_chg'] = np.where((dfx.pressure_mean == 0),0 , dfx.Internal_Pressure_MPa/dfx.pressure_mean)\n",
    "dfx['current_chg'] = np.where((dfx.current_mean == 0),0 , dfx.Battery_Charging_Current_A/dfx.current_mean)\n",
    "dfx['ctemp_chg'] = np.where((dfx.ctemp_mean == 0),0 , dfx.coolant_temp_C/dfx.ctemp_mean)\n",
    "dfx['CO_chg'] = np.where((dfx.CO_mean == 0),0 , dfx.carbon_monoxide_content_gramspersec/dfx.CO_mean)\n",
    "dfx['viscosity_chg'] = np.where((dfx.viscosity_mean == 0),0 , dfx.Oil_Viscosity_cSt/dfx.viscosity_mean)"
   ]
  },
  {
   "cell_type": "code",
   "execution_count": 26,
   "metadata": {},
   "outputs": [],
   "source": [
    "#copy the data set to the original name\n",
    "pd_data_1=dfx"
   ]
  },
  {
   "cell_type": "markdown",
   "metadata": {},
   "source": [
    "Because machines generally last a long time, we typically do not have many examples of failure. This means the data sets we use in PM are almost always unbalanced.\n",
    "\n",
    "One way to increase the number of failures is to expand the failure or target window. That is, make the dependent variable, not just the day the equipment failed but the 28 days (or another appropriate interval) leading up to the failure."
   ]
  },
  {
   "cell_type": "code",
   "execution_count": 27,
   "metadata": {},
   "outputs": [],
   "source": [
    "target_window=28"
   ]
  },
  {
   "cell_type": "markdown",
   "metadata": {},
   "source": [
    "Sort the data and reset the index."
   ]
  },
  {
   "cell_type": "code",
   "execution_count": 28,
   "metadata": {},
   "outputs": [],
   "source": [
    "pd_data_1=pd_data_1.sort_values(by=['ID', 'Date'], ascending=[True, True])\n",
    "pd_data_1.reset_index(level=0, inplace=True)"
   ]
  },
  {
   "cell_type": "markdown",
   "metadata": {},
   "source": [
    "Create a new data frame that contains the failure records. Rename DATE to FAILURE_DATE"
   ]
  },
  {
   "cell_type": "code",
   "execution_count": 29,
   "metadata": {},
   "outputs": [],
   "source": [
    "df_failure_thingy=pd_data_1[pd_data_1['Machine_failure'] == 1]\n",
    "\n",
    "df_failure_thingy=df_failure_thingy[['Date','ID']]\n",
    "\n",
    "df_failure_thingy=df_failure_thingy.rename(index=str, columns={\"Date\": \"FAILURE_DATE\"})\n",
    "\n",
    "pd_data_1=pd_data_1.sort_values(by=['ID'], ascending=[True])\n",
    "df_failure_thingy=df_failure_thingy.sort_values(by=['ID'], ascending=[True])"
   ]
  },
  {
   "cell_type": "markdown",
   "metadata": {},
   "source": [
    "Append the FAILURE_DATE to each ID."
   ]
  },
  {
   "cell_type": "code",
   "execution_count": 30,
   "metadata": {},
   "outputs": [],
   "source": [
    "pd_data_1 =pd_data_1.merge(df_failure_thingy, on=['ID'], how='left')"
   ]
  },
  {
   "cell_type": "markdown",
   "metadata": {},
   "source": [
    "For each record, calculate the number of days until failure."
   ]
  },
  {
   "cell_type": "code",
   "execution_count": 31,
   "metadata": {},
   "outputs": [],
   "source": [
    "pd_data_1=pd_data_1.sort_values(by=['ID','Date'], ascending=[True, True])\n",
    "\n",
    "pd_data_1['FAILURE_DATE'] = pd.to_datetime(pd_data_1['FAILURE_DATE'])\n",
    "pd_data_1['Date'] = pd.to_datetime(pd_data_1['Date'])\n",
    "pd_data_1['C'] = pd_data_1['FAILURE_DATE'] - pd_data_1['Date']\n",
    "\n",
    "pd_data_1['TIME_TO_FAILURE'] = pd_data_1['C'] / np.timedelta64(1, 'D')"
   ]
  },
  {
   "cell_type": "markdown",
   "metadata": {},
   "source": [
    "Clean up and sort the records by ID and DATE"
   ]
  },
  {
   "cell_type": "code",
   "execution_count": 32,
   "metadata": {},
   "outputs": [],
   "source": [
    "pd_data_1=pd_data_1.drop(columns=['index'])"
   ]
  },
  {
   "cell_type": "code",
   "execution_count": 33,
   "metadata": {},
   "outputs": [],
   "source": [
    "pd_data_1=pd_data_1.sort_values(by=['ID', 'Date'], ascending=[True, True])"
   ]
  },
  {
   "cell_type": "code",
   "execution_count": 34,
   "metadata": {},
   "outputs": [],
   "source": [
    "pd_data_1.reset_index(inplace=True)"
   ]
  },
  {
   "cell_type": "code",
   "execution_count": 35,
   "metadata": {},
   "outputs": [
    {
     "data": {
      "text/html": [
       "<div><div id=628af847-a947-4609-a0ff-7912411aef37 style=\"display:none; background-color:#9D6CFF; color:white; width:200px; height:30px; padding-left:5px; border-radius:4px; flex-direction:row; justify-content:space-around; align-items:center;\" onmouseover=\"this.style.backgroundColor='#BA9BF8'\" onmouseout=\"this.style.backgroundColor='#9D6CFF'\" onclick=\"window.commands?.execute('create-mitosheet-from-dataframe-output');\">See Full Dataframe in Mito</div> <script> if (window.commands.hasCommand('create-mitosheet-from-dataframe-output')) document.getElementById('628af847-a947-4609-a0ff-7912411aef37').style.display = 'flex' </script> <table border=\"1\" class=\"dataframe\">\n",
       "  <thead>\n",
       "    <tr style=\"text-align: right;\">\n",
       "      <th></th>\n",
       "      <th>index</th>\n",
       "      <th>UDI</th>\n",
       "      <th>Date</th>\n",
       "      <th>ID</th>\n",
       "      <th>Internal_Pressure_MPa</th>\n",
       "      <th>Battery_Charging_Current_A</th>\n",
       "      <th>coolant_temp_C</th>\n",
       "      <th>carbon_monoxide_content_gramspersec</th>\n",
       "      <th>Oil_Viscosity_cSt</th>\n",
       "      <th>Age_days</th>\n",
       "      <th>...</th>\n",
       "      <th>viscosity_max</th>\n",
       "      <th>viscosity_min</th>\n",
       "      <th>pressure_chg</th>\n",
       "      <th>current_chg</th>\n",
       "      <th>ctemp_chg</th>\n",
       "      <th>CO_chg</th>\n",
       "      <th>viscosity_chg</th>\n",
       "      <th>FAILURE_DATE</th>\n",
       "      <th>C</th>\n",
       "      <th>TIME_TO_FAILURE</th>\n",
       "    </tr>\n",
       "  </thead>\n",
       "  <tbody>\n",
       "    <tr>\n",
       "      <th>0</th>\n",
       "      <td>0</td>\n",
       "      <td>3001</td>\n",
       "      <td>2002-07-23</td>\n",
       "      <td>H29424</td>\n",
       "      <td>34.431193</td>\n",
       "      <td>3.462948</td>\n",
       "      <td>122.633301</td>\n",
       "      <td>0.013031</td>\n",
       "      <td>9.277736</td>\n",
       "      <td>876</td>\n",
       "      <td>...</td>\n",
       "      <td>9.277736</td>\n",
       "      <td>9.277736</td>\n",
       "      <td>1.0</td>\n",
       "      <td>1.0</td>\n",
       "      <td>1.0</td>\n",
       "      <td>1.0</td>\n",
       "      <td>1.0</td>\n",
       "      <td>2002-07-23</td>\n",
       "      <td>0 days</td>\n",
       "      <td>0.0</td>\n",
       "    </tr>\n",
       "    <tr>\n",
       "      <th>1</th>\n",
       "      <td>1</td>\n",
       "      <td>3001</td>\n",
       "      <td>2002-07-23</td>\n",
       "      <td>H29424</td>\n",
       "      <td>34.431193</td>\n",
       "      <td>3.462948</td>\n",
       "      <td>122.633301</td>\n",
       "      <td>0.013031</td>\n",
       "      <td>9.277736</td>\n",
       "      <td>876</td>\n",
       "      <td>...</td>\n",
       "      <td>9.277736</td>\n",
       "      <td>9.277736</td>\n",
       "      <td>1.0</td>\n",
       "      <td>1.0</td>\n",
       "      <td>1.0</td>\n",
       "      <td>1.0</td>\n",
       "      <td>1.0</td>\n",
       "      <td>2005-02-20</td>\n",
       "      <td>943 days</td>\n",
       "      <td>943.0</td>\n",
       "    </tr>\n",
       "    <tr>\n",
       "      <th>2</th>\n",
       "      <td>2</td>\n",
       "      <td>3001</td>\n",
       "      <td>2002-07-23</td>\n",
       "      <td>H29424</td>\n",
       "      <td>34.431193</td>\n",
       "      <td>3.462948</td>\n",
       "      <td>122.633301</td>\n",
       "      <td>0.013031</td>\n",
       "      <td>9.277736</td>\n",
       "      <td>876</td>\n",
       "      <td>...</td>\n",
       "      <td>9.277736</td>\n",
       "      <td>9.277736</td>\n",
       "      <td>1.0</td>\n",
       "      <td>1.0</td>\n",
       "      <td>1.0</td>\n",
       "      <td>1.0</td>\n",
       "      <td>1.0</td>\n",
       "      <td>2005-02-12</td>\n",
       "      <td>935 days</td>\n",
       "      <td>935.0</td>\n",
       "    </tr>\n",
       "    <tr>\n",
       "      <th>3</th>\n",
       "      <td>3</td>\n",
       "      <td>3001</td>\n",
       "      <td>2002-07-23</td>\n",
       "      <td>H29424</td>\n",
       "      <td>34.431193</td>\n",
       "      <td>3.462948</td>\n",
       "      <td>122.633301</td>\n",
       "      <td>0.013031</td>\n",
       "      <td>9.277736</td>\n",
       "      <td>876</td>\n",
       "      <td>...</td>\n",
       "      <td>9.277736</td>\n",
       "      <td>9.277736</td>\n",
       "      <td>1.0</td>\n",
       "      <td>1.0</td>\n",
       "      <td>1.0</td>\n",
       "      <td>1.0</td>\n",
       "      <td>1.0</td>\n",
       "      <td>2005-02-05</td>\n",
       "      <td>928 days</td>\n",
       "      <td>928.0</td>\n",
       "    </tr>\n",
       "    <tr>\n",
       "      <th>4</th>\n",
       "      <td>4</td>\n",
       "      <td>3001</td>\n",
       "      <td>2002-07-23</td>\n",
       "      <td>H29424</td>\n",
       "      <td>34.431193</td>\n",
       "      <td>3.462948</td>\n",
       "      <td>122.633301</td>\n",
       "      <td>0.013031</td>\n",
       "      <td>9.277736</td>\n",
       "      <td>876</td>\n",
       "      <td>...</td>\n",
       "      <td>9.277736</td>\n",
       "      <td>9.277736</td>\n",
       "      <td>1.0</td>\n",
       "      <td>1.0</td>\n",
       "      <td>1.0</td>\n",
       "      <td>1.0</td>\n",
       "      <td>1.0</td>\n",
       "      <td>2004-12-06</td>\n",
       "      <td>867 days</td>\n",
       "      <td>867.0</td>\n",
       "    </tr>\n",
       "  </tbody>\n",
       "</table></div>"
      ],
      "text/plain": [
       "   index   UDI       Date      ID  Internal_Pressure_MPa  \\\n",
       "0      0  3001 2002-07-23  H29424              34.431193   \n",
       "1      1  3001 2002-07-23  H29424              34.431193   \n",
       "2      2  3001 2002-07-23  H29424              34.431193   \n",
       "3      3  3001 2002-07-23  H29424              34.431193   \n",
       "4      4  3001 2002-07-23  H29424              34.431193   \n",
       "\n",
       "   Battery_Charging_Current_A  coolant_temp_C  \\\n",
       "0                    3.462948      122.633301   \n",
       "1                    3.462948      122.633301   \n",
       "2                    3.462948      122.633301   \n",
       "3                    3.462948      122.633301   \n",
       "4                    3.462948      122.633301   \n",
       "\n",
       "   carbon_monoxide_content_gramspersec  Oil_Viscosity_cSt  Age_days  ...  \\\n",
       "0                             0.013031           9.277736       876  ...   \n",
       "1                             0.013031           9.277736       876  ...   \n",
       "2                             0.013031           9.277736       876  ...   \n",
       "3                             0.013031           9.277736       876  ...   \n",
       "4                             0.013031           9.277736       876  ...   \n",
       "\n",
       "   viscosity_max  viscosity_min pressure_chg  current_chg  ctemp_chg  CO_chg  \\\n",
       "0       9.277736       9.277736          1.0          1.0        1.0     1.0   \n",
       "1       9.277736       9.277736          1.0          1.0        1.0     1.0   \n",
       "2       9.277736       9.277736          1.0          1.0        1.0     1.0   \n",
       "3       9.277736       9.277736          1.0          1.0        1.0     1.0   \n",
       "4       9.277736       9.277736          1.0          1.0        1.0     1.0   \n",
       "\n",
       "   viscosity_chg  FAILURE_DATE        C  TIME_TO_FAILURE  \n",
       "0            1.0    2002-07-23   0 days              0.0  \n",
       "1            1.0    2005-02-20 943 days            943.0  \n",
       "2            1.0    2005-02-12 935 days            935.0  \n",
       "3            1.0    2005-02-05 928 days            928.0  \n",
       "4            1.0    2004-12-06 867 days            867.0  \n",
       "\n",
       "[5 rows x 43 columns]"
      ]
     },
     "execution_count": 35,
     "metadata": {},
     "output_type": "execute_result"
    }
   ],
   "source": [
    "pd_data_1.head()"
   ]
  },
  {
   "cell_type": "markdown",
   "metadata": {},
   "source": [
    "Create a new variable, FAILURE_TARGET. It is equal to 1 if the record proceeds a failure by \"failure_window\" days or less."
   ]
  },
  {
   "cell_type": "code",
   "execution_count": 36,
   "metadata": {},
   "outputs": [
    {
     "data": {
      "text/html": [
       "<div><div id=ae751db1-88b2-4c61-bb3d-67d14264d3b5 style=\"display:none; background-color:#9D6CFF; color:white; width:200px; height:30px; padding-left:5px; border-radius:4px; flex-direction:row; justify-content:space-around; align-items:center;\" onmouseover=\"this.style.backgroundColor='#BA9BF8'\" onmouseout=\"this.style.backgroundColor='#9D6CFF'\" onclick=\"window.commands?.execute('create-mitosheet-from-dataframe-output');\">See Full Dataframe in Mito</div> <script> if (window.commands.hasCommand('create-mitosheet-from-dataframe-output')) document.getElementById('ae751db1-88b2-4c61-bb3d-67d14264d3b5').style.display = 'flex' </script> <table border=\"1\" class=\"dataframe\">\n",
       "  <thead>\n",
       "    <tr style=\"text-align: right;\">\n",
       "      <th></th>\n",
       "      <th>index</th>\n",
       "      <th>UDI</th>\n",
       "      <th>Date</th>\n",
       "      <th>ID</th>\n",
       "      <th>Internal_Pressure_MPa</th>\n",
       "      <th>Battery_Charging_Current_A</th>\n",
       "      <th>coolant_temp_C</th>\n",
       "      <th>carbon_monoxide_content_gramspersec</th>\n",
       "      <th>Oil_Viscosity_cSt</th>\n",
       "      <th>Age_days</th>\n",
       "      <th>...</th>\n",
       "      <th>viscosity_min</th>\n",
       "      <th>pressure_chg</th>\n",
       "      <th>current_chg</th>\n",
       "      <th>ctemp_chg</th>\n",
       "      <th>CO_chg</th>\n",
       "      <th>viscosity_chg</th>\n",
       "      <th>FAILURE_DATE</th>\n",
       "      <th>C</th>\n",
       "      <th>TIME_TO_FAILURE</th>\n",
       "      <th>FAILURE_TARGET</th>\n",
       "    </tr>\n",
       "  </thead>\n",
       "  <tbody>\n",
       "    <tr>\n",
       "      <th>0</th>\n",
       "      <td>0</td>\n",
       "      <td>3001</td>\n",
       "      <td>2002-07-23</td>\n",
       "      <td>H29424</td>\n",
       "      <td>34.431193</td>\n",
       "      <td>3.462948</td>\n",
       "      <td>122.633301</td>\n",
       "      <td>0.013031</td>\n",
       "      <td>9.277736</td>\n",
       "      <td>876</td>\n",
       "      <td>...</td>\n",
       "      <td>9.277736</td>\n",
       "      <td>1.0</td>\n",
       "      <td>1.0</td>\n",
       "      <td>1.0</td>\n",
       "      <td>1.0</td>\n",
       "      <td>1.0</td>\n",
       "      <td>2002-07-23</td>\n",
       "      <td>0 days</td>\n",
       "      <td>0.0</td>\n",
       "      <td>1</td>\n",
       "    </tr>\n",
       "    <tr>\n",
       "      <th>1</th>\n",
       "      <td>1</td>\n",
       "      <td>3001</td>\n",
       "      <td>2002-07-23</td>\n",
       "      <td>H29424</td>\n",
       "      <td>34.431193</td>\n",
       "      <td>3.462948</td>\n",
       "      <td>122.633301</td>\n",
       "      <td>0.013031</td>\n",
       "      <td>9.277736</td>\n",
       "      <td>876</td>\n",
       "      <td>...</td>\n",
       "      <td>9.277736</td>\n",
       "      <td>1.0</td>\n",
       "      <td>1.0</td>\n",
       "      <td>1.0</td>\n",
       "      <td>1.0</td>\n",
       "      <td>1.0</td>\n",
       "      <td>2005-02-20</td>\n",
       "      <td>943 days</td>\n",
       "      <td>943.0</td>\n",
       "      <td>0</td>\n",
       "    </tr>\n",
       "    <tr>\n",
       "      <th>2</th>\n",
       "      <td>2</td>\n",
       "      <td>3001</td>\n",
       "      <td>2002-07-23</td>\n",
       "      <td>H29424</td>\n",
       "      <td>34.431193</td>\n",
       "      <td>3.462948</td>\n",
       "      <td>122.633301</td>\n",
       "      <td>0.013031</td>\n",
       "      <td>9.277736</td>\n",
       "      <td>876</td>\n",
       "      <td>...</td>\n",
       "      <td>9.277736</td>\n",
       "      <td>1.0</td>\n",
       "      <td>1.0</td>\n",
       "      <td>1.0</td>\n",
       "      <td>1.0</td>\n",
       "      <td>1.0</td>\n",
       "      <td>2005-02-12</td>\n",
       "      <td>935 days</td>\n",
       "      <td>935.0</td>\n",
       "      <td>0</td>\n",
       "    </tr>\n",
       "    <tr>\n",
       "      <th>3</th>\n",
       "      <td>3</td>\n",
       "      <td>3001</td>\n",
       "      <td>2002-07-23</td>\n",
       "      <td>H29424</td>\n",
       "      <td>34.431193</td>\n",
       "      <td>3.462948</td>\n",
       "      <td>122.633301</td>\n",
       "      <td>0.013031</td>\n",
       "      <td>9.277736</td>\n",
       "      <td>876</td>\n",
       "      <td>...</td>\n",
       "      <td>9.277736</td>\n",
       "      <td>1.0</td>\n",
       "      <td>1.0</td>\n",
       "      <td>1.0</td>\n",
       "      <td>1.0</td>\n",
       "      <td>1.0</td>\n",
       "      <td>2005-02-05</td>\n",
       "      <td>928 days</td>\n",
       "      <td>928.0</td>\n",
       "      <td>0</td>\n",
       "    </tr>\n",
       "    <tr>\n",
       "      <th>4</th>\n",
       "      <td>4</td>\n",
       "      <td>3001</td>\n",
       "      <td>2002-07-23</td>\n",
       "      <td>H29424</td>\n",
       "      <td>34.431193</td>\n",
       "      <td>3.462948</td>\n",
       "      <td>122.633301</td>\n",
       "      <td>0.013031</td>\n",
       "      <td>9.277736</td>\n",
       "      <td>876</td>\n",
       "      <td>...</td>\n",
       "      <td>9.277736</td>\n",
       "      <td>1.0</td>\n",
       "      <td>1.0</td>\n",
       "      <td>1.0</td>\n",
       "      <td>1.0</td>\n",
       "      <td>1.0</td>\n",
       "      <td>2004-12-06</td>\n",
       "      <td>867 days</td>\n",
       "      <td>867.0</td>\n",
       "      <td>0</td>\n",
       "    </tr>\n",
       "  </tbody>\n",
       "</table></div>"
      ],
      "text/plain": [
       "   index   UDI       Date      ID  Internal_Pressure_MPa  \\\n",
       "0      0  3001 2002-07-23  H29424              34.431193   \n",
       "1      1  3001 2002-07-23  H29424              34.431193   \n",
       "2      2  3001 2002-07-23  H29424              34.431193   \n",
       "3      3  3001 2002-07-23  H29424              34.431193   \n",
       "4      4  3001 2002-07-23  H29424              34.431193   \n",
       "\n",
       "   Battery_Charging_Current_A  coolant_temp_C  \\\n",
       "0                    3.462948      122.633301   \n",
       "1                    3.462948      122.633301   \n",
       "2                    3.462948      122.633301   \n",
       "3                    3.462948      122.633301   \n",
       "4                    3.462948      122.633301   \n",
       "\n",
       "   carbon_monoxide_content_gramspersec  Oil_Viscosity_cSt  Age_days  ...  \\\n",
       "0                             0.013031           9.277736       876  ...   \n",
       "1                             0.013031           9.277736       876  ...   \n",
       "2                             0.013031           9.277736       876  ...   \n",
       "3                             0.013031           9.277736       876  ...   \n",
       "4                             0.013031           9.277736       876  ...   \n",
       "\n",
       "   viscosity_min  pressure_chg current_chg  ctemp_chg  CO_chg  viscosity_chg  \\\n",
       "0       9.277736           1.0         1.0        1.0     1.0            1.0   \n",
       "1       9.277736           1.0         1.0        1.0     1.0            1.0   \n",
       "2       9.277736           1.0         1.0        1.0     1.0            1.0   \n",
       "3       9.277736           1.0         1.0        1.0     1.0            1.0   \n",
       "4       9.277736           1.0         1.0        1.0     1.0            1.0   \n",
       "\n",
       "   FAILURE_DATE        C  TIME_TO_FAILURE  FAILURE_TARGET  \n",
       "0    2002-07-23   0 days              0.0               1  \n",
       "1    2005-02-20 943 days            943.0               0  \n",
       "2    2005-02-12 935 days            935.0               0  \n",
       "3    2005-02-05 928 days            928.0               0  \n",
       "4    2004-12-06 867 days            867.0               0  \n",
       "\n",
       "[5 rows x 44 columns]"
      ]
     },
     "execution_count": 36,
     "metadata": {},
     "output_type": "execute_result"
    }
   ],
   "source": [
    "pd_data_1['FAILURE_TARGET'] = np.where(((pd_data_1.TIME_TO_FAILURE < target_window) & ((pd_data_1.TIME_TO_FAILURE>=0))), 1, 0)\n",
    "\n",
    "pd_data_1.head()"
   ]
  },
  {
   "cell_type": "code",
   "execution_count": 37,
   "metadata": {},
   "outputs": [
    {
     "data": {
      "text/plain": [
       "FAILURE_TARGET\n",
       "0    329659\n",
       "1      9341\n",
       "Name: Internal_Pressure_MPa, dtype: int64"
      ]
     },
     "execution_count": 37,
     "metadata": {},
     "output_type": "execute_result"
    }
   ],
   "source": [
    "tips_summed = pd_data_1.groupby(['FAILURE_TARGET'])['Internal_Pressure_MPa'].count()\n",
    "tips_summed"
   ]
  },
  {
   "cell_type": "markdown",
   "metadata": {},
   "source": [
    "The new field occurs about 2.8% of the time."
   ]
  },
  {
   "cell_type": "code",
   "execution_count": 38,
   "metadata": {},
   "outputs": [
    {
     "data": {
      "text/plain": [
       "0.02755457227138643"
      ]
     },
     "execution_count": 38,
     "metadata": {},
     "output_type": "execute_result"
    }
   ],
   "source": [
    "pd_data_1['FAILURE_TARGET'].mean()"
   ]
  },
  {
   "cell_type": "markdown",
   "metadata": {},
   "source": [
    " use SMOTE to increase the number of failures synthetically then split data into training, testing, and a validation sample "
   ]
  },
  {
   "cell_type": "markdown",
   "metadata": {},
   "source": [
    "randomly select IDs and place all of the records for each machine in either the training, testing, or validation data set."
   ]
  },
  {
   "cell_type": "code",
   "execution_count": 39,
   "metadata": {},
   "outputs": [
    {
     "data": {
      "text/plain": [
       "(10, 1)"
      ]
     },
     "execution_count": 39,
     "metadata": {},
     "output_type": "execute_result"
    }
   ],
   "source": [
    "#Get a Unique List of All IDs \n",
    "\n",
    "\n",
    "aa=pd_data_1\n",
    "\n",
    "pd_id=aa.drop_duplicates(subset='ID')\n",
    "pd_id=pd_id[['ID']]\n",
    "pd_id.shape"
   ]
  },
  {
   "cell_type": "markdown",
   "metadata": {},
   "source": [
    "Create a new variable with a random number between 0 and 1"
   ]
  },
  {
   "cell_type": "code",
   "execution_count": 40,
   "metadata": {},
   "outputs": [],
   "source": [
    "np.random.seed(42)"
   ]
  },
  {
   "cell_type": "code",
   "execution_count": 41,
   "metadata": {},
   "outputs": [],
   "source": [
    "pd_id['wookie'] = (np.random.randint(0, 10000, pd_id.shape[0]))/10000"
   ]
  },
  {
   "cell_type": "code",
   "execution_count": 42,
   "metadata": {},
   "outputs": [],
   "source": [
    "pd_id=pd_id[['ID', 'wookie']]"
   ]
  },
  {
   "cell_type": "markdown",
   "metadata": {},
   "source": [
    "Give each record a 30% chance of being in the validation, a 35% chance of being in the testing, and a 35% chance of being in the training data set."
   ]
  },
  {
   "cell_type": "code",
   "execution_count": 43,
   "metadata": {},
   "outputs": [],
   "source": [
    "pd_id['MODELING_GROUP'] = np.where(((pd_id.wookie <= 0.35)), 'TRAINING', np.where(((pd_id.wookie <= 0.65)), 'VALIDATION', 'TESTING'))"
   ]
  },
  {
   "cell_type": "markdown",
   "metadata": {},
   "source": [
    "This is how many machines fall in each group."
   ]
  },
  {
   "cell_type": "code",
   "execution_count": 44,
   "metadata": {},
   "outputs": [
    {
     "data": {
      "text/plain": [
       "MODELING_GROUP\n",
       "TESTING       2\n",
       "TRAINING      2\n",
       "VALIDATION    6\n",
       "Name: wookie, dtype: int64"
      ]
     },
     "execution_count": 44,
     "metadata": {},
     "output_type": "execute_result"
    }
   ],
   "source": [
    "tips_summed = pd_id.groupby(['MODELING_GROUP'])['wookie'].count()\n",
    "tips_summed"
   ]
  },
  {
   "cell_type": "markdown",
   "metadata": {},
   "source": [
    "Append the Group of each id to each individual record."
   ]
  },
  {
   "cell_type": "code",
   "execution_count": 45,
   "metadata": {},
   "outputs": [],
   "source": [
    "pd_data_1=pd_data_1.sort_values(by=['ID'], ascending=[True])\n",
    "pd_id=pd_id.sort_values(by=['ID'], ascending=[True])"
   ]
  },
  {
   "cell_type": "code",
   "execution_count": 46,
   "metadata": {},
   "outputs": [
    {
     "data": {
      "text/html": [
       "<div><div id=3d38a4a1-35ca-439a-b1e9-64c22060d09e style=\"display:none; background-color:#9D6CFF; color:white; width:200px; height:30px; padding-left:5px; border-radius:4px; flex-direction:row; justify-content:space-around; align-items:center;\" onmouseover=\"this.style.backgroundColor='#BA9BF8'\" onmouseout=\"this.style.backgroundColor='#9D6CFF'\" onclick=\"window.commands?.execute('create-mitosheet-from-dataframe-output');\">See Full Dataframe in Mito</div> <script> if (window.commands.hasCommand('create-mitosheet-from-dataframe-output')) document.getElementById('3d38a4a1-35ca-439a-b1e9-64c22060d09e').style.display = 'flex' </script> <table border=\"1\" class=\"dataframe\">\n",
       "  <thead>\n",
       "    <tr style=\"text-align: right;\">\n",
       "      <th></th>\n",
       "      <th>index</th>\n",
       "      <th>UDI</th>\n",
       "      <th>Date</th>\n",
       "      <th>ID</th>\n",
       "      <th>Internal_Pressure_MPa</th>\n",
       "      <th>Battery_Charging_Current_A</th>\n",
       "      <th>coolant_temp_C</th>\n",
       "      <th>carbon_monoxide_content_gramspersec</th>\n",
       "      <th>Oil_Viscosity_cSt</th>\n",
       "      <th>Age_days</th>\n",
       "      <th>...</th>\n",
       "      <th>current_chg</th>\n",
       "      <th>ctemp_chg</th>\n",
       "      <th>CO_chg</th>\n",
       "      <th>viscosity_chg</th>\n",
       "      <th>FAILURE_DATE</th>\n",
       "      <th>C</th>\n",
       "      <th>TIME_TO_FAILURE</th>\n",
       "      <th>FAILURE_TARGET</th>\n",
       "      <th>wookie</th>\n",
       "      <th>MODELING_GROUP</th>\n",
       "    </tr>\n",
       "  </thead>\n",
       "  <tbody>\n",
       "    <tr>\n",
       "      <th>0</th>\n",
       "      <td>0</td>\n",
       "      <td>3001</td>\n",
       "      <td>2002-07-23</td>\n",
       "      <td>H29424</td>\n",
       "      <td>34.431193</td>\n",
       "      <td>3.462948</td>\n",
       "      <td>122.633301</td>\n",
       "      <td>0.013031</td>\n",
       "      <td>9.277736</td>\n",
       "      <td>876</td>\n",
       "      <td>...</td>\n",
       "      <td>1.000000</td>\n",
       "      <td>1.00000</td>\n",
       "      <td>1.000000</td>\n",
       "      <td>1.000000</td>\n",
       "      <td>2002-07-23</td>\n",
       "      <td>0 days</td>\n",
       "      <td>0.0</td>\n",
       "      <td>1</td>\n",
       "      <td>0.727</td>\n",
       "      <td>TESTING</td>\n",
       "    </tr>\n",
       "    <tr>\n",
       "      <th>1</th>\n",
       "      <td>268</td>\n",
       "      <td>3667</td>\n",
       "      <td>2004-05-19</td>\n",
       "      <td>H29424</td>\n",
       "      <td>41.846119</td>\n",
       "      <td>4.953185</td>\n",
       "      <td>74.686898</td>\n",
       "      <td>0.007142</td>\n",
       "      <td>6.473876</td>\n",
       "      <td>882</td>\n",
       "      <td>...</td>\n",
       "      <td>1.332434</td>\n",
       "      <td>0.79974</td>\n",
       "      <td>0.991216</td>\n",
       "      <td>0.745969</td>\n",
       "      <td>2004-02-22</td>\n",
       "      <td>-87 days</td>\n",
       "      <td>-87.0</td>\n",
       "      <td>0</td>\n",
       "      <td>0.727</td>\n",
       "      <td>TESTING</td>\n",
       "    </tr>\n",
       "    <tr>\n",
       "      <th>2</th>\n",
       "      <td>267</td>\n",
       "      <td>3667</td>\n",
       "      <td>2004-05-19</td>\n",
       "      <td>H29424</td>\n",
       "      <td>41.846119</td>\n",
       "      <td>4.953185</td>\n",
       "      <td>74.686898</td>\n",
       "      <td>0.007142</td>\n",
       "      <td>6.473876</td>\n",
       "      <td>882</td>\n",
       "      <td>...</td>\n",
       "      <td>1.332434</td>\n",
       "      <td>0.79974</td>\n",
       "      <td>0.991216</td>\n",
       "      <td>0.745969</td>\n",
       "      <td>2004-01-03</td>\n",
       "      <td>-137 days</td>\n",
       "      <td>-137.0</td>\n",
       "      <td>0</td>\n",
       "      <td>0.727</td>\n",
       "      <td>TESTING</td>\n",
       "    </tr>\n",
       "    <tr>\n",
       "      <th>3</th>\n",
       "      <td>266</td>\n",
       "      <td>3667</td>\n",
       "      <td>2004-05-19</td>\n",
       "      <td>H29424</td>\n",
       "      <td>41.846119</td>\n",
       "      <td>4.953185</td>\n",
       "      <td>74.686898</td>\n",
       "      <td>0.007142</td>\n",
       "      <td>6.473876</td>\n",
       "      <td>882</td>\n",
       "      <td>...</td>\n",
       "      <td>1.332434</td>\n",
       "      <td>0.79974</td>\n",
       "      <td>0.991216</td>\n",
       "      <td>0.745969</td>\n",
       "      <td>2004-01-02</td>\n",
       "      <td>-138 days</td>\n",
       "      <td>-138.0</td>\n",
       "      <td>0</td>\n",
       "      <td>0.727</td>\n",
       "      <td>TESTING</td>\n",
       "    </tr>\n",
       "    <tr>\n",
       "      <th>4</th>\n",
       "      <td>265</td>\n",
       "      <td>3667</td>\n",
       "      <td>2004-05-19</td>\n",
       "      <td>H29424</td>\n",
       "      <td>41.846119</td>\n",
       "      <td>4.953185</td>\n",
       "      <td>74.686898</td>\n",
       "      <td>0.007142</td>\n",
       "      <td>6.473876</td>\n",
       "      <td>882</td>\n",
       "      <td>...</td>\n",
       "      <td>1.332434</td>\n",
       "      <td>0.79974</td>\n",
       "      <td>0.991216</td>\n",
       "      <td>0.745969</td>\n",
       "      <td>2003-10-23</td>\n",
       "      <td>-209 days</td>\n",
       "      <td>-209.0</td>\n",
       "      <td>0</td>\n",
       "      <td>0.727</td>\n",
       "      <td>TESTING</td>\n",
       "    </tr>\n",
       "  </tbody>\n",
       "</table></div>"
      ],
      "text/plain": [
       "   index   UDI       Date      ID  Internal_Pressure_MPa  \\\n",
       "0      0  3001 2002-07-23  H29424              34.431193   \n",
       "1    268  3667 2004-05-19  H29424              41.846119   \n",
       "2    267  3667 2004-05-19  H29424              41.846119   \n",
       "3    266  3667 2004-05-19  H29424              41.846119   \n",
       "4    265  3667 2004-05-19  H29424              41.846119   \n",
       "\n",
       "   Battery_Charging_Current_A  coolant_temp_C  \\\n",
       "0                    3.462948      122.633301   \n",
       "1                    4.953185       74.686898   \n",
       "2                    4.953185       74.686898   \n",
       "3                    4.953185       74.686898   \n",
       "4                    4.953185       74.686898   \n",
       "\n",
       "   carbon_monoxide_content_gramspersec  Oil_Viscosity_cSt  Age_days  ...  \\\n",
       "0                             0.013031           9.277736       876  ...   \n",
       "1                             0.007142           6.473876       882  ...   \n",
       "2                             0.007142           6.473876       882  ...   \n",
       "3                             0.007142           6.473876       882  ...   \n",
       "4                             0.007142           6.473876       882  ...   \n",
       "\n",
       "   current_chg  ctemp_chg    CO_chg  viscosity_chg  FAILURE_DATE         C  \\\n",
       "0     1.000000    1.00000  1.000000       1.000000    2002-07-23    0 days   \n",
       "1     1.332434    0.79974  0.991216       0.745969    2004-02-22  -87 days   \n",
       "2     1.332434    0.79974  0.991216       0.745969    2004-01-03 -137 days   \n",
       "3     1.332434    0.79974  0.991216       0.745969    2004-01-02 -138 days   \n",
       "4     1.332434    0.79974  0.991216       0.745969    2003-10-23 -209 days   \n",
       "\n",
       "   TIME_TO_FAILURE  FAILURE_TARGET  wookie  MODELING_GROUP  \n",
       "0              0.0               1   0.727         TESTING  \n",
       "1            -87.0               0   0.727         TESTING  \n",
       "2           -137.0               0   0.727         TESTING  \n",
       "3           -138.0               0   0.727         TESTING  \n",
       "4           -209.0               0   0.727         TESTING  \n",
       "\n",
       "[5 rows x 46 columns]"
      ]
     },
     "execution_count": 46,
     "metadata": {},
     "output_type": "execute_result"
    }
   ],
   "source": [
    "pd_data_1 =pd_data_1.merge(pd_id, on=['ID'], how='inner')\n",
    "\n",
    "pd_data_1.head()"
   ]
  },
  {
   "cell_type": "markdown",
   "metadata": {},
   "source": [
    "This is how many records are in each group."
   ]
  },
  {
   "cell_type": "code",
   "execution_count": 47,
   "metadata": {},
   "outputs": [
    {
     "data": {
      "text/plain": [
       "MODELING_GROUP\n",
       "TESTING        50000\n",
       "TRAINING       39000\n",
       "VALIDATION    250000\n",
       "Name: wookie, dtype: int64"
      ]
     },
     "execution_count": 47,
     "metadata": {},
     "output_type": "execute_result"
    }
   ],
   "source": [
    "tips_summed = pd_data_1.groupby(['MODELING_GROUP'])['wookie'].count()\n",
    "tips_summed"
   ]
  },
  {
   "cell_type": "markdown",
   "metadata": {},
   "source": [
    "This is how many failure targets are in each group."
   ]
  },
  {
   "cell_type": "code",
   "execution_count": 48,
   "metadata": {},
   "outputs": [
    {
     "data": {
      "text/plain": [
       "MODELING_GROUP\n",
       "TESTING       1362\n",
       "TRAINING      1075\n",
       "VALIDATION    6904\n",
       "Name: FAILURE_TARGET, dtype: int32"
      ]
     },
     "execution_count": 48,
     "metadata": {},
     "output_type": "execute_result"
    }
   ],
   "source": [
    "tips_summed = pd_data_1.groupby(['MODELING_GROUP'])['FAILURE_TARGET'].sum()\n",
    "tips_summed"
   ]
  },
  {
   "cell_type": "markdown",
   "metadata": {},
   "source": [
    "Create a separate data frame for the training data. We will use this data set to build the model."
   ]
  },
  {
   "cell_type": "code",
   "execution_count": 49,
   "metadata": {},
   "outputs": [
    {
     "data": {
      "text/plain": [
       "(39000, 40)"
      ]
     },
     "execution_count": 49,
     "metadata": {},
     "output_type": "execute_result"
    }
   ],
   "source": [
    "df_training=pd_data_1[pd_data_1['MODELING_GROUP'] == 'TRAINING']\n",
    "df_training=df_training.drop(columns=['MODELING_GROUP','C','wookie','TIME_TO_FAILURE','flipper','START_DATE'])\n",
    "df_training.shape"
   ]
  },
  {
   "cell_type": "markdown",
   "metadata": {},
   "source": [
    "Create a separate data frame for the training and testing data sets. We will use this to tweak our modeling results."
   ]
  },
  {
   "cell_type": "code",
   "execution_count": 50,
   "metadata": {},
   "outputs": [
    {
     "data": {
      "text/plain": [
       "(89000, 42)"
      ]
     },
     "execution_count": 50,
     "metadata": {},
     "output_type": "execute_result"
    }
   ],
   "source": [
    "df_train_test=pd_data_1[pd_data_1['MODELING_GROUP'] != 'VALIDATION']\n",
    "\n",
    "df_train_test=df_train_test.drop(columns=['wookie','TIME_TO_FAILURE','flipper','START_DATE'])\n",
    "df_train_test.shape"
   ]
  },
  {
   "cell_type": "markdown",
   "metadata": {},
   "source": [
    "Create a separate data frame for all the data. We will use this to validate the model and compare the accuracy of all groups."
   ]
  },
  {
   "cell_type": "code",
   "execution_count": 51,
   "metadata": {},
   "outputs": [
    {
     "data": {
      "text/plain": [
       "(339000, 41)"
      ]
     },
     "execution_count": 51,
     "metadata": {},
     "output_type": "execute_result"
    }
   ],
   "source": [
    "df_total=pd_data_1.drop(columns=['C','wookie','TIME_TO_FAILURE','flipper','START_DATE'])\n",
    "df_total.shape"
   ]
  },
  {
   "cell_type": "markdown",
   "metadata": {},
   "source": [
    "#### SMOTE the Training Data "
   ]
  },
  {
   "cell_type": "markdown",
   "metadata": {},
   "source": [
    "Note that we are only balancing the training data set. You may be asking why. Remember that our goal is to build a model the represents reality, right? When we SMOTE the data, we change the failure rate to 50%. This is nowhere near what we see in the actual machine data. Thus, it makes sense to build the model on the SMOTE data but evaluate it on the unaltered data. The unaltered data will be a better reflection of what to expect when you deploy the model to production.\n",
    "\n",
    "Define the Training features and Target."
   ]
  },
  {
   "cell_type": "code",
   "execution_count": 52,
   "metadata": {},
   "outputs": [],
   "source": [
    "training_features=df_training[[\"Internal_Pressure_MPa\",\n",
    "                               \"Battery_Charging_Current_A\", \n",
    "                               \"coolant_temp_C\", \n",
    "                               \"carbon_monoxide_content_gramspersec\", \n",
    "                               \"Oil_Viscosity_cSt\", \n",
    "                               \"Age_days\", \n",
    "                               \"pressure_mean\", \"pressure_median\", \"pressure_max\", \"pressure_min\", \n",
    "                               \"current_mean\", \"current_median\", \"current_max\", \"current_min\",\n",
    "                               \"ctemp_mean\", \"ctemp_median\", \"ctemp_max\", \"ctemp_min\",\n",
    "                               \"CO_mean\", \"CO_median\", \"CO_max\", \"CO_min\",\n",
    "                               \"viscosity_mean\", \"viscosity_median\", \"viscosity_max\", \"viscosity_min\",\n",
    "                               \"pressure_chg\",\n",
    "                               \"current_chg\",\n",
    "                               \"ctemp_chg\",\n",
    "                               \"CO_chg\",\n",
    "                               \"viscosity_chg\"]]"
   ]
  },
  {
   "cell_type": "code",
   "execution_count": 53,
   "metadata": {},
   "outputs": [],
   "source": [
    "training_target=df_training[['FAILURE_TARGET']]"
   ]
  },
  {
   "cell_type": "markdown",
   "metadata": {},
   "source": [
    "Synthetically Balance the training data sets with a SMOTE algorithm. After we apply the SMOTE algorithm, we will have a balanced data set. 50% Failures and 50% Non-Failures. "
   ]
  },
  {
   "cell_type": "code",
   "execution_count": 54,
   "metadata": {},
   "outputs": [],
   "source": [
    "#uncomment these options if you want to expand the number of rows and columns that appear visually on the screen.\n",
    "\n",
    "pd.set_option('display.max_columns', None)\n",
    "pd.set_option('display.max_rows', None)"
   ]
  },
  {
   "cell_type": "code",
   "execution_count": 55,
   "metadata": {},
   "outputs": [],
   "source": [
    "from imblearn.over_sampling import SMOTE\n",
    "from imblearn.over_sampling import SMOTENC\n",
    "smx = SMOTENC(random_state=12,  categorical_features=[0, 1, 2, 3])"
   ]
  },
  {
   "cell_type": "code",
   "execution_count": 56,
   "metadata": {},
   "outputs": [],
   "source": [
    "x_res, y_res = smx.fit_sample(training_features, training_target.values.ravel())"
   ]
  },
  {
   "cell_type": "markdown",
   "metadata": {},
   "source": [
    "Convert the SMOTE output back to complete data frames with independent and dependent variables. Examine the results.\n",
    "\n",
    "Format the Independent Variables."
   ]
  },
  {
   "cell_type": "code",
   "execution_count": 57,
   "metadata": {},
   "outputs": [
    {
     "data": {
      "text/html": [
       "<div><div id=51c396e9-3816-4c28-a8f4-87ebc18a39b9 style=\"display:none; background-color:#9D6CFF; color:white; width:200px; height:30px; padding-left:5px; border-radius:4px; flex-direction:row; justify-content:space-around; align-items:center;\" onmouseover=\"this.style.backgroundColor='#BA9BF8'\" onmouseout=\"this.style.backgroundColor='#9D6CFF'\" onclick=\"window.commands?.execute('create-mitosheet-from-dataframe-output');\">See Full Dataframe in Mito</div> <script> if (window.commands.hasCommand('create-mitosheet-from-dataframe-output')) document.getElementById('51c396e9-3816-4c28-a8f4-87ebc18a39b9').style.display = 'flex' </script> <table border=\"1\" class=\"dataframe\">\n",
       "  <thead>\n",
       "    <tr style=\"text-align: right;\">\n",
       "      <th></th>\n",
       "      <th>Internal_Pressure_MPa</th>\n",
       "      <th>Battery_Charging_Current_A</th>\n",
       "      <th>coolant_temp_C</th>\n",
       "      <th>carbon_monoxide_content_gramspersec</th>\n",
       "      <th>Oil_Viscosity_cSt</th>\n",
       "      <th>Age_days</th>\n",
       "      <th>pressure_mean</th>\n",
       "      <th>pressure_median</th>\n",
       "      <th>pressure_max</th>\n",
       "      <th>pressure_min</th>\n",
       "      <th>current_mean</th>\n",
       "      <th>current_median</th>\n",
       "      <th>current_max</th>\n",
       "      <th>current_min</th>\n",
       "      <th>ctemp_mean</th>\n",
       "      <th>ctemp_median</th>\n",
       "      <th>ctemp_max</th>\n",
       "      <th>ctemp_min</th>\n",
       "      <th>CO_mean</th>\n",
       "      <th>CO_median</th>\n",
       "      <th>CO_max</th>\n",
       "      <th>CO_min</th>\n",
       "      <th>viscosity_mean</th>\n",
       "      <th>viscosity_median</th>\n",
       "      <th>viscosity_max</th>\n",
       "      <th>viscosity_min</th>\n",
       "      <th>pressure_chg</th>\n",
       "      <th>current_chg</th>\n",
       "      <th>ctemp_chg</th>\n",
       "      <th>CO_chg</th>\n",
       "      <th>viscosity_chg</th>\n",
       "    </tr>\n",
       "  </thead>\n",
       "  <tbody>\n",
       "    <tr>\n",
       "      <th>0</th>\n",
       "      <td>41.711642</td>\n",
       "      <td>3.701497</td>\n",
       "      <td>87.120512</td>\n",
       "      <td>0.007607</td>\n",
       "      <td>7.12829</td>\n",
       "      <td>860</td>\n",
       "      <td>40.716688</td>\n",
       "      <td>41.604734</td>\n",
       "      <td>47.732641</td>\n",
       "      <td>32.701989</td>\n",
       "      <td>3.650716</td>\n",
       "      <td>3.689776</td>\n",
       "      <td>4.911692</td>\n",
       "      <td>2.287786</td>\n",
       "      <td>94.99378</td>\n",
       "      <td>91.780938</td>\n",
       "      <td>123.000108</td>\n",
       "      <td>67.012633</td>\n",
       "      <td>0.007965</td>\n",
       "      <td>0.008046</td>\n",
       "      <td>0.011062</td>\n",
       "      <td>0.004905</td>\n",
       "      <td>8.195672</td>\n",
       "      <td>8.383156</td>\n",
       "      <td>12.165222</td>\n",
       "      <td>5.056613</td>\n",
       "      <td>1.024436</td>\n",
       "      <td>1.01391</td>\n",
       "      <td>0.917118</td>\n",
       "      <td>0.955133</td>\n",
       "      <td>0.869763</td>\n",
       "    </tr>\n",
       "    <tr>\n",
       "      <th>1</th>\n",
       "      <td>41.711642</td>\n",
       "      <td>3.701497</td>\n",
       "      <td>87.120512</td>\n",
       "      <td>0.007607</td>\n",
       "      <td>7.12829</td>\n",
       "      <td>860</td>\n",
       "      <td>40.716688</td>\n",
       "      <td>41.604734</td>\n",
       "      <td>47.732641</td>\n",
       "      <td>32.701989</td>\n",
       "      <td>3.650716</td>\n",
       "      <td>3.689776</td>\n",
       "      <td>4.911692</td>\n",
       "      <td>2.287786</td>\n",
       "      <td>94.99378</td>\n",
       "      <td>91.780938</td>\n",
       "      <td>123.000108</td>\n",
       "      <td>67.012633</td>\n",
       "      <td>0.007965</td>\n",
       "      <td>0.008046</td>\n",
       "      <td>0.011062</td>\n",
       "      <td>0.004905</td>\n",
       "      <td>8.195672</td>\n",
       "      <td>8.383156</td>\n",
       "      <td>12.165222</td>\n",
       "      <td>5.056613</td>\n",
       "      <td>1.024436</td>\n",
       "      <td>1.01391</td>\n",
       "      <td>0.917118</td>\n",
       "      <td>0.955133</td>\n",
       "      <td>0.869763</td>\n",
       "    </tr>\n",
       "    <tr>\n",
       "      <th>2</th>\n",
       "      <td>41.711642</td>\n",
       "      <td>3.701497</td>\n",
       "      <td>87.120512</td>\n",
       "      <td>0.007607</td>\n",
       "      <td>7.12829</td>\n",
       "      <td>860</td>\n",
       "      <td>40.716688</td>\n",
       "      <td>41.604734</td>\n",
       "      <td>47.732641</td>\n",
       "      <td>32.701989</td>\n",
       "      <td>3.650716</td>\n",
       "      <td>3.689776</td>\n",
       "      <td>4.911692</td>\n",
       "      <td>2.287786</td>\n",
       "      <td>94.99378</td>\n",
       "      <td>91.780938</td>\n",
       "      <td>123.000108</td>\n",
       "      <td>67.012633</td>\n",
       "      <td>0.007965</td>\n",
       "      <td>0.008046</td>\n",
       "      <td>0.011062</td>\n",
       "      <td>0.004905</td>\n",
       "      <td>8.195672</td>\n",
       "      <td>8.383156</td>\n",
       "      <td>12.165222</td>\n",
       "      <td>5.056613</td>\n",
       "      <td>1.024436</td>\n",
       "      <td>1.01391</td>\n",
       "      <td>0.917118</td>\n",
       "      <td>0.955133</td>\n",
       "      <td>0.869763</td>\n",
       "    </tr>\n",
       "    <tr>\n",
       "      <th>3</th>\n",
       "      <td>41.711642</td>\n",
       "      <td>3.701497</td>\n",
       "      <td>87.120512</td>\n",
       "      <td>0.007607</td>\n",
       "      <td>7.12829</td>\n",
       "      <td>860</td>\n",
       "      <td>40.716688</td>\n",
       "      <td>41.604734</td>\n",
       "      <td>47.732641</td>\n",
       "      <td>32.701989</td>\n",
       "      <td>3.650716</td>\n",
       "      <td>3.689776</td>\n",
       "      <td>4.911692</td>\n",
       "      <td>2.287786</td>\n",
       "      <td>94.99378</td>\n",
       "      <td>91.780938</td>\n",
       "      <td>123.000108</td>\n",
       "      <td>67.012633</td>\n",
       "      <td>0.007965</td>\n",
       "      <td>0.008046</td>\n",
       "      <td>0.011062</td>\n",
       "      <td>0.004905</td>\n",
       "      <td>8.195672</td>\n",
       "      <td>8.383156</td>\n",
       "      <td>12.165222</td>\n",
       "      <td>5.056613</td>\n",
       "      <td>1.024436</td>\n",
       "      <td>1.01391</td>\n",
       "      <td>0.917118</td>\n",
       "      <td>0.955133</td>\n",
       "      <td>0.869763</td>\n",
       "    </tr>\n",
       "    <tr>\n",
       "      <th>4</th>\n",
       "      <td>41.711642</td>\n",
       "      <td>3.701497</td>\n",
       "      <td>87.120512</td>\n",
       "      <td>0.007607</td>\n",
       "      <td>7.12829</td>\n",
       "      <td>860</td>\n",
       "      <td>40.716688</td>\n",
       "      <td>41.604734</td>\n",
       "      <td>47.732641</td>\n",
       "      <td>32.701989</td>\n",
       "      <td>3.650716</td>\n",
       "      <td>3.689776</td>\n",
       "      <td>4.911692</td>\n",
       "      <td>2.287786</td>\n",
       "      <td>94.99378</td>\n",
       "      <td>91.780938</td>\n",
       "      <td>123.000108</td>\n",
       "      <td>67.012633</td>\n",
       "      <td>0.007965</td>\n",
       "      <td>0.008046</td>\n",
       "      <td>0.011062</td>\n",
       "      <td>0.004905</td>\n",
       "      <td>8.195672</td>\n",
       "      <td>8.383156</td>\n",
       "      <td>12.165222</td>\n",
       "      <td>5.056613</td>\n",
       "      <td>1.024436</td>\n",
       "      <td>1.01391</td>\n",
       "      <td>0.917118</td>\n",
       "      <td>0.955133</td>\n",
       "      <td>0.869763</td>\n",
       "    </tr>\n",
       "  </tbody>\n",
       "</table></div>"
      ],
      "text/plain": [
       "   Internal_Pressure_MPa  Battery_Charging_Current_A  coolant_temp_C  \\\n",
       "0              41.711642                    3.701497       87.120512   \n",
       "1              41.711642                    3.701497       87.120512   \n",
       "2              41.711642                    3.701497       87.120512   \n",
       "3              41.711642                    3.701497       87.120512   \n",
       "4              41.711642                    3.701497       87.120512   \n",
       "\n",
       "   carbon_monoxide_content_gramspersec  Oil_Viscosity_cSt  Age_days  \\\n",
       "0                             0.007607            7.12829       860   \n",
       "1                             0.007607            7.12829       860   \n",
       "2                             0.007607            7.12829       860   \n",
       "3                             0.007607            7.12829       860   \n",
       "4                             0.007607            7.12829       860   \n",
       "\n",
       "   pressure_mean  pressure_median  pressure_max  pressure_min  current_mean  \\\n",
       "0      40.716688        41.604734     47.732641     32.701989      3.650716   \n",
       "1      40.716688        41.604734     47.732641     32.701989      3.650716   \n",
       "2      40.716688        41.604734     47.732641     32.701989      3.650716   \n",
       "3      40.716688        41.604734     47.732641     32.701989      3.650716   \n",
       "4      40.716688        41.604734     47.732641     32.701989      3.650716   \n",
       "\n",
       "   current_median  current_max  current_min  ctemp_mean  ctemp_median  \\\n",
       "0        3.689776     4.911692     2.287786    94.99378     91.780938   \n",
       "1        3.689776     4.911692     2.287786    94.99378     91.780938   \n",
       "2        3.689776     4.911692     2.287786    94.99378     91.780938   \n",
       "3        3.689776     4.911692     2.287786    94.99378     91.780938   \n",
       "4        3.689776     4.911692     2.287786    94.99378     91.780938   \n",
       "\n",
       "    ctemp_max  ctemp_min   CO_mean  CO_median    CO_max    CO_min  \\\n",
       "0  123.000108  67.012633  0.007965   0.008046  0.011062  0.004905   \n",
       "1  123.000108  67.012633  0.007965   0.008046  0.011062  0.004905   \n",
       "2  123.000108  67.012633  0.007965   0.008046  0.011062  0.004905   \n",
       "3  123.000108  67.012633  0.007965   0.008046  0.011062  0.004905   \n",
       "4  123.000108  67.012633  0.007965   0.008046  0.011062  0.004905   \n",
       "\n",
       "   viscosity_mean  viscosity_median  viscosity_max  viscosity_min  \\\n",
       "0        8.195672          8.383156      12.165222       5.056613   \n",
       "1        8.195672          8.383156      12.165222       5.056613   \n",
       "2        8.195672          8.383156      12.165222       5.056613   \n",
       "3        8.195672          8.383156      12.165222       5.056613   \n",
       "4        8.195672          8.383156      12.165222       5.056613   \n",
       "\n",
       "   pressure_chg  current_chg  ctemp_chg    CO_chg  viscosity_chg  \n",
       "0      1.024436      1.01391   0.917118  0.955133       0.869763  \n",
       "1      1.024436      1.01391   0.917118  0.955133       0.869763  \n",
       "2      1.024436      1.01391   0.917118  0.955133       0.869763  \n",
       "3      1.024436      1.01391   0.917118  0.955133       0.869763  \n",
       "4      1.024436      1.01391   0.917118  0.955133       0.869763  "
      ]
     },
     "execution_count": 57,
     "metadata": {},
     "output_type": "execute_result"
    }
   ],
   "source": [
    "df_x=pd.DataFrame(x_res)\n",
    "\n",
    "df_x.columns = [\"Internal_Pressure_MPa\",\n",
    "                               \"Battery_Charging_Current_A\", \n",
    "                               \"coolant_temp_C\", \n",
    "                               \"carbon_monoxide_content_gramspersec\", \n",
    "                               \"Oil_Viscosity_cSt\", \n",
    "                               \"Age_days\", \n",
    "                               \"pressure_mean\", \"pressure_median\", \"pressure_max\", \"pressure_min\", \n",
    "                               \"current_mean\", \"current_median\", \"current_max\", \"current_min\",\n",
    "                               \"ctemp_mean\", \"ctemp_median\", \"ctemp_max\", \"ctemp_min\",\n",
    "                               \"CO_mean\", \"CO_median\", \"CO_max\", \"CO_min\",\n",
    "                               \"viscosity_mean\", \"viscosity_median\", \"viscosity_max\", \"viscosity_min\",\n",
    "                               \"pressure_chg\",\n",
    "                               \"current_chg\",\n",
    "                               \"ctemp_chg\",\n",
    "                               \"CO_chg\",\n",
    "                               \"viscosity_chg\"]\n",
    "df_x.head()"
   ]
  },
  {
   "cell_type": "markdown",
   "metadata": {},
   "source": [
    "Format the Dependent Variable"
   ]
  },
  {
   "cell_type": "code",
   "execution_count": 58,
   "metadata": {},
   "outputs": [],
   "source": [
    "df_y=pd.DataFrame(y_res)\n",
    "df_y.columns = ['FAILURE_TARGET']"
   ]
  },
  {
   "cell_type": "markdown",
   "metadata": {},
   "source": [
    "Check that the dependent variable is balanced. Dependent variable is balanced when the mean equals 0.5"
   ]
  },
  {
   "cell_type": "code",
   "execution_count": 59,
   "metadata": {},
   "outputs": [
    {
     "data": {
      "text/plain": [
       "FAILURE_TARGET    0.5\n",
       "dtype: float64"
      ]
     },
     "execution_count": 59,
     "metadata": {},
     "output_type": "execute_result"
    }
   ],
   "source": [
    "df_y.mean(axis = 0) "
   ]
  },
  {
   "cell_type": "markdown",
   "metadata": {},
   "source": [
    "Merge the dependent and independent variables after SMOTE into a data frame."
   ]
  },
  {
   "cell_type": "code",
   "execution_count": 60,
   "metadata": {},
   "outputs": [
    {
     "data": {
      "text/html": [
       "<div><div id=ad8f5cac-bf89-4109-b772-3aa2bd64b696 style=\"display:none; background-color:#9D6CFF; color:white; width:200px; height:30px; padding-left:5px; border-radius:4px; flex-direction:row; justify-content:space-around; align-items:center;\" onmouseover=\"this.style.backgroundColor='#BA9BF8'\" onmouseout=\"this.style.backgroundColor='#9D6CFF'\" onclick=\"window.commands?.execute('create-mitosheet-from-dataframe-output');\">See Full Dataframe in Mito</div> <script> if (window.commands.hasCommand('create-mitosheet-from-dataframe-output')) document.getElementById('ad8f5cac-bf89-4109-b772-3aa2bd64b696').style.display = 'flex' </script> <table border=\"1\" class=\"dataframe\">\n",
       "  <thead>\n",
       "    <tr style=\"text-align: right;\">\n",
       "      <th></th>\n",
       "      <th>FAILURE_TARGET</th>\n",
       "      <th>Internal_Pressure_MPa</th>\n",
       "      <th>Battery_Charging_Current_A</th>\n",
       "      <th>coolant_temp_C</th>\n",
       "      <th>carbon_monoxide_content_gramspersec</th>\n",
       "      <th>Oil_Viscosity_cSt</th>\n",
       "      <th>Age_days</th>\n",
       "      <th>pressure_mean</th>\n",
       "      <th>pressure_median</th>\n",
       "      <th>pressure_max</th>\n",
       "      <th>pressure_min</th>\n",
       "      <th>current_mean</th>\n",
       "      <th>current_median</th>\n",
       "      <th>current_max</th>\n",
       "      <th>current_min</th>\n",
       "      <th>ctemp_mean</th>\n",
       "      <th>ctemp_median</th>\n",
       "      <th>ctemp_max</th>\n",
       "      <th>ctemp_min</th>\n",
       "      <th>CO_mean</th>\n",
       "      <th>CO_median</th>\n",
       "      <th>CO_max</th>\n",
       "      <th>CO_min</th>\n",
       "      <th>viscosity_mean</th>\n",
       "      <th>viscosity_median</th>\n",
       "      <th>viscosity_max</th>\n",
       "      <th>viscosity_min</th>\n",
       "      <th>pressure_chg</th>\n",
       "      <th>current_chg</th>\n",
       "      <th>ctemp_chg</th>\n",
       "      <th>CO_chg</th>\n",
       "      <th>viscosity_chg</th>\n",
       "    </tr>\n",
       "  </thead>\n",
       "  <tbody>\n",
       "    <tr>\n",
       "      <th>0</th>\n",
       "      <td>0</td>\n",
       "      <td>41.711642</td>\n",
       "      <td>3.701497</td>\n",
       "      <td>87.120512</td>\n",
       "      <td>0.007607</td>\n",
       "      <td>7.12829</td>\n",
       "      <td>860</td>\n",
       "      <td>40.716688</td>\n",
       "      <td>41.604734</td>\n",
       "      <td>47.732641</td>\n",
       "      <td>32.701989</td>\n",
       "      <td>3.650716</td>\n",
       "      <td>3.689776</td>\n",
       "      <td>4.911692</td>\n",
       "      <td>2.287786</td>\n",
       "      <td>94.99378</td>\n",
       "      <td>91.780938</td>\n",
       "      <td>123.000108</td>\n",
       "      <td>67.012633</td>\n",
       "      <td>0.007965</td>\n",
       "      <td>0.008046</td>\n",
       "      <td>0.011062</td>\n",
       "      <td>0.004905</td>\n",
       "      <td>8.195672</td>\n",
       "      <td>8.383156</td>\n",
       "      <td>12.165222</td>\n",
       "      <td>5.056613</td>\n",
       "      <td>1.024436</td>\n",
       "      <td>1.01391</td>\n",
       "      <td>0.917118</td>\n",
       "      <td>0.955133</td>\n",
       "      <td>0.869763</td>\n",
       "    </tr>\n",
       "    <tr>\n",
       "      <th>1</th>\n",
       "      <td>0</td>\n",
       "      <td>41.711642</td>\n",
       "      <td>3.701497</td>\n",
       "      <td>87.120512</td>\n",
       "      <td>0.007607</td>\n",
       "      <td>7.12829</td>\n",
       "      <td>860</td>\n",
       "      <td>40.716688</td>\n",
       "      <td>41.604734</td>\n",
       "      <td>47.732641</td>\n",
       "      <td>32.701989</td>\n",
       "      <td>3.650716</td>\n",
       "      <td>3.689776</td>\n",
       "      <td>4.911692</td>\n",
       "      <td>2.287786</td>\n",
       "      <td>94.99378</td>\n",
       "      <td>91.780938</td>\n",
       "      <td>123.000108</td>\n",
       "      <td>67.012633</td>\n",
       "      <td>0.007965</td>\n",
       "      <td>0.008046</td>\n",
       "      <td>0.011062</td>\n",
       "      <td>0.004905</td>\n",
       "      <td>8.195672</td>\n",
       "      <td>8.383156</td>\n",
       "      <td>12.165222</td>\n",
       "      <td>5.056613</td>\n",
       "      <td>1.024436</td>\n",
       "      <td>1.01391</td>\n",
       "      <td>0.917118</td>\n",
       "      <td>0.955133</td>\n",
       "      <td>0.869763</td>\n",
       "    </tr>\n",
       "    <tr>\n",
       "      <th>2</th>\n",
       "      <td>0</td>\n",
       "      <td>41.711642</td>\n",
       "      <td>3.701497</td>\n",
       "      <td>87.120512</td>\n",
       "      <td>0.007607</td>\n",
       "      <td>7.12829</td>\n",
       "      <td>860</td>\n",
       "      <td>40.716688</td>\n",
       "      <td>41.604734</td>\n",
       "      <td>47.732641</td>\n",
       "      <td>32.701989</td>\n",
       "      <td>3.650716</td>\n",
       "      <td>3.689776</td>\n",
       "      <td>4.911692</td>\n",
       "      <td>2.287786</td>\n",
       "      <td>94.99378</td>\n",
       "      <td>91.780938</td>\n",
       "      <td>123.000108</td>\n",
       "      <td>67.012633</td>\n",
       "      <td>0.007965</td>\n",
       "      <td>0.008046</td>\n",
       "      <td>0.011062</td>\n",
       "      <td>0.004905</td>\n",
       "      <td>8.195672</td>\n",
       "      <td>8.383156</td>\n",
       "      <td>12.165222</td>\n",
       "      <td>5.056613</td>\n",
       "      <td>1.024436</td>\n",
       "      <td>1.01391</td>\n",
       "      <td>0.917118</td>\n",
       "      <td>0.955133</td>\n",
       "      <td>0.869763</td>\n",
       "    </tr>\n",
       "    <tr>\n",
       "      <th>3</th>\n",
       "      <td>0</td>\n",
       "      <td>41.711642</td>\n",
       "      <td>3.701497</td>\n",
       "      <td>87.120512</td>\n",
       "      <td>0.007607</td>\n",
       "      <td>7.12829</td>\n",
       "      <td>860</td>\n",
       "      <td>40.716688</td>\n",
       "      <td>41.604734</td>\n",
       "      <td>47.732641</td>\n",
       "      <td>32.701989</td>\n",
       "      <td>3.650716</td>\n",
       "      <td>3.689776</td>\n",
       "      <td>4.911692</td>\n",
       "      <td>2.287786</td>\n",
       "      <td>94.99378</td>\n",
       "      <td>91.780938</td>\n",
       "      <td>123.000108</td>\n",
       "      <td>67.012633</td>\n",
       "      <td>0.007965</td>\n",
       "      <td>0.008046</td>\n",
       "      <td>0.011062</td>\n",
       "      <td>0.004905</td>\n",
       "      <td>8.195672</td>\n",
       "      <td>8.383156</td>\n",
       "      <td>12.165222</td>\n",
       "      <td>5.056613</td>\n",
       "      <td>1.024436</td>\n",
       "      <td>1.01391</td>\n",
       "      <td>0.917118</td>\n",
       "      <td>0.955133</td>\n",
       "      <td>0.869763</td>\n",
       "    </tr>\n",
       "    <tr>\n",
       "      <th>4</th>\n",
       "      <td>0</td>\n",
       "      <td>41.711642</td>\n",
       "      <td>3.701497</td>\n",
       "      <td>87.120512</td>\n",
       "      <td>0.007607</td>\n",
       "      <td>7.12829</td>\n",
       "      <td>860</td>\n",
       "      <td>40.716688</td>\n",
       "      <td>41.604734</td>\n",
       "      <td>47.732641</td>\n",
       "      <td>32.701989</td>\n",
       "      <td>3.650716</td>\n",
       "      <td>3.689776</td>\n",
       "      <td>4.911692</td>\n",
       "      <td>2.287786</td>\n",
       "      <td>94.99378</td>\n",
       "      <td>91.780938</td>\n",
       "      <td>123.000108</td>\n",
       "      <td>67.012633</td>\n",
       "      <td>0.007965</td>\n",
       "      <td>0.008046</td>\n",
       "      <td>0.011062</td>\n",
       "      <td>0.004905</td>\n",
       "      <td>8.195672</td>\n",
       "      <td>8.383156</td>\n",
       "      <td>12.165222</td>\n",
       "      <td>5.056613</td>\n",
       "      <td>1.024436</td>\n",
       "      <td>1.01391</td>\n",
       "      <td>0.917118</td>\n",
       "      <td>0.955133</td>\n",
       "      <td>0.869763</td>\n",
       "    </tr>\n",
       "  </tbody>\n",
       "</table></div>"
      ],
      "text/plain": [
       "   FAILURE_TARGET  Internal_Pressure_MPa  Battery_Charging_Current_A  \\\n",
       "0               0              41.711642                    3.701497   \n",
       "1               0              41.711642                    3.701497   \n",
       "2               0              41.711642                    3.701497   \n",
       "3               0              41.711642                    3.701497   \n",
       "4               0              41.711642                    3.701497   \n",
       "\n",
       "   coolant_temp_C  carbon_monoxide_content_gramspersec  Oil_Viscosity_cSt  \\\n",
       "0       87.120512                             0.007607            7.12829   \n",
       "1       87.120512                             0.007607            7.12829   \n",
       "2       87.120512                             0.007607            7.12829   \n",
       "3       87.120512                             0.007607            7.12829   \n",
       "4       87.120512                             0.007607            7.12829   \n",
       "\n",
       "   Age_days  pressure_mean  pressure_median  pressure_max  pressure_min  \\\n",
       "0       860      40.716688        41.604734     47.732641     32.701989   \n",
       "1       860      40.716688        41.604734     47.732641     32.701989   \n",
       "2       860      40.716688        41.604734     47.732641     32.701989   \n",
       "3       860      40.716688        41.604734     47.732641     32.701989   \n",
       "4       860      40.716688        41.604734     47.732641     32.701989   \n",
       "\n",
       "   current_mean  current_median  current_max  current_min  ctemp_mean  \\\n",
       "0      3.650716        3.689776     4.911692     2.287786    94.99378   \n",
       "1      3.650716        3.689776     4.911692     2.287786    94.99378   \n",
       "2      3.650716        3.689776     4.911692     2.287786    94.99378   \n",
       "3      3.650716        3.689776     4.911692     2.287786    94.99378   \n",
       "4      3.650716        3.689776     4.911692     2.287786    94.99378   \n",
       "\n",
       "   ctemp_median   ctemp_max  ctemp_min   CO_mean  CO_median    CO_max  \\\n",
       "0     91.780938  123.000108  67.012633  0.007965   0.008046  0.011062   \n",
       "1     91.780938  123.000108  67.012633  0.007965   0.008046  0.011062   \n",
       "2     91.780938  123.000108  67.012633  0.007965   0.008046  0.011062   \n",
       "3     91.780938  123.000108  67.012633  0.007965   0.008046  0.011062   \n",
       "4     91.780938  123.000108  67.012633  0.007965   0.008046  0.011062   \n",
       "\n",
       "     CO_min  viscosity_mean  viscosity_median  viscosity_max  viscosity_min  \\\n",
       "0  0.004905        8.195672          8.383156      12.165222       5.056613   \n",
       "1  0.004905        8.195672          8.383156      12.165222       5.056613   \n",
       "2  0.004905        8.195672          8.383156      12.165222       5.056613   \n",
       "3  0.004905        8.195672          8.383156      12.165222       5.056613   \n",
       "4  0.004905        8.195672          8.383156      12.165222       5.056613   \n",
       "\n",
       "   pressure_chg  current_chg  ctemp_chg    CO_chg  viscosity_chg  \n",
       "0      1.024436      1.01391   0.917118  0.955133       0.869763  \n",
       "1      1.024436      1.01391   0.917118  0.955133       0.869763  \n",
       "2      1.024436      1.01391   0.917118  0.955133       0.869763  \n",
       "3      1.024436      1.01391   0.917118  0.955133       0.869763  \n",
       "4      1.024436      1.01391   0.917118  0.955133       0.869763  "
      ]
     },
     "execution_count": 60,
     "metadata": {},
     "output_type": "execute_result"
    }
   ],
   "source": [
    "df_balanced = pd.concat([df_y, df_x], axis=1)\n",
    "df_balanced.head()"
   ]
  },
  {
   "cell_type": "markdown",
   "metadata": {},
   "source": [
    "Convert the categorical variables into binary dummy variables. We need to do this because the XGBT model (below) doesn't like categorical fields"
   ]
  },
  {
   "cell_type": "code",
   "execution_count": 61,
   "metadata": {},
   "outputs": [
    {
     "data": {
      "text/plain": [
       "'\\ndf_dv = pd.get_dummies(df_balanced[\\'REGION_CLUSTER\\'])\\n\\ndf_dv=df_dv.rename(columns={\"A\": \"CLUSTER_A\",\"B\":\"CLUSTER_B\",\"C\":\"CLUSTER_C\",\"D\":\"CLUSTER_D\",\"E\":\"CLUSTER_E\",\"F\":\"CLUSTER_F\",\"G\":\"CLUSTER_G\",\"H\":\"CLUSTER_H\"})\\n\\n\\ndf_balanced= pd.concat([df_balanced, df_dv], axis=1)\\n'"
      ]
     },
     "execution_count": 61,
     "metadata": {},
     "output_type": "execute_result"
    }
   ],
   "source": [
    "\"\"\"\n",
    "df_dv = pd.get_dummies(df_balanced['REGION_CLUSTER'])\n",
    "\n",
    "df_dv=df_dv.rename(columns={\"A\": \"CLUSTER_A\",\"B\":\"CLUSTER_B\",\"C\":\"CLUSTER_C\",\"D\":\"CLUSTER_D\",\"E\":\"CLUSTER_E\",\"F\":\"CLUSTER_F\",\"G\":\"CLUSTER_G\",\"H\":\"CLUSTER_H\"})\n",
    "\n",
    "\n",
    "df_balanced= pd.concat([df_balanced, df_dv], axis=1)\n",
    "\"\"\""
   ]
  },
  {
   "cell_type": "markdown",
   "metadata": {},
   "source": [
    "### Build the model on the balanced training data set "
   ]
  },
  {
   "cell_type": "markdown",
   "metadata": {},
   "source": [
    "In the balanced data set, separate the dependent and independent variables to feed the model development process."
   ]
  },
  {
   "cell_type": "code",
   "execution_count": 62,
   "metadata": {},
   "outputs": [],
   "source": [
    "features = [x for x in df_balanced.columns if x not in ['FAILURE_TARGET','EQUIPMENT_FAILURE']]  \n",
    "dependent=pd.DataFrame(df_balanced['FAILURE_TARGET'])\n",
    "\n",
    "independent=df_balanced.drop(columns=['FAILURE_TARGET'])"
   ]
  },
  {
   "cell_type": "code",
   "execution_count": 63,
   "metadata": {},
   "outputs": [],
   "source": [
    "#make sure everything is numeric for simplicity\n",
    "#independent = independent.apply(pd.to_numeric) \n",
    "#df_balanced = df_balanced.apply(pd.to_numeric)"
   ]
  },
  {
   "cell_type": "markdown",
   "metadata": {},
   "source": [
    "Define model specs."
   ]
  },
  {
   "cell_type": "code",
   "execution_count": 64,
   "metadata": {},
   "outputs": [],
   "source": [
    "import matplotlib.pylab as plt\n",
    "%matplotlib inline\n",
    "\n",
    "def evaluate_model(alg, train, target, predictors,  early_stopping_rounds=1):\n",
    "    \n",
    "   \n",
    "    #Fit the algorithm on the data\n",
    "    alg.fit(train[predictors], target['FAILURE_TARGET'], eval_metric='auc')\n",
    "        \n",
    "    #Predict training set:\n",
    "    dtrain_predictions = alg.predict(train[predictors])\n",
    "    dtrain_predprob = alg.predict_proba(train[predictors])[:,1]\n",
    "    \n",
    "    feat_imp = pd.Series(alg.get_booster().get_fscore()).sort_values(ascending=False) \n",
    "    feat_imp.plot(kind='bar', title='Feature Importance', color='g') \n",
    "    plt.ylabel('Feature Importance Score')\n",
    "        \n",
    "    #Print model report:\n",
    "    print(\"\\nModel Report\")\n",
    "    print(\"Accuracy : %.4g\" % metrics.accuracy_score(target['FAILURE_TARGET'].values, dtrain_predictions))\n",
    "    print(\"AUC Score (Balanced): %f\" % metrics.roc_auc_score(target['FAILURE_TARGET'], dtrain_predprob))"
   ]
  },
  {
   "cell_type": "markdown",
   "metadata": {},
   "source": [
    "We are initializing our model with default model parameters. Note that we could probably improve the results by tweaking the parameters, but we will save that exercise for another day."
   ]
  },
  {
   "cell_type": "code",
   "execution_count": 65,
   "metadata": {},
   "outputs": [],
   "source": [
    "xgb0 = XGBClassifier(\n",
    " objective= 'binary:logistic', use_label_encoder=False) #use_label_encoder=False"
   ]
  },
  {
   "cell_type": "markdown",
   "metadata": {},
   "source": [
    "### Evaluate the Model"
   ]
  },
  {
   "cell_type": "markdown",
   "metadata": {},
   "source": [
    "Probably the most confusing element of PM problems is building a realistic assessment of the model. Because of timing and the small number of failures, understanding how the model will work once deployed in production is challenging."
   ]
  },
  {
   "cell_type": "markdown",
   "metadata": {},
   "source": [
    "#### Evaluate the model using an AUC and accuracy metrics."
   ]
  },
  {
   "cell_type": "markdown",
   "metadata": {},
   "source": [
    "First, we will evaluate the balanced training data with the default, a 50% cut-off.\n",
    "\n",
    "For information on how to find the best cut-off for these types of problems:\n",
    "https://medium.com/swlh/determining-a-cut-off-or-threshold-when-working-with-a-binary-dependent-target-variable-7c2342cf2a7c"
   ]
  },
  {
   "cell_type": "code",
   "execution_count": 66,
   "metadata": {},
   "outputs": [
    {
     "name": "stdout",
     "output_type": "stream",
     "text": [
      "\n",
      "Model Report\n",
      "Accuracy : 0.9808\n",
      "AUC Score (Balanced): 0.995133\n"
     ]
    },
    {
     "data": {
      "image/png": "[encoded data removed]",
      "text/plain": [
       "<Figure size 432x288 with 1 Axes>"
      ]
     },
     "metadata": {
      "needs_background": "light"
     },
     "output_type": "display_data"
    }
   ],
   "source": [
    "evaluate_model(xgb0, independent, dependent,features) "
   ]
  },
  {
   "cell_type": "markdown",
   "metadata": {},
   "source": [
    "With a cut-off of 50%, the accuracy is .9808, and the AUC is .995133 on the balanced training data."
   ]
  },
  {
   "cell_type": "code",
   "execution_count": 67,
   "metadata": {},
   "outputs": [],
   "source": [
    "\n",
    "df_testing=df_train_test[df_train_test['MODELING_GROUP'] == 'TESTING'].copy()\n",
    "df_training=df_train_test[df_train_test['MODELING_GROUP'] != 'TESTING'].copy()"
   ]
  },
  {
   "cell_type": "code",
   "execution_count": 68,
   "metadata": {},
   "outputs": [
    {
     "name": "stdout",
     "output_type": "stream",
     "text": [
      "Accuracy : 0.9651\n",
      "AUC Score (Train): 0.834468\n"
     ]
    }
   ],
   "source": [
    "\n",
    "\n",
    "df_training['P_FAIL']= xgb0.predict_proba(df_training[features])[:,1];\n",
    "df_training['Y_FAIL'] = np.where(((df_training.P_FAIL <= .50)), 0, 1)\n",
    "#Print model report:\n",
    "print(\"Accuracy : %.4g\" % metrics.accuracy_score(df_training['FAILURE_TARGET'].values, df_training['Y_FAIL']))\n",
    "print(\"AUC Score (Train): %f\" % metrics.roc_auc_score(df_training['FAILURE_TARGET'], df_training['P_FAIL']))"
   ]
  },
  {
   "cell_type": "markdown",
   "metadata": {},
   "source": [
    "With a 50% cut-off, we get an accuracy of .9651 and an AUC of .834468\n",
    "\n",
    "Now, lets' try with a 67% cut-off. Probabilities larger than 67% are labeled as failures. Probabilities less than or equal to 67% are labeled as non-failures."
   ]
  },
  {
   "cell_type": "code",
   "execution_count": 69,
   "metadata": {},
   "outputs": [
    {
     "name": "stdout",
     "output_type": "stream",
     "text": [
      "Accuracy : 0.9669\n",
      "AUC Score (Train): 0.834468\n"
     ]
    }
   ],
   "source": [
    "df_training['P_FAIL']= xgb0.predict_proba(df_training[features])[:,1];\n",
    "df_training['Y_FAIL'] = np.where(((df_training.P_FAIL <= .67)), 0, 1)\n",
    "#Print model report:\n",
    "print(\"Accuracy : %.4g\" % metrics.accuracy_score(df_training['FAILURE_TARGET'].values, df_training['Y_FAIL']))\n",
    "print(\"AUC Score (Train): %f\" % metrics.roc_auc_score(df_training['FAILURE_TARGET'], df_training['P_FAIL']))"
   ]
  },
  {
   "cell_type": "markdown",
   "metadata": {},
   "source": [
    "marginal improvement, apply the model to the testing data set."
   ]
  },
  {
   "cell_type": "code",
   "execution_count": 70,
   "metadata": {},
   "outputs": [
    {
     "name": "stdout",
     "output_type": "stream",
     "text": [
      "Accuracy : 0.6866\n",
      "AUC Score (Test): 0.481575\n"
     ]
    }
   ],
   "source": [
    "df_testing['P_FAIL']= xgb0.predict_proba(df_testing[features])[:,1];\n",
    "df_testing['Y_FAIL'] = np.where(((df_testing.P_FAIL <= .67)), 0, 1)\n",
    "#Print model report:\n",
    "print(\"Accuracy : %.4g\" % metrics.accuracy_score(df_testing['FAILURE_TARGET'].values, df_testing['Y_FAIL']))\n",
    "print(\"AUC Score (Test): %f\" % metrics.roc_auc_score(df_testing['FAILURE_TARGET'], df_testing['P_FAIL']))"
   ]
  },
  {
   "cell_type": "markdown",
   "metadata": {},
   "source": [
    "### Evaluating model with a confusion matrix"
   ]
  },
  {
   "cell_type": "markdown",
   "metadata": {},
   "source": [
    "A confusion matrix specifically lays out the following metrics.\n",
    "\n",
    "True Positive. The model predicts the machine will fail, and it does.\n",
    "\n",
    "True Negative. The model predicts the machine will not fail and it does not fail.\n",
    "\n",
    "False Positive. The model predicts the machine will fail and it does not fail.\n",
    "\n",
    "False Negative. The model predicts the machine will not fail and it fails.\n",
    "\n",
    "These metrics directly correlate to the economic costs of our PM problem."
   ]
  },
  {
   "cell_type": "code",
   "execution_count": 141,
   "metadata": {},
   "outputs": [
    {
     "data": {
      "text/html": [
       "<img src=\"https://raw.githubusercontent.com/KhyleHickey/Python-projects/master/Maintenance_cost.png\"/>"
      ],
      "text/plain": [
       "<IPython.core.display.Image object>"
      ]
     },
     "execution_count": 141,
     "metadata": {},
     "output_type": "execute_result"
    }
   ],
   "source": [
    "from IPython.display import Image\n",
    "from IPython.core.display import HTML \n",
    "Image(url= \"https://raw.githubusercontent.com/KhyleHickey/Python-projects/master/Maintenance_cost.png\")"
   ]
  },
  {
   "cell_type": "markdown",
   "metadata": {},
   "source": [
    "A false positive is “Unnecessary Maintenance.” When your model predicts failure and is not going to fail, you incur unnecessary maintenance costs.\n",
    "\n",
    "A true positive is “Timely and Appropriate Maintenance.” When your model predicts failure, and it is going to fail, you incur timely and appropriate maintenance costs.\n",
    "\n",
    "A false negative is “Machine Runs to Failure.” When your model does not predict failure and fails, you incur costs associated with running your machine to failure.\n",
    "\n",
    "For this use case, this means that a false positive costs $1,500.\n",
    "\n",
    "A false negative costs $30,000.\n",
    "\n",
    "A true positive costs $7,500.\n",
    "\n",
    "A true negative has no cost because no action is taken.\n",
    "\n",
    "A confusion matrix lays out what is important for us to evaluate.\n",
    "\n",
    "A confusion matrix is a cross-tabulation between the binary prediction of failure/non-failure and the actual binary failure/non-failure variable. Remember that we have two actual failure values.\n",
    "\n",
    "The first is the original failure variable, 'EQUIPMENT_FAILURE.'"
   ]
  },
  {
   "cell_type": "code",
   "execution_count": 72,
   "metadata": {},
   "outputs": [
    {
     "data": {
      "text/html": [
       "<div><div id=ef54f9be-dcbc-4006-a996-112ca0ff76a6 style=\"display:none; background-color:#9D6CFF; color:white; width:200px; height:30px; padding-left:5px; border-radius:4px; flex-direction:row; justify-content:space-around; align-items:center;\" onmouseover=\"this.style.backgroundColor='#BA9BF8'\" onmouseout=\"this.style.backgroundColor='#9D6CFF'\" onclick=\"window.commands?.execute('create-mitosheet-from-dataframe-output');\">See Full Dataframe in Mito</div> <script> if (window.commands.hasCommand('create-mitosheet-from-dataframe-output')) document.getElementById('ef54f9be-dcbc-4006-a996-112ca0ff76a6').style.display = 'flex' </script> <table border=\"1\" class=\"dataframe\">\n",
       "  <thead>\n",
       "    <tr style=\"text-align: right;\">\n",
       "      <th></th>\n",
       "      <th>ID</th>\n",
       "    </tr>\n",
       "    <tr>\n",
       "      <th>Machine_failure</th>\n",
       "      <th></th>\n",
       "    </tr>\n",
       "  </thead>\n",
       "  <tbody>\n",
       "    <tr>\n",
       "      <th>0</th>\n",
       "      <td>316275</td>\n",
       "    </tr>\n",
       "    <tr>\n",
       "      <th>1</th>\n",
       "      <td>22725</td>\n",
       "    </tr>\n",
       "  </tbody>\n",
       "</table></div>"
      ],
      "text/plain": [
       "                     ID\n",
       "Machine_failure        \n",
       "0                316275\n",
       "1                 22725"
      ]
     },
     "execution_count": 72,
     "metadata": {},
     "output_type": "execute_result"
    }
   ],
   "source": [
    "xxxx = pd.DataFrame(pd_data_1.groupby(['Machine_failure'])['ID'].agg('count'))\n",
    "xxxx"
   ]
  },
  {
   "cell_type": "markdown",
   "metadata": {},
   "source": [
    "Machine_failure has 22725 failure indicators. Remember that a '1' appears on the day that the failure occurs.\n",
    "\n",
    "Let's examine a cross-tab of Machine_failure with the predicted binary failure variable for the testing data set ('Y_FAIL')."
   ]
  },
  {
   "cell_type": "code",
   "execution_count": 73,
   "metadata": {},
   "outputs": [
    {
     "name": "stdout",
     "output_type": "stream",
     "text": [
      "Machine_failure      0    1\n",
      "Y_FAIL                     \n",
      "0                33973  916\n",
      "1                14769  342\n"
     ]
    }
   ],
   "source": [
    "print(pd.crosstab(df_testing.Y_FAIL, df_testing.Machine_failure, dropna=False))"
   ]
  },
  {
   "cell_type": "markdown",
   "metadata": {},
   "source": [
    "According to the confusion matrix above, we have 342 true positives, 33973 false negatives, 14769 false positives, and 916 true negatives.  \n",
    "\n",
    "Is this right?  \n",
    "\n",
    "No, it isn't.  Think about it.  \n",
    "\n",
    "The 'EQUIPMENT_FAILURE' variable identifies a failure on the day it occurs.  Let's say that failure occurs on Friday, and we have signals for failure on Monday, Tuesday, Wednesday, and Thursday, but not on Friday.  I would argue that the failure on Friday is a True Positive, given that there were four failure signals in the days leading up to the failure.  However, the confusion matrix above counts Monday, Tuesday, Wednesday, and Thursday as false positives and Friday as a false negative.  This doesn't work, does it?\n",
    "\n",
    "\n",
    "Now, we will create a confusion matrix using 'FAILURE_TARGET.'  This is the predicted binary variable where the 28 days leading up to a failure are flagged with a '1'."
   ]
  },
  {
   "cell_type": "code",
   "execution_count": 74,
   "metadata": {},
   "outputs": [
    {
     "name": "stdout",
     "output_type": "stream",
     "text": [
      "FAILURE_TARGET      0    1\n",
      "Y_FAIL                    \n",
      "0               33928  961\n",
      "1               14710  401\n"
     ]
    }
   ],
   "source": [
    "print(pd.crosstab(df_testing.Y_FAIL, df_testing.FAILURE_TARGET, dropna=False))"
   ]
  },
  {
   "cell_type": "markdown",
   "metadata": {},
   "source": [
    "With 'FAILURE_TARGET,' we have 401 True Positives, 33928 False Negatives, 14710 False Positives, and 961 True Negatives.  \n",
    "\n",
    "Does this work?  \n",
    "\n",
    "Not really, huh.  Think about it.  \n",
    "\n",
    "Each failure is represented 28 different times. If a machine fails on Friday the 28th, the previous twenty-seven days of the month are also flagged as a failure.  \n",
    "\n",
    "Friday can be a true positive, the previous Wednesday a true positive, and the previous Thursday a false positive.  \n",
    "\n",
    "The example above clearly does not reflect what we can expect when we push this model into production."
   ]
  },
  {
   "cell_type": "markdown",
   "metadata": {},
   "source": [
    "So, what does all this mean?  To get an accurate accounting of how the model will work in production, we use additional logic and business rules/heuristics."
   ]
  },
  {
   "cell_type": "markdown",
   "metadata": {},
   "source": [
    "#### Using Heuristics to Define a False Positive, True Positive, False Negative, and True Negative."
   ]
  },
  {
   "cell_type": "markdown",
   "metadata": {},
   "source": [
    "To accurately evaluate our machine learning model, we first need to define a few parameters.  I usually fine-tune these parameters with the testing and training data sets, then confirm the accuracy with the validation data set.\n",
    "\n",
    "The first parameter is the Forecast Window.  \n",
    "\n",
    "The Forecast Window is the length of time a failure signal projects into the future.  \n",
    "\n",
    "For example, if there is a failure signal on June 1st, how long is that signal good for?  \n",
    "\n",
    "Does it mean the machine will break in the next second, minute, hour, day, or month? \n",
    "\n",
    "Note that the length of the forecast window depends on the context of the problem.  If a machine runs to failure in 10 years, the forecast window will be relatively long, perhaps as long as six or nine months.  If a machine runs to failure in 1 day, the forecast window will be much shorter, maybe an hour or a few minutes.  The length of the forecast window must be helpful to the problem.  For example, a twenty-eight-day forecast window for a machine that runs to failure in thirty days is of little value.  \n",
    "\n",
    "In our current use case, the machine runs to failure in four to six years, so a ninety-day forecast window is reasonable."
   ]
  },
  {
   "cell_type": "code",
   "execution_count": 75,
   "metadata": {},
   "outputs": [],
   "source": [
    "forecast_window=90"
   ]
  },
  {
   "cell_type": "markdown",
   "metadata": {},
   "source": [
    "Now that we defined the forecast window we will now apply it to the data.  This means that a signal is good for ninety days.  For example, if a signal appears on January 1st, that signal is good until March 31st (ninety days)"
   ]
  },
  {
   "cell_type": "markdown",
   "metadata": {},
   "source": [
    "We will create a new failure indicator.  \n",
    "\n",
    "This failure indicator (signal) can only appear every ninety days.  Note that we have panel data and must ensure that the signals don't \"bleed\" from one machine to the next.  For example, if a signal occurs on machine X's last possible day, we do not want the window for machine X+1 to be affected by this signal."
   ]
  },
  {
   "cell_type": "markdown",
   "metadata": {},
   "source": [
    "Score df_train_test"
   ]
  },
  {
   "cell_type": "code",
   "execution_count": 76,
   "metadata": {},
   "outputs": [],
   "source": [
    "df_train_test['P_FAIL']= xgb0.predict_proba(df_train_test[features])[:,1];\n",
    "df_train_test['Y_FAIL'] = np.where(((df_train_test.P_FAIL <= .67)), 0, 1)"
   ]
  },
  {
   "cell_type": "code",
   "execution_count": 77,
   "metadata": {},
   "outputs": [],
   "source": [
    "#sort the data by id and date.\n",
    "xx=df_train_test\n",
    "xx=xx.sort_values(by=['ID','Date'], ascending=[True, True])"
   ]
  },
  {
   "cell_type": "code",
   "execution_count": 78,
   "metadata": {},
   "outputs": [
    {
     "data": {
      "text/plain": [
       "(4, 1)"
      ]
     },
     "execution_count": 78,
     "metadata": {},
     "output_type": "execute_result"
    }
   ],
   "source": [
    "#create a unique list of machines\n",
    "aa=xx\n",
    "\n",
    "pd_id=aa.drop_duplicates(subset='ID')\n",
    "pd_id=pd_id[['ID']]\n",
    "pd_id.shape"
   ]
  },
  {
   "cell_type": "code",
   "execution_count": 79,
   "metadata": {},
   "outputs": [
    {
     "data": {
      "text/html": [
       "<div><div id=bc01b98f-cf07-49f1-b442-a0d76cc45526 style=\"display:none; background-color:#9D6CFF; color:white; width:200px; height:30px; padding-left:5px; border-radius:4px; flex-direction:row; justify-content:space-around; align-items:center;\" onmouseover=\"this.style.backgroundColor='#BA9BF8'\" onmouseout=\"this.style.backgroundColor='#9D6CFF'\" onclick=\"window.commands?.execute('create-mitosheet-from-dataframe-output');\">See Full Dataframe in Mito</div> <script> if (window.commands.hasCommand('create-mitosheet-from-dataframe-output')) document.getElementById('bc01b98f-cf07-49f1-b442-a0d76cc45526').style.display = 'flex' </script> <table border=\"1\" class=\"dataframe\">\n",
       "  <thead>\n",
       "    <tr style=\"text-align: right;\">\n",
       "      <th></th>\n",
       "      <th>SCOOBYDOO</th>\n",
       "      <th>ID</th>\n",
       "    </tr>\n",
       "  </thead>\n",
       "  <tbody>\n",
       "    <tr>\n",
       "      <th>0</th>\n",
       "      <td>1</td>\n",
       "      <td>H29424</td>\n",
       "    </tr>\n",
       "    <tr>\n",
       "      <th>1</th>\n",
       "      <td>2</td>\n",
       "      <td>H29457</td>\n",
       "    </tr>\n",
       "    <tr>\n",
       "      <th>2</th>\n",
       "      <td>3</td>\n",
       "      <td>L47242</td>\n",
       "    </tr>\n",
       "    <tr>\n",
       "      <th>3</th>\n",
       "      <td>4</td>\n",
       "      <td>M14918</td>\n",
       "    </tr>\n",
       "  </tbody>\n",
       "</table></div>"
      ],
      "text/plain": [
       "   SCOOBYDOO      ID\n",
       "0          1  H29424\n",
       "1          2  H29457\n",
       "2          3  L47242\n",
       "3          4  M14918"
      ]
     },
     "execution_count": 79,
     "metadata": {},
     "output_type": "execute_result"
    }
   ],
   "source": [
    "#label each machine with a sequential number\n",
    "pd_id=pd_id.reset_index(drop=True)\n",
    "pd_id=pd_id.reset_index(drop=False)\n",
    "pd_id=pd_id.rename(columns={\"index\": \"SCOOBYDOO\"})\n",
    "pd_id['SCOOBYDOO']=pd_id['SCOOBYDOO']+1\n",
    "pd_id.head()"
   ]
  },
  {
   "cell_type": "code",
   "execution_count": 80,
   "metadata": {},
   "outputs": [
    {
     "data": {
      "text/plain": [
       "5"
      ]
     },
     "execution_count": 80,
     "metadata": {},
     "output_type": "execute_result"
    }
   ],
   "source": [
    "#grab the max number of machines +1\n",
    "\n",
    "column = pd_id[\"SCOOBYDOO\"]\n",
    "max_value = column.max()+1\n",
    "max_value"
   ]
  },
  {
   "cell_type": "code",
   "execution_count": 81,
   "metadata": {},
   "outputs": [
    {
     "data": {
      "text/html": [
       "<div><div id=04ca4ae8-b279-42ac-863c-da9042120c29 style=\"display:none; background-color:#9D6CFF; color:white; width:200px; height:30px; padding-left:5px; border-radius:4px; flex-direction:row; justify-content:space-around; align-items:center;\" onmouseover=\"this.style.backgroundColor='#BA9BF8'\" onmouseout=\"this.style.backgroundColor='#9D6CFF'\" onclick=\"window.commands?.execute('create-mitosheet-from-dataframe-output');\">See Full Dataframe in Mito</div> <script> if (window.commands.hasCommand('create-mitosheet-from-dataframe-output')) document.getElementById('04ca4ae8-b279-42ac-863c-da9042120c29').style.display = 'flex' </script> <table border=\"1\" class=\"dataframe\">\n",
       "  <thead>\n",
       "    <tr style=\"text-align: right;\">\n",
       "      <th></th>\n",
       "      <th>index</th>\n",
       "      <th>UDI</th>\n",
       "      <th>Date</th>\n",
       "      <th>ID</th>\n",
       "      <th>Internal_Pressure_MPa</th>\n",
       "      <th>Battery_Charging_Current_A</th>\n",
       "      <th>coolant_temp_C</th>\n",
       "      <th>carbon_monoxide_content_gramspersec</th>\n",
       "      <th>Oil_Viscosity_cSt</th>\n",
       "      <th>Age_days</th>\n",
       "      <th>Machine_failure</th>\n",
       "      <th>TIME_SINCE_START</th>\n",
       "      <th>too_soon</th>\n",
       "      <th>pressure_mean</th>\n",
       "      <th>pressure_median</th>\n",
       "      <th>pressure_max</th>\n",
       "      <th>pressure_min</th>\n",
       "      <th>current_mean</th>\n",
       "      <th>current_median</th>\n",
       "      <th>current_max</th>\n",
       "      <th>current_min</th>\n",
       "      <th>ctemp_mean</th>\n",
       "      <th>ctemp_median</th>\n",
       "      <th>ctemp_max</th>\n",
       "      <th>ctemp_min</th>\n",
       "      <th>CO_mean</th>\n",
       "      <th>CO_median</th>\n",
       "      <th>CO_max</th>\n",
       "      <th>CO_min</th>\n",
       "      <th>viscosity_mean</th>\n",
       "      <th>viscosity_median</th>\n",
       "      <th>viscosity_max</th>\n",
       "      <th>viscosity_min</th>\n",
       "      <th>pressure_chg</th>\n",
       "      <th>current_chg</th>\n",
       "      <th>ctemp_chg</th>\n",
       "      <th>CO_chg</th>\n",
       "      <th>viscosity_chg</th>\n",
       "      <th>FAILURE_DATE</th>\n",
       "      <th>C</th>\n",
       "      <th>FAILURE_TARGET</th>\n",
       "      <th>MODELING_GROUP</th>\n",
       "      <th>P_FAIL</th>\n",
       "      <th>Y_FAIL</th>\n",
       "      <th>SCOOBYDOO</th>\n",
       "    </tr>\n",
       "  </thead>\n",
       "  <tbody>\n",
       "    <tr>\n",
       "      <th>0</th>\n",
       "      <td>0</td>\n",
       "      <td>3001</td>\n",
       "      <td>2002-07-23</td>\n",
       "      <td>H29424</td>\n",
       "      <td>34.431193</td>\n",
       "      <td>3.462948</td>\n",
       "      <td>122.633301</td>\n",
       "      <td>0.013031</td>\n",
       "      <td>9.277736</td>\n",
       "      <td>876</td>\n",
       "      <td>1</td>\n",
       "      <td>0.0</td>\n",
       "      <td>1</td>\n",
       "      <td>34.431193</td>\n",
       "      <td>34.431193</td>\n",
       "      <td>34.431193</td>\n",
       "      <td>34.431193</td>\n",
       "      <td>3.462948</td>\n",
       "      <td>3.462948</td>\n",
       "      <td>3.462948</td>\n",
       "      <td>3.462948</td>\n",
       "      <td>122.633301</td>\n",
       "      <td>122.633301</td>\n",
       "      <td>122.633301</td>\n",
       "      <td>122.633301</td>\n",
       "      <td>0.013031</td>\n",
       "      <td>0.013031</td>\n",
       "      <td>0.013031</td>\n",
       "      <td>0.013031</td>\n",
       "      <td>9.277736</td>\n",
       "      <td>9.277736</td>\n",
       "      <td>9.277736</td>\n",
       "      <td>9.277736</td>\n",
       "      <td>1.000000</td>\n",
       "      <td>1.000000</td>\n",
       "      <td>1.00000</td>\n",
       "      <td>1.000000</td>\n",
       "      <td>1.000000</td>\n",
       "      <td>2002-07-23</td>\n",
       "      <td>0 days</td>\n",
       "      <td>1</td>\n",
       "      <td>TESTING</td>\n",
       "      <td>0.124587</td>\n",
       "      <td>0</td>\n",
       "      <td>1</td>\n",
       "    </tr>\n",
       "    <tr>\n",
       "      <th>1</th>\n",
       "      <td>244</td>\n",
       "      <td>3667</td>\n",
       "      <td>2004-05-19</td>\n",
       "      <td>H29424</td>\n",
       "      <td>41.846119</td>\n",
       "      <td>4.953185</td>\n",
       "      <td>74.686898</td>\n",
       "      <td>0.007142</td>\n",
       "      <td>6.473876</td>\n",
       "      <td>882</td>\n",
       "      <td>0</td>\n",
       "      <td>666.0</td>\n",
       "      <td>0</td>\n",
       "      <td>41.682078</td>\n",
       "      <td>41.504817</td>\n",
       "      <td>47.931085</td>\n",
       "      <td>33.017597</td>\n",
       "      <td>3.717396</td>\n",
       "      <td>3.888271</td>\n",
       "      <td>4.970757</td>\n",
       "      <td>2.112956</td>\n",
       "      <td>93.388952</td>\n",
       "      <td>93.374953</td>\n",
       "      <td>124.124733</td>\n",
       "      <td>67.463998</td>\n",
       "      <td>0.007205</td>\n",
       "      <td>0.007187</td>\n",
       "      <td>0.010310</td>\n",
       "      <td>0.004475</td>\n",
       "      <td>8.678482</td>\n",
       "      <td>8.837123</td>\n",
       "      <td>12.412448</td>\n",
       "      <td>5.529632</td>\n",
       "      <td>1.003936</td>\n",
       "      <td>1.332434</td>\n",
       "      <td>0.79974</td>\n",
       "      <td>0.991216</td>\n",
       "      <td>0.745969</td>\n",
       "      <td>2005-02-20</td>\n",
       "      <td>277 days</td>\n",
       "      <td>0</td>\n",
       "      <td>TESTING</td>\n",
       "      <td>0.039713</td>\n",
       "      <td>0</td>\n",
       "      <td>1</td>\n",
       "    </tr>\n",
       "    <tr>\n",
       "      <th>2</th>\n",
       "      <td>245</td>\n",
       "      <td>3667</td>\n",
       "      <td>2004-05-19</td>\n",
       "      <td>H29424</td>\n",
       "      <td>41.846119</td>\n",
       "      <td>4.953185</td>\n",
       "      <td>74.686898</td>\n",
       "      <td>0.007142</td>\n",
       "      <td>6.473876</td>\n",
       "      <td>882</td>\n",
       "      <td>0</td>\n",
       "      <td>666.0</td>\n",
       "      <td>0</td>\n",
       "      <td>41.682078</td>\n",
       "      <td>41.504817</td>\n",
       "      <td>47.931085</td>\n",
       "      <td>33.017597</td>\n",
       "      <td>3.717396</td>\n",
       "      <td>3.888271</td>\n",
       "      <td>4.970757</td>\n",
       "      <td>2.112956</td>\n",
       "      <td>93.388952</td>\n",
       "      <td>93.374953</td>\n",
       "      <td>124.124733</td>\n",
       "      <td>67.463998</td>\n",
       "      <td>0.007205</td>\n",
       "      <td>0.007187</td>\n",
       "      <td>0.010310</td>\n",
       "      <td>0.004475</td>\n",
       "      <td>8.678482</td>\n",
       "      <td>8.837123</td>\n",
       "      <td>12.412448</td>\n",
       "      <td>5.529632</td>\n",
       "      <td>1.003936</td>\n",
       "      <td>1.332434</td>\n",
       "      <td>0.79974</td>\n",
       "      <td>0.991216</td>\n",
       "      <td>0.745969</td>\n",
       "      <td>2005-02-12</td>\n",
       "      <td>269 days</td>\n",
       "      <td>0</td>\n",
       "      <td>TESTING</td>\n",
       "      <td>0.039713</td>\n",
       "      <td>0</td>\n",
       "      <td>1</td>\n",
       "    </tr>\n",
       "    <tr>\n",
       "      <th>3</th>\n",
       "      <td>246</td>\n",
       "      <td>3667</td>\n",
       "      <td>2004-05-19</td>\n",
       "      <td>H29424</td>\n",
       "      <td>41.846119</td>\n",
       "      <td>4.953185</td>\n",
       "      <td>74.686898</td>\n",
       "      <td>0.007142</td>\n",
       "      <td>6.473876</td>\n",
       "      <td>882</td>\n",
       "      <td>0</td>\n",
       "      <td>666.0</td>\n",
       "      <td>0</td>\n",
       "      <td>41.682078</td>\n",
       "      <td>41.504817</td>\n",
       "      <td>47.931085</td>\n",
       "      <td>33.017597</td>\n",
       "      <td>3.717396</td>\n",
       "      <td>3.888271</td>\n",
       "      <td>4.970757</td>\n",
       "      <td>2.112956</td>\n",
       "      <td>93.388952</td>\n",
       "      <td>93.374953</td>\n",
       "      <td>124.124733</td>\n",
       "      <td>67.463998</td>\n",
       "      <td>0.007205</td>\n",
       "      <td>0.007187</td>\n",
       "      <td>0.010310</td>\n",
       "      <td>0.004475</td>\n",
       "      <td>8.678482</td>\n",
       "      <td>8.837123</td>\n",
       "      <td>12.412448</td>\n",
       "      <td>5.529632</td>\n",
       "      <td>1.003936</td>\n",
       "      <td>1.332434</td>\n",
       "      <td>0.79974</td>\n",
       "      <td>0.991216</td>\n",
       "      <td>0.745969</td>\n",
       "      <td>2005-02-05</td>\n",
       "      <td>262 days</td>\n",
       "      <td>0</td>\n",
       "      <td>TESTING</td>\n",
       "      <td>0.039713</td>\n",
       "      <td>0</td>\n",
       "      <td>1</td>\n",
       "    </tr>\n",
       "    <tr>\n",
       "      <th>4</th>\n",
       "      <td>257</td>\n",
       "      <td>3667</td>\n",
       "      <td>2004-05-19</td>\n",
       "      <td>H29424</td>\n",
       "      <td>41.846119</td>\n",
       "      <td>4.953185</td>\n",
       "      <td>74.686898</td>\n",
       "      <td>0.007142</td>\n",
       "      <td>6.473876</td>\n",
       "      <td>882</td>\n",
       "      <td>0</td>\n",
       "      <td>666.0</td>\n",
       "      <td>0</td>\n",
       "      <td>41.682078</td>\n",
       "      <td>41.504817</td>\n",
       "      <td>47.931085</td>\n",
       "      <td>33.017597</td>\n",
       "      <td>3.717396</td>\n",
       "      <td>3.888271</td>\n",
       "      <td>4.970757</td>\n",
       "      <td>2.112956</td>\n",
       "      <td>93.388952</td>\n",
       "      <td>93.374953</td>\n",
       "      <td>124.124733</td>\n",
       "      <td>67.463998</td>\n",
       "      <td>0.007205</td>\n",
       "      <td>0.007187</td>\n",
       "      <td>0.010310</td>\n",
       "      <td>0.004475</td>\n",
       "      <td>8.678482</td>\n",
       "      <td>8.837123</td>\n",
       "      <td>12.412448</td>\n",
       "      <td>5.529632</td>\n",
       "      <td>1.003936</td>\n",
       "      <td>1.332434</td>\n",
       "      <td>0.79974</td>\n",
       "      <td>0.991216</td>\n",
       "      <td>0.745969</td>\n",
       "      <td>2004-03-25</td>\n",
       "      <td>-55 days</td>\n",
       "      <td>0</td>\n",
       "      <td>TESTING</td>\n",
       "      <td>0.039713</td>\n",
       "      <td>0</td>\n",
       "      <td>1</td>\n",
       "    </tr>\n",
       "  </tbody>\n",
       "</table></div>"
      ],
      "text/plain": [
       "   index   UDI       Date      ID  Internal_Pressure_MPa  \\\n",
       "0      0  3001 2002-07-23  H29424              34.431193   \n",
       "1    244  3667 2004-05-19  H29424              41.846119   \n",
       "2    245  3667 2004-05-19  H29424              41.846119   \n",
       "3    246  3667 2004-05-19  H29424              41.846119   \n",
       "4    257  3667 2004-05-19  H29424              41.846119   \n",
       "\n",
       "   Battery_Charging_Current_A  coolant_temp_C  \\\n",
       "0                    3.462948      122.633301   \n",
       "1                    4.953185       74.686898   \n",
       "2                    4.953185       74.686898   \n",
       "3                    4.953185       74.686898   \n",
       "4                    4.953185       74.686898   \n",
       "\n",
       "   carbon_monoxide_content_gramspersec  Oil_Viscosity_cSt  Age_days  \\\n",
       "0                             0.013031           9.277736       876   \n",
       "1                             0.007142           6.473876       882   \n",
       "2                             0.007142           6.473876       882   \n",
       "3                             0.007142           6.473876       882   \n",
       "4                             0.007142           6.473876       882   \n",
       "\n",
       "   Machine_failure  TIME_SINCE_START  too_soon  pressure_mean  \\\n",
       "0                1               0.0         1      34.431193   \n",
       "1                0             666.0         0      41.682078   \n",
       "2                0             666.0         0      41.682078   \n",
       "3                0             666.0         0      41.682078   \n",
       "4                0             666.0         0      41.682078   \n",
       "\n",
       "   pressure_median  pressure_max  pressure_min  current_mean  current_median  \\\n",
       "0        34.431193     34.431193     34.431193      3.462948        3.462948   \n",
       "1        41.504817     47.931085     33.017597      3.717396        3.888271   \n",
       "2        41.504817     47.931085     33.017597      3.717396        3.888271   \n",
       "3        41.504817     47.931085     33.017597      3.717396        3.888271   \n",
       "4        41.504817     47.931085     33.017597      3.717396        3.888271   \n",
       "\n",
       "   current_max  current_min  ctemp_mean  ctemp_median   ctemp_max   ctemp_min  \\\n",
       "0     3.462948     3.462948  122.633301    122.633301  122.633301  122.633301   \n",
       "1     4.970757     2.112956   93.388952     93.374953  124.124733   67.463998   \n",
       "2     4.970757     2.112956   93.388952     93.374953  124.124733   67.463998   \n",
       "3     4.970757     2.112956   93.388952     93.374953  124.124733   67.463998   \n",
       "4     4.970757     2.112956   93.388952     93.374953  124.124733   67.463998   \n",
       "\n",
       "    CO_mean  CO_median    CO_max    CO_min  viscosity_mean  viscosity_median  \\\n",
       "0  0.013031   0.013031  0.013031  0.013031        9.277736          9.277736   \n",
       "1  0.007205   0.007187  0.010310  0.004475        8.678482          8.837123   \n",
       "2  0.007205   0.007187  0.010310  0.004475        8.678482          8.837123   \n",
       "3  0.007205   0.007187  0.010310  0.004475        8.678482          8.837123   \n",
       "4  0.007205   0.007187  0.010310  0.004475        8.678482          8.837123   \n",
       "\n",
       "   viscosity_max  viscosity_min  pressure_chg  current_chg  ctemp_chg  \\\n",
       "0       9.277736       9.277736      1.000000     1.000000    1.00000   \n",
       "1      12.412448       5.529632      1.003936     1.332434    0.79974   \n",
       "2      12.412448       5.529632      1.003936     1.332434    0.79974   \n",
       "3      12.412448       5.529632      1.003936     1.332434    0.79974   \n",
       "4      12.412448       5.529632      1.003936     1.332434    0.79974   \n",
       "\n",
       "     CO_chg  viscosity_chg FAILURE_DATE        C  FAILURE_TARGET  \\\n",
       "0  1.000000       1.000000   2002-07-23   0 days               1   \n",
       "1  0.991216       0.745969   2005-02-20 277 days               0   \n",
       "2  0.991216       0.745969   2005-02-12 269 days               0   \n",
       "3  0.991216       0.745969   2005-02-05 262 days               0   \n",
       "4  0.991216       0.745969   2004-03-25 -55 days               0   \n",
       "\n",
       "  MODELING_GROUP    P_FAIL  Y_FAIL  SCOOBYDOO  \n",
       "0        TESTING  0.124587       0          1  \n",
       "1        TESTING  0.039713       0          1  \n",
       "2        TESTING  0.039713       0          1  \n",
       "3        TESTING  0.039713       0          1  \n",
       "4        TESTING  0.039713       0          1  "
      ]
     },
     "execution_count": 81,
     "metadata": {},
     "output_type": "execute_result"
    }
   ],
   "source": [
    "#append sequential number to main file\n",
    "xx=xx.sort_values(by=['ID'], ascending=[True])\n",
    "pd_id=pd_id.sort_values(by=['ID'], ascending=[True])\n",
    "xx =xx.merge(pd_id, on=['ID'], how='inner')\n",
    "xx.head()"
   ]
  },
  {
   "cell_type": "code",
   "execution_count": 82,
   "metadata": {},
   "outputs": [],
   "source": [
    "#sort data\n",
    "xx=xx.sort_values(by=['ID','Date'], ascending=[True,True])\n",
    "\n",
    "#reset index\n",
    "xx=xx.reset_index(drop=True)"
   ]
  },
  {
   "cell_type": "code",
   "execution_count": 83,
   "metadata": {},
   "outputs": [
    {
     "data": {
      "text/plain": [
       "(0, 46)"
      ]
     },
     "execution_count": 83,
     "metadata": {},
     "output_type": "execute_result"
    }
   ],
   "source": [
    "#create a null dataframe for the next step\n",
    "df_fred=xx\n",
    "df_fred['Y_FAIL_sumxx']=0\n",
    "df_fred=df_fred[df_fred['SCOOBYDOO'] == max_value+1]\n",
    "df_fred.shape"
   ]
  },
  {
   "cell_type": "markdown",
   "metadata": {},
   "source": [
    "The next few steps assign a new failure indicator that incorporates the forecast window.  Note, this calculation occurs at a machine level.  Doing this keeps a signal from one machine affecting another machine. \n",
    "\n",
    " This takes a while to run."
   ]
  },
  {
   "cell_type": "code",
   "execution_count": 84,
   "metadata": {},
   "outputs": [],
   "source": [
    "#sum the number of signals occuring over the last 90 days for each machine individually\n",
    "\n",
    "for x in range(max_value):\n",
    "        dffx=xx[xx['SCOOBYDOO'] ==x]\n",
    "        dff=dffx.copy()\n",
    "        dff['Y_FAIL_sumxx'] =(dff['Y_FAIL'].rolling(min_periods=1, window=(forecast_window)).sum())\n",
    "        df_fred= pd.concat([df_fred,dff])"
   ]
  },
  {
   "cell_type": "code",
   "execution_count": 85,
   "metadata": {},
   "outputs": [],
   "source": [
    "xx=df_fred"
   ]
  },
  {
   "cell_type": "code",
   "execution_count": 86,
   "metadata": {},
   "outputs": [
    {
     "data": {
      "text/html": [
       "<div><div id=2ef2ade2-908f-4e3d-9778-18982b5c48c8 style=\"display:none; background-color:#9D6CFF; color:white; width:200px; height:30px; padding-left:5px; border-radius:4px; flex-direction:row; justify-content:space-around; align-items:center;\" onmouseover=\"this.style.backgroundColor='#BA9BF8'\" onmouseout=\"this.style.backgroundColor='#9D6CFF'\" onclick=\"window.commands?.execute('create-mitosheet-from-dataframe-output');\">See Full Dataframe in Mito</div> <script> if (window.commands.hasCommand('create-mitosheet-from-dataframe-output')) document.getElementById('2ef2ade2-908f-4e3d-9778-18982b5c48c8').style.display = 'flex' </script> <table border=\"1\" class=\"dataframe\">\n",
       "  <thead>\n",
       "    <tr style=\"text-align: right;\">\n",
       "      <th></th>\n",
       "      <th>index</th>\n",
       "      <th>UDI</th>\n",
       "      <th>Date</th>\n",
       "      <th>ID</th>\n",
       "      <th>Internal_Pressure_MPa</th>\n",
       "      <th>Battery_Charging_Current_A</th>\n",
       "      <th>coolant_temp_C</th>\n",
       "      <th>carbon_monoxide_content_gramspersec</th>\n",
       "      <th>Oil_Viscosity_cSt</th>\n",
       "      <th>Age_days</th>\n",
       "      <th>Machine_failure</th>\n",
       "      <th>TIME_SINCE_START</th>\n",
       "      <th>too_soon</th>\n",
       "      <th>pressure_mean</th>\n",
       "      <th>pressure_median</th>\n",
       "      <th>pressure_max</th>\n",
       "      <th>pressure_min</th>\n",
       "      <th>current_mean</th>\n",
       "      <th>current_median</th>\n",
       "      <th>current_max</th>\n",
       "      <th>current_min</th>\n",
       "      <th>ctemp_mean</th>\n",
       "      <th>ctemp_median</th>\n",
       "      <th>ctemp_max</th>\n",
       "      <th>ctemp_min</th>\n",
       "      <th>CO_mean</th>\n",
       "      <th>CO_median</th>\n",
       "      <th>CO_max</th>\n",
       "      <th>CO_min</th>\n",
       "      <th>viscosity_mean</th>\n",
       "      <th>viscosity_median</th>\n",
       "      <th>viscosity_max</th>\n",
       "      <th>viscosity_min</th>\n",
       "      <th>pressure_chg</th>\n",
       "      <th>current_chg</th>\n",
       "      <th>ctemp_chg</th>\n",
       "      <th>CO_chg</th>\n",
       "      <th>viscosity_chg</th>\n",
       "      <th>FAILURE_DATE</th>\n",
       "      <th>C</th>\n",
       "      <th>FAILURE_TARGET</th>\n",
       "      <th>MODELING_GROUP</th>\n",
       "      <th>P_FAIL</th>\n",
       "      <th>Y_FAIL</th>\n",
       "      <th>SCOOBYDOO</th>\n",
       "      <th>Y_FAIL_sumxx</th>\n",
       "    </tr>\n",
       "  </thead>\n",
       "  <tbody>\n",
       "    <tr>\n",
       "      <th>0</th>\n",
       "      <td>0</td>\n",
       "      <td>3001</td>\n",
       "      <td>2002-07-23</td>\n",
       "      <td>H29424</td>\n",
       "      <td>34.431193</td>\n",
       "      <td>3.462948</td>\n",
       "      <td>122.633301</td>\n",
       "      <td>0.013031</td>\n",
       "      <td>9.277736</td>\n",
       "      <td>876</td>\n",
       "      <td>1</td>\n",
       "      <td>0.0</td>\n",
       "      <td>1</td>\n",
       "      <td>34.431193</td>\n",
       "      <td>34.431193</td>\n",
       "      <td>34.431193</td>\n",
       "      <td>34.431193</td>\n",
       "      <td>3.462948</td>\n",
       "      <td>3.462948</td>\n",
       "      <td>3.462948</td>\n",
       "      <td>3.462948</td>\n",
       "      <td>122.633301</td>\n",
       "      <td>122.633301</td>\n",
       "      <td>122.633301</td>\n",
       "      <td>122.633301</td>\n",
       "      <td>0.013031</td>\n",
       "      <td>0.013031</td>\n",
       "      <td>0.013031</td>\n",
       "      <td>0.013031</td>\n",
       "      <td>9.277736</td>\n",
       "      <td>9.277736</td>\n",
       "      <td>9.277736</td>\n",
       "      <td>9.277736</td>\n",
       "      <td>1.0</td>\n",
       "      <td>1.0</td>\n",
       "      <td>1.0</td>\n",
       "      <td>1.0</td>\n",
       "      <td>1.0</td>\n",
       "      <td>2002-07-23</td>\n",
       "      <td>0 days</td>\n",
       "      <td>1</td>\n",
       "      <td>TESTING</td>\n",
       "      <td>0.124587</td>\n",
       "      <td>0</td>\n",
       "      <td>1</td>\n",
       "      <td>0.0</td>\n",
       "    </tr>\n",
       "    <tr>\n",
       "      <th>1</th>\n",
       "      <td>1</td>\n",
       "      <td>3001</td>\n",
       "      <td>2002-07-23</td>\n",
       "      <td>H29424</td>\n",
       "      <td>34.431193</td>\n",
       "      <td>3.462948</td>\n",
       "      <td>122.633301</td>\n",
       "      <td>0.013031</td>\n",
       "      <td>9.277736</td>\n",
       "      <td>876</td>\n",
       "      <td>1</td>\n",
       "      <td>0.0</td>\n",
       "      <td>1</td>\n",
       "      <td>34.431193</td>\n",
       "      <td>34.431193</td>\n",
       "      <td>34.431193</td>\n",
       "      <td>34.431193</td>\n",
       "      <td>3.462948</td>\n",
       "      <td>3.462948</td>\n",
       "      <td>3.462948</td>\n",
       "      <td>3.462948</td>\n",
       "      <td>122.633301</td>\n",
       "      <td>122.633301</td>\n",
       "      <td>122.633301</td>\n",
       "      <td>122.633301</td>\n",
       "      <td>0.013031</td>\n",
       "      <td>0.013031</td>\n",
       "      <td>0.013031</td>\n",
       "      <td>0.013031</td>\n",
       "      <td>9.277736</td>\n",
       "      <td>9.277736</td>\n",
       "      <td>9.277736</td>\n",
       "      <td>9.277736</td>\n",
       "      <td>1.0</td>\n",
       "      <td>1.0</td>\n",
       "      <td>1.0</td>\n",
       "      <td>1.0</td>\n",
       "      <td>1.0</td>\n",
       "      <td>2005-02-20</td>\n",
       "      <td>943 days</td>\n",
       "      <td>0</td>\n",
       "      <td>TESTING</td>\n",
       "      <td>0.124587</td>\n",
       "      <td>0</td>\n",
       "      <td>1</td>\n",
       "      <td>0.0</td>\n",
       "    </tr>\n",
       "  </tbody>\n",
       "</table></div>"
      ],
      "text/plain": [
       "   index   UDI       Date      ID  Internal_Pressure_MPa  \\\n",
       "0      0  3001 2002-07-23  H29424              34.431193   \n",
       "1      1  3001 2002-07-23  H29424              34.431193   \n",
       "\n",
       "   Battery_Charging_Current_A  coolant_temp_C  \\\n",
       "0                    3.462948      122.633301   \n",
       "1                    3.462948      122.633301   \n",
       "\n",
       "   carbon_monoxide_content_gramspersec  Oil_Viscosity_cSt  Age_days  \\\n",
       "0                             0.013031           9.277736       876   \n",
       "1                             0.013031           9.277736       876   \n",
       "\n",
       "   Machine_failure  TIME_SINCE_START  too_soon  pressure_mean  \\\n",
       "0                1               0.0         1      34.431193   \n",
       "1                1               0.0         1      34.431193   \n",
       "\n",
       "   pressure_median  pressure_max  pressure_min  current_mean  current_median  \\\n",
       "0        34.431193     34.431193     34.431193      3.462948        3.462948   \n",
       "1        34.431193     34.431193     34.431193      3.462948        3.462948   \n",
       "\n",
       "   current_max  current_min  ctemp_mean  ctemp_median   ctemp_max   ctemp_min  \\\n",
       "0     3.462948     3.462948  122.633301    122.633301  122.633301  122.633301   \n",
       "1     3.462948     3.462948  122.633301    122.633301  122.633301  122.633301   \n",
       "\n",
       "    CO_mean  CO_median    CO_max    CO_min  viscosity_mean  viscosity_median  \\\n",
       "0  0.013031   0.013031  0.013031  0.013031        9.277736          9.277736   \n",
       "1  0.013031   0.013031  0.013031  0.013031        9.277736          9.277736   \n",
       "\n",
       "   viscosity_max  viscosity_min  pressure_chg  current_chg  ctemp_chg  CO_chg  \\\n",
       "0       9.277736       9.277736           1.0          1.0        1.0     1.0   \n",
       "1       9.277736       9.277736           1.0          1.0        1.0     1.0   \n",
       "\n",
       "   viscosity_chg FAILURE_DATE        C  FAILURE_TARGET MODELING_GROUP  \\\n",
       "0            1.0   2002-07-23   0 days               1        TESTING   \n",
       "1            1.0   2005-02-20 943 days               0        TESTING   \n",
       "\n",
       "     P_FAIL  Y_FAIL  SCOOBYDOO  Y_FAIL_sumxx  \n",
       "0  0.124587       0          1           0.0  \n",
       "1  0.124587       0          1           0.0  "
      ]
     },
     "execution_count": 86,
     "metadata": {},
     "output_type": "execute_result"
    }
   ],
   "source": [
    "xx.head(2)"
   ]
  },
  {
   "cell_type": "code",
   "execution_count": 87,
   "metadata": {},
   "outputs": [],
   "source": [
    "# if a signal has occured in the last 90 days, the signal is 0.\n",
    "xx['Y_FAILZ']=np.where((xx.Y_FAIL_sumxx>1), 0, xx.Y_FAIL)"
   ]
  },
  {
   "cell_type": "markdown",
   "metadata": {},
   "source": [
    "Now that we have defined the failure window and used this definition to clean up the failure indicator, we now need to associate the failure indicators or signals with the actual failures to determine prediction accuracy.\n",
    "\n",
    "In the next few steps, we will create a unique id for each failure signal, the machine (ID) associated with each signal, and each signal's date."
   ]
  },
  {
   "cell_type": "code",
   "execution_count": 88,
   "metadata": {},
   "outputs": [],
   "source": [
    "#sort the data by id and date.\n",
    "\n",
    "xx=xx.sort_values(by=['ID','Date'], ascending=[True, True])\n"
   ]
  },
  {
   "cell_type": "code",
   "execution_count": 89,
   "metadata": {},
   "outputs": [],
   "source": [
    "#create signal id with the cumsum function.\n",
    "xx['SIGNAL_ID'] = xx['Y_FAILZ'].cumsum()\n",
    "\n"
   ]
  },
  {
   "cell_type": "markdown",
   "metadata": {},
   "source": [
    "Now we will pull the records with a signal into a different data frame. \n",
    "\n",
    "Here we will create a new field that identifies the date of each signal (SIGNAL_DATE). \n",
    "\n",
    "Also, we will identify the ID Associated with each signal (ID_OF_SIGNAL)\n",
    "\n"
   ]
  },
  {
   "cell_type": "code",
   "execution_count": 90,
   "metadata": {},
   "outputs": [],
   "source": [
    "df_signals=xx[xx['Y_FAILZ'] == 1]\n",
    "df_signal_date=df_signals[['SIGNAL_ID','Date','ID']]\n",
    "df_signal_date=df_signal_date.rename(index=str, columns={\"Date\": \"SIGNAL_DATE\"})\n",
    "df_signal_date=df_signal_date.rename(index=str, columns={\"ID\": \"ID_OF_SIGNAL\"})"
   ]
  },
  {
   "cell_type": "markdown",
   "metadata": {},
   "source": [
    "We have a total of 79 signals.  Now each has a unique id. "
   ]
  },
  {
   "cell_type": "code",
   "execution_count": 91,
   "metadata": {
    "scrolled": true
   },
   "outputs": [
    {
     "data": {
      "text/plain": [
       "(79, 3)"
      ]
     },
     "execution_count": 91,
     "metadata": {},
     "output_type": "execute_result"
    }
   ],
   "source": [
    "df_signal_date.shape"
   ]
  },
  {
   "cell_type": "markdown",
   "metadata": {},
   "source": [
    "Append SIGNAL_ID to the primary data frame.  "
   ]
  },
  {
   "cell_type": "code",
   "execution_count": 92,
   "metadata": {},
   "outputs": [],
   "source": [
    "xx =xx.merge(df_signal_date, on=['SIGNAL_ID'], how='outer')"
   ]
  },
  {
   "cell_type": "markdown",
   "metadata": {},
   "source": [
    "Simplify by only keeping the fields we need going forward."
   ]
  },
  {
   "cell_type": "code",
   "execution_count": 93,
   "metadata": {},
   "outputs": [],
   "source": [
    "xx=xx[['Date', 'ID', 'Machine_failure', 'FAILURE_TARGET','FAILURE_DATE',\n",
    "       'P_FAIL', 'Y_FAILZ','SIGNAL_ID',\n",
    "       'SIGNAL_DATE','ID_OF_SIGNAL','MODELING_GROUP']]"
   ]
  },
  {
   "cell_type": "markdown",
   "metadata": {},
   "source": [
    " Create a field called \"Warning\" that indicates the time from signal to failure."
   ]
  },
  {
   "cell_type": "code",
   "execution_count": 94,
   "metadata": {},
   "outputs": [],
   "source": [
    "\n",
    "xx['C'] = xx['FAILURE_DATE'] - xx['SIGNAL_DATE']\n",
    "xx['WARNING'] = xx['C'] / np.timedelta64(1, 'D')\n",
    "\n"
   ]
  },
  {
   "cell_type": "markdown",
   "metadata": {},
   "source": [
    "Finally, we have enough information to define a false positive, false negative, true positive, and true negative. \n",
    "\n",
    "My definition makes sense here but is unique to this specific business problem.\n",
    "\n",
    "A true positive occurs if and only if the machine fails, and there was a signal within the last 90 days. Also, we have to ensure that the signal id belongs to the machine (ID). Note that this prohibits a signal from another machine from being applied to the machine in question.\n",
    "\n",
    "A false negative occurs if and only if the machine fails, and it is not a true positive.\n",
    "\n",
    "A False Positive occurs if there is a failure signal, and a failure does not happen in the next 90 days. Also, if a signal occurs after the failure, this is a false positive. We also have to ensure that the signal ID belongs to the machine ID. Note that this prohibits a signal from another machine from being applied to the machine in question.\n",
    "\n",
    "If an observation is not a False Positive, a False Negative, or a True Positive, it is a True Negative.\n",
    "\n"
   ]
  },
  {
   "cell_type": "code",
   "execution_count": 95,
   "metadata": {},
   "outputs": [],
   "source": [
    "# define a true positive\n",
    "xx['TRUE_POSITIVE'] = np.where(((xx.Machine_failure == 1) & (xx.WARNING<=forecast_window) &(xx.WARNING>=0) & (xx.ID_OF_SIGNAL==xx.ID)), 1, 0)"
   ]
  },
  {
   "cell_type": "code",
   "execution_count": 96,
   "metadata": {},
   "outputs": [],
   "source": [
    "# define a false negative\n",
    "xx['FALSE_NEGATIVE'] = np.where((xx.TRUE_POSITIVE==0) & (xx.Machine_failure==1), 1, 0)"
   ]
  },
  {
   "cell_type": "code",
   "execution_count": 97,
   "metadata": {},
   "outputs": [],
   "source": [
    "# define a false positive\n",
    "xx['BAD_S']=np.where((xx.WARNING<0) | (xx.WARNING>=forecast_window), 1, 0)\n",
    "\n",
    "xx['FALSE_POSITIVE'] = np.where(((xx.Y_FAILZ == 1) & (xx.BAD_S==1) & (xx.ID_OF_SIGNAL==xx.ID)), 1, 0)"
   ]
  },
  {
   "cell_type": "code",
   "execution_count": 98,
   "metadata": {},
   "outputs": [],
   "source": [
    "xx['bootie']=1"
   ]
  },
  {
   "cell_type": "code",
   "execution_count": 99,
   "metadata": {},
   "outputs": [],
   "source": [
    "xx['CATEGORY']=np.where((xx.FALSE_POSITIVE==1),'FALSE_POSITIVE',\n",
    "                                      (np.where((xx.FALSE_NEGATIVE==1),'FALSE_NEGATIVE',\n",
    "                                                (np.where((xx.TRUE_POSITIVE==1),'TRUE_POSITIVE','TRUE_NEGATIVE')))))"
   ]
  },
  {
   "cell_type": "code",
   "execution_count": 100,
   "metadata": {},
   "outputs": [
    {
     "data": {
      "text/html": [
       "<div><div id=38177c40-8fe6-4325-890e-29be5e7929a7 style=\"display:none; background-color:#9D6CFF; color:white; width:200px; height:30px; padding-left:5px; border-radius:4px; flex-direction:row; justify-content:space-around; align-items:center;\" onmouseover=\"this.style.backgroundColor='#BA9BF8'\" onmouseout=\"this.style.backgroundColor='#9D6CFF'\" onclick=\"window.commands?.execute('create-mitosheet-from-dataframe-output');\">See Full Dataframe in Mito</div> <script> if (window.commands.hasCommand('create-mitosheet-from-dataframe-output')) document.getElementById('38177c40-8fe6-4325-890e-29be5e7929a7').style.display = 'flex' </script> <table border=\"1\" class=\"dataframe\">\n",
       "  <thead>\n",
       "    <tr>\n",
       "      <th></th>\n",
       "      <th colspan=\"4\" halign=\"left\">bootie</th>\n",
       "    </tr>\n",
       "    <tr>\n",
       "      <th>CATEGORY</th>\n",
       "      <th>FALSE_NEGATIVE</th>\n",
       "      <th>FALSE_POSITIVE</th>\n",
       "      <th>TRUE_NEGATIVE</th>\n",
       "      <th>TRUE_POSITIVE</th>\n",
       "    </tr>\n",
       "    <tr>\n",
       "      <th>MODELING_GROUP</th>\n",
       "      <th></th>\n",
       "      <th></th>\n",
       "      <th></th>\n",
       "      <th></th>\n",
       "    </tr>\n",
       "  </thead>\n",
       "  <tbody>\n",
       "    <tr>\n",
       "      <th>TESTING</th>\n",
       "      <td>1102</td>\n",
       "      <td>69</td>\n",
       "      <td>48675</td>\n",
       "      <td>154</td>\n",
       "    </tr>\n",
       "    <tr>\n",
       "      <th>TRAINING</th>\n",
       "      <td>697</td>\n",
       "      <td>5</td>\n",
       "      <td>38223</td>\n",
       "      <td>75</td>\n",
       "    </tr>\n",
       "  </tbody>\n",
       "</table></div>"
      ],
      "text/plain": [
       "                       bootie                                           \n",
       "CATEGORY       FALSE_NEGATIVE FALSE_POSITIVE TRUE_NEGATIVE TRUE_POSITIVE\n",
       "MODELING_GROUP                                                          \n",
       "TESTING                  1102             69         48675           154\n",
       "TRAINING                  697              5         38223            75"
      ]
     },
     "execution_count": 100,
     "metadata": {},
     "output_type": "execute_result"
    }
   ],
   "source": [
    "table = pd.pivot_table(xx, values=['bootie'], index=['MODELING_GROUP'],columns=['CATEGORY'], aggfunc=np.sum)\n",
    "table"
   ]
  },
  {
   "cell_type": "markdown",
   "metadata": {},
   "source": [
    "So, in the training data set, we have 41 false negatives, 107 false positives, 106,473 true negatives, and 105 true positives. "
   ]
  },
  {
   "cell_type": "markdown",
   "metadata": {},
   "source": [
    "Now we can apply the same logic to the validation data set to make sure it is not sample-specific."
   ]
  },
  {
   "cell_type": "markdown",
   "metadata": {},
   "source": [
    "#### Apply Model and Heuristics the Training, Testing and Validation Data Sets."
   ]
  },
  {
   "cell_type": "markdown",
   "metadata": {},
   "source": [
    "Predict the probability of failure for all records."
   ]
  },
  {
   "cell_type": "markdown",
   "metadata": {},
   "source": [
    "Create a predicted failure indicator based on a cut-off of .67."
   ]
  },
  {
   "cell_type": "code",
   "execution_count": 101,
   "metadata": {},
   "outputs": [],
   "source": [
    "\n",
    "df_total['P_FAIL']= xgb0.predict_proba(df_total[features])[:,1];\n",
    "df_total['Y_FAIL'] = np.where(((df_total.P_FAIL <= .67)), 0, 1)"
   ]
  },
  {
   "cell_type": "markdown",
   "metadata": {},
   "source": [
    "Define the forecast window."
   ]
  },
  {
   "cell_type": "code",
   "execution_count": 102,
   "metadata": {},
   "outputs": [],
   "source": [
    "forecast_window=90"
   ]
  },
  {
   "cell_type": "markdown",
   "metadata": {},
   "source": [
    "Ensure that the failure indicator occurs only once every 90 days."
   ]
  },
  {
   "cell_type": "code",
   "execution_count": 103,
   "metadata": {},
   "outputs": [
    {
     "data": {
      "text/plain": [
       "11"
      ]
     },
     "execution_count": 103,
     "metadata": {},
     "output_type": "execute_result"
    }
   ],
   "source": [
    "#get a the number of machines +1 and label each machine with a sequential number.\n",
    "\n",
    "aa=df_total\n",
    "\n",
    "pd_id=aa.drop_duplicates(subset='ID')\n",
    "pd_id=pd_id[['ID']]\n",
    "pd_id=pd_id.reset_index(drop=True)\n",
    "pd_id=pd_id.reset_index(drop=False)\n",
    "pd_id=pd_id.rename(columns={\"index\": \"SCOOBYDOO\"})\n",
    "pd_id['SCOOBYDOO']=pd_id['SCOOBYDOO']+1\n",
    "\n",
    "column = pd_id[\"SCOOBYDOO\"]\n",
    "max_value = column.max()+1\n",
    "max_value\n"
   ]
  },
  {
   "cell_type": "code",
   "execution_count": 104,
   "metadata": {},
   "outputs": [],
   "source": [
    "yy=df_total"
   ]
  },
  {
   "cell_type": "code",
   "execution_count": null,
   "metadata": {},
   "outputs": [],
   "source": []
  },
  {
   "cell_type": "code",
   "execution_count": 105,
   "metadata": {
    "scrolled": true
   },
   "outputs": [
    {
     "data": {
      "text/html": [
       "<div><div id=86b44eba-dfed-4a46-8b17-36a307c08884 style=\"display:none; background-color:#9D6CFF; color:white; width:200px; height:30px; padding-left:5px; border-radius:4px; flex-direction:row; justify-content:space-around; align-items:center;\" onmouseover=\"this.style.backgroundColor='#BA9BF8'\" onmouseout=\"this.style.backgroundColor='#9D6CFF'\" onclick=\"window.commands?.execute('create-mitosheet-from-dataframe-output');\">See Full Dataframe in Mito</div> <script> if (window.commands.hasCommand('create-mitosheet-from-dataframe-output')) document.getElementById('86b44eba-dfed-4a46-8b17-36a307c08884').style.display = 'flex' </script> <table border=\"1\" class=\"dataframe\">\n",
       "  <thead>\n",
       "    <tr style=\"text-align: right;\">\n",
       "      <th></th>\n",
       "      <th>index</th>\n",
       "      <th>UDI</th>\n",
       "      <th>Date</th>\n",
       "      <th>ID</th>\n",
       "      <th>Internal_Pressure_MPa</th>\n",
       "      <th>Battery_Charging_Current_A</th>\n",
       "      <th>coolant_temp_C</th>\n",
       "      <th>carbon_monoxide_content_gramspersec</th>\n",
       "      <th>Oil_Viscosity_cSt</th>\n",
       "      <th>Age_days</th>\n",
       "      <th>Machine_failure</th>\n",
       "      <th>TIME_SINCE_START</th>\n",
       "      <th>too_soon</th>\n",
       "      <th>pressure_mean</th>\n",
       "      <th>pressure_median</th>\n",
       "      <th>pressure_max</th>\n",
       "      <th>pressure_min</th>\n",
       "      <th>current_mean</th>\n",
       "      <th>current_median</th>\n",
       "      <th>current_max</th>\n",
       "      <th>current_min</th>\n",
       "      <th>ctemp_mean</th>\n",
       "      <th>ctemp_median</th>\n",
       "      <th>ctemp_max</th>\n",
       "      <th>ctemp_min</th>\n",
       "      <th>CO_mean</th>\n",
       "      <th>CO_median</th>\n",
       "      <th>CO_max</th>\n",
       "      <th>CO_min</th>\n",
       "      <th>viscosity_mean</th>\n",
       "      <th>viscosity_median</th>\n",
       "      <th>viscosity_max</th>\n",
       "      <th>viscosity_min</th>\n",
       "      <th>pressure_chg</th>\n",
       "      <th>current_chg</th>\n",
       "      <th>ctemp_chg</th>\n",
       "      <th>CO_chg</th>\n",
       "      <th>viscosity_chg</th>\n",
       "      <th>FAILURE_DATE</th>\n",
       "      <th>FAILURE_TARGET</th>\n",
       "      <th>MODELING_GROUP</th>\n",
       "      <th>P_FAIL</th>\n",
       "      <th>Y_FAIL</th>\n",
       "      <th>SCOOBYDOO</th>\n",
       "    </tr>\n",
       "  </thead>\n",
       "  <tbody>\n",
       "    <tr>\n",
       "      <th>0</th>\n",
       "      <td>0</td>\n",
       "      <td>3001</td>\n",
       "      <td>2002-07-23</td>\n",
       "      <td>H29424</td>\n",
       "      <td>34.431193</td>\n",
       "      <td>3.462948</td>\n",
       "      <td>122.633301</td>\n",
       "      <td>0.013031</td>\n",
       "      <td>9.277736</td>\n",
       "      <td>876</td>\n",
       "      <td>1</td>\n",
       "      <td>0.0</td>\n",
       "      <td>1</td>\n",
       "      <td>34.431193</td>\n",
       "      <td>34.431193</td>\n",
       "      <td>34.431193</td>\n",
       "      <td>34.431193</td>\n",
       "      <td>3.462948</td>\n",
       "      <td>3.462948</td>\n",
       "      <td>3.462948</td>\n",
       "      <td>3.462948</td>\n",
       "      <td>122.633301</td>\n",
       "      <td>122.633301</td>\n",
       "      <td>122.633301</td>\n",
       "      <td>122.633301</td>\n",
       "      <td>0.013031</td>\n",
       "      <td>0.013031</td>\n",
       "      <td>0.013031</td>\n",
       "      <td>0.013031</td>\n",
       "      <td>9.277736</td>\n",
       "      <td>9.277736</td>\n",
       "      <td>9.277736</td>\n",
       "      <td>9.277736</td>\n",
       "      <td>1.0</td>\n",
       "      <td>1.0</td>\n",
       "      <td>1.0</td>\n",
       "      <td>1.0</td>\n",
       "      <td>1.0</td>\n",
       "      <td>2002-07-23</td>\n",
       "      <td>1</td>\n",
       "      <td>TESTING</td>\n",
       "      <td>0.124587</td>\n",
       "      <td>0</td>\n",
       "      <td>1</td>\n",
       "    </tr>\n",
       "    <tr>\n",
       "      <th>1</th>\n",
       "      <td>24</td>\n",
       "      <td>3001</td>\n",
       "      <td>2002-07-23</td>\n",
       "      <td>H29424</td>\n",
       "      <td>34.431193</td>\n",
       "      <td>3.462948</td>\n",
       "      <td>122.633301</td>\n",
       "      <td>0.013031</td>\n",
       "      <td>9.277736</td>\n",
       "      <td>876</td>\n",
       "      <td>1</td>\n",
       "      <td>0.0</td>\n",
       "      <td>1</td>\n",
       "      <td>34.431193</td>\n",
       "      <td>34.431193</td>\n",
       "      <td>34.431193</td>\n",
       "      <td>34.431193</td>\n",
       "      <td>3.462948</td>\n",
       "      <td>3.462948</td>\n",
       "      <td>3.462948</td>\n",
       "      <td>3.462948</td>\n",
       "      <td>122.633301</td>\n",
       "      <td>122.633301</td>\n",
       "      <td>122.633301</td>\n",
       "      <td>122.633301</td>\n",
       "      <td>0.013031</td>\n",
       "      <td>0.013031</td>\n",
       "      <td>0.013031</td>\n",
       "      <td>0.013031</td>\n",
       "      <td>9.277736</td>\n",
       "      <td>9.277736</td>\n",
       "      <td>9.277736</td>\n",
       "      <td>9.277736</td>\n",
       "      <td>1.0</td>\n",
       "      <td>1.0</td>\n",
       "      <td>1.0</td>\n",
       "      <td>1.0</td>\n",
       "      <td>1.0</td>\n",
       "      <td>2004-01-03</td>\n",
       "      <td>0</td>\n",
       "      <td>TESTING</td>\n",
       "      <td>0.124587</td>\n",
       "      <td>0</td>\n",
       "      <td>1</td>\n",
       "    </tr>\n",
       "    <tr>\n",
       "      <th>2</th>\n",
       "      <td>11</td>\n",
       "      <td>3001</td>\n",
       "      <td>2002-07-23</td>\n",
       "      <td>H29424</td>\n",
       "      <td>34.431193</td>\n",
       "      <td>3.462948</td>\n",
       "      <td>122.633301</td>\n",
       "      <td>0.013031</td>\n",
       "      <td>9.277736</td>\n",
       "      <td>876</td>\n",
       "      <td>1</td>\n",
       "      <td>0.0</td>\n",
       "      <td>1</td>\n",
       "      <td>34.431193</td>\n",
       "      <td>34.431193</td>\n",
       "      <td>34.431193</td>\n",
       "      <td>34.431193</td>\n",
       "      <td>3.462948</td>\n",
       "      <td>3.462948</td>\n",
       "      <td>3.462948</td>\n",
       "      <td>3.462948</td>\n",
       "      <td>122.633301</td>\n",
       "      <td>122.633301</td>\n",
       "      <td>122.633301</td>\n",
       "      <td>122.633301</td>\n",
       "      <td>0.013031</td>\n",
       "      <td>0.013031</td>\n",
       "      <td>0.013031</td>\n",
       "      <td>0.013031</td>\n",
       "      <td>9.277736</td>\n",
       "      <td>9.277736</td>\n",
       "      <td>9.277736</td>\n",
       "      <td>9.277736</td>\n",
       "      <td>1.0</td>\n",
       "      <td>1.0</td>\n",
       "      <td>1.0</td>\n",
       "      <td>1.0</td>\n",
       "      <td>1.0</td>\n",
       "      <td>2004-08-21</td>\n",
       "      <td>0</td>\n",
       "      <td>TESTING</td>\n",
       "      <td>0.124587</td>\n",
       "      <td>0</td>\n",
       "      <td>1</td>\n",
       "    </tr>\n",
       "    <tr>\n",
       "      <th>3</th>\n",
       "      <td>1</td>\n",
       "      <td>3001</td>\n",
       "      <td>2002-07-23</td>\n",
       "      <td>H29424</td>\n",
       "      <td>34.431193</td>\n",
       "      <td>3.462948</td>\n",
       "      <td>122.633301</td>\n",
       "      <td>0.013031</td>\n",
       "      <td>9.277736</td>\n",
       "      <td>876</td>\n",
       "      <td>1</td>\n",
       "      <td>0.0</td>\n",
       "      <td>1</td>\n",
       "      <td>34.431193</td>\n",
       "      <td>34.431193</td>\n",
       "      <td>34.431193</td>\n",
       "      <td>34.431193</td>\n",
       "      <td>3.462948</td>\n",
       "      <td>3.462948</td>\n",
       "      <td>3.462948</td>\n",
       "      <td>3.462948</td>\n",
       "      <td>122.633301</td>\n",
       "      <td>122.633301</td>\n",
       "      <td>122.633301</td>\n",
       "      <td>122.633301</td>\n",
       "      <td>0.013031</td>\n",
       "      <td>0.013031</td>\n",
       "      <td>0.013031</td>\n",
       "      <td>0.013031</td>\n",
       "      <td>9.277736</td>\n",
       "      <td>9.277736</td>\n",
       "      <td>9.277736</td>\n",
       "      <td>9.277736</td>\n",
       "      <td>1.0</td>\n",
       "      <td>1.0</td>\n",
       "      <td>1.0</td>\n",
       "      <td>1.0</td>\n",
       "      <td>1.0</td>\n",
       "      <td>2005-02-20</td>\n",
       "      <td>0</td>\n",
       "      <td>TESTING</td>\n",
       "      <td>0.124587</td>\n",
       "      <td>0</td>\n",
       "      <td>1</td>\n",
       "    </tr>\n",
       "    <tr>\n",
       "      <th>4</th>\n",
       "      <td>2</td>\n",
       "      <td>3001</td>\n",
       "      <td>2002-07-23</td>\n",
       "      <td>H29424</td>\n",
       "      <td>34.431193</td>\n",
       "      <td>3.462948</td>\n",
       "      <td>122.633301</td>\n",
       "      <td>0.013031</td>\n",
       "      <td>9.277736</td>\n",
       "      <td>876</td>\n",
       "      <td>1</td>\n",
       "      <td>0.0</td>\n",
       "      <td>1</td>\n",
       "      <td>34.431193</td>\n",
       "      <td>34.431193</td>\n",
       "      <td>34.431193</td>\n",
       "      <td>34.431193</td>\n",
       "      <td>3.462948</td>\n",
       "      <td>3.462948</td>\n",
       "      <td>3.462948</td>\n",
       "      <td>3.462948</td>\n",
       "      <td>122.633301</td>\n",
       "      <td>122.633301</td>\n",
       "      <td>122.633301</td>\n",
       "      <td>122.633301</td>\n",
       "      <td>0.013031</td>\n",
       "      <td>0.013031</td>\n",
       "      <td>0.013031</td>\n",
       "      <td>0.013031</td>\n",
       "      <td>9.277736</td>\n",
       "      <td>9.277736</td>\n",
       "      <td>9.277736</td>\n",
       "      <td>9.277736</td>\n",
       "      <td>1.0</td>\n",
       "      <td>1.0</td>\n",
       "      <td>1.0</td>\n",
       "      <td>1.0</td>\n",
       "      <td>1.0</td>\n",
       "      <td>2005-02-12</td>\n",
       "      <td>0</td>\n",
       "      <td>TESTING</td>\n",
       "      <td>0.124587</td>\n",
       "      <td>0</td>\n",
       "      <td>1</td>\n",
       "    </tr>\n",
       "  </tbody>\n",
       "</table></div>"
      ],
      "text/plain": [
       "   index   UDI       Date      ID  Internal_Pressure_MPa  \\\n",
       "0      0  3001 2002-07-23  H29424              34.431193   \n",
       "1     24  3001 2002-07-23  H29424              34.431193   \n",
       "2     11  3001 2002-07-23  H29424              34.431193   \n",
       "3      1  3001 2002-07-23  H29424              34.431193   \n",
       "4      2  3001 2002-07-23  H29424              34.431193   \n",
       "\n",
       "   Battery_Charging_Current_A  coolant_temp_C  \\\n",
       "0                    3.462948      122.633301   \n",
       "1                    3.462948      122.633301   \n",
       "2                    3.462948      122.633301   \n",
       "3                    3.462948      122.633301   \n",
       "4                    3.462948      122.633301   \n",
       "\n",
       "   carbon_monoxide_content_gramspersec  Oil_Viscosity_cSt  Age_days  \\\n",
       "0                             0.013031           9.277736       876   \n",
       "1                             0.013031           9.277736       876   \n",
       "2                             0.013031           9.277736       876   \n",
       "3                             0.013031           9.277736       876   \n",
       "4                             0.013031           9.277736       876   \n",
       "\n",
       "   Machine_failure  TIME_SINCE_START  too_soon  pressure_mean  \\\n",
       "0                1               0.0         1      34.431193   \n",
       "1                1               0.0         1      34.431193   \n",
       "2                1               0.0         1      34.431193   \n",
       "3                1               0.0         1      34.431193   \n",
       "4                1               0.0         1      34.431193   \n",
       "\n",
       "   pressure_median  pressure_max  pressure_min  current_mean  current_median  \\\n",
       "0        34.431193     34.431193     34.431193      3.462948        3.462948   \n",
       "1        34.431193     34.431193     34.431193      3.462948        3.462948   \n",
       "2        34.431193     34.431193     34.431193      3.462948        3.462948   \n",
       "3        34.431193     34.431193     34.431193      3.462948        3.462948   \n",
       "4        34.431193     34.431193     34.431193      3.462948        3.462948   \n",
       "\n",
       "   current_max  current_min  ctemp_mean  ctemp_median   ctemp_max   ctemp_min  \\\n",
       "0     3.462948     3.462948  122.633301    122.633301  122.633301  122.633301   \n",
       "1     3.462948     3.462948  122.633301    122.633301  122.633301  122.633301   \n",
       "2     3.462948     3.462948  122.633301    122.633301  122.633301  122.633301   \n",
       "3     3.462948     3.462948  122.633301    122.633301  122.633301  122.633301   \n",
       "4     3.462948     3.462948  122.633301    122.633301  122.633301  122.633301   \n",
       "\n",
       "    CO_mean  CO_median    CO_max    CO_min  viscosity_mean  viscosity_median  \\\n",
       "0  0.013031   0.013031  0.013031  0.013031        9.277736          9.277736   \n",
       "1  0.013031   0.013031  0.013031  0.013031        9.277736          9.277736   \n",
       "2  0.013031   0.013031  0.013031  0.013031        9.277736          9.277736   \n",
       "3  0.013031   0.013031  0.013031  0.013031        9.277736          9.277736   \n",
       "4  0.013031   0.013031  0.013031  0.013031        9.277736          9.277736   \n",
       "\n",
       "   viscosity_max  viscosity_min  pressure_chg  current_chg  ctemp_chg  CO_chg  \\\n",
       "0       9.277736       9.277736           1.0          1.0        1.0     1.0   \n",
       "1       9.277736       9.277736           1.0          1.0        1.0     1.0   \n",
       "2       9.277736       9.277736           1.0          1.0        1.0     1.0   \n",
       "3       9.277736       9.277736           1.0          1.0        1.0     1.0   \n",
       "4       9.277736       9.277736           1.0          1.0        1.0     1.0   \n",
       "\n",
       "   viscosity_chg FAILURE_DATE  FAILURE_TARGET MODELING_GROUP    P_FAIL  \\\n",
       "0            1.0   2002-07-23               1        TESTING  0.124587   \n",
       "1            1.0   2004-01-03               0        TESTING  0.124587   \n",
       "2            1.0   2004-08-21               0        TESTING  0.124587   \n",
       "3            1.0   2005-02-20               0        TESTING  0.124587   \n",
       "4            1.0   2005-02-12               0        TESTING  0.124587   \n",
       "\n",
       "   Y_FAIL  SCOOBYDOO  \n",
       "0       0          1  \n",
       "1       0          1  \n",
       "2       0          1  \n",
       "3       0          1  \n",
       "4       0          1  "
      ]
     },
     "execution_count": 105,
     "metadata": {},
     "output_type": "execute_result"
    }
   ],
   "source": [
    "#append the sequential number back to the larger dataframe.\n",
    "yy=yy.sort_values(by=['ID'], ascending=[True])\n",
    "pd_id=pd_id.sort_values(by=['ID'], ascending=[True])\n",
    "yy =yy.merge(pd_id, on=['ID'], how='inner')\n",
    "yy.head()"
   ]
  },
  {
   "cell_type": "code",
   "execution_count": 106,
   "metadata": {},
   "outputs": [],
   "source": [
    "#sort data\n",
    "yy=yy.sort_values(by=['ID','Date'], ascending=[True,True])"
   ]
  },
  {
   "cell_type": "code",
   "execution_count": 107,
   "metadata": {},
   "outputs": [],
   "source": [
    "#reset index\n",
    "yy=yy.reset_index(drop=True)"
   ]
  },
  {
   "cell_type": "code",
   "execution_count": 108,
   "metadata": {},
   "outputs": [
    {
     "data": {
      "text/plain": [
       "(0, 45)"
      ]
     },
     "execution_count": 108,
     "metadata": {},
     "output_type": "execute_result"
    }
   ],
   "source": [
    "\n",
    "#create a null dataframe for the next step\n",
    "df_fred=yy\n",
    "df_fred['Y_FAIL_sumxx']=0\n",
    "df_fred=df_fred[df_fred['SCOOBYDOO'] == max_value+1]\n",
    "df_fred.shape"
   ]
  },
  {
   "cell_type": "markdown",
   "metadata": {},
   "source": [
    "The next few steps assign a new failure indicator that incorporates the forecast window. Note, this calculation occurs at a machine level. This keeps a signal from one machine affecting another machine. This takes a while to run."
   ]
  },
  {
   "cell_type": "code",
   "execution_count": 109,
   "metadata": {},
   "outputs": [],
   "source": [
    "#sum the number of signals occuring over the last 90 days for each machine individually\n",
    "for x in range(max_value):\n",
    "        dffx=yy[yy['SCOOBYDOO'] ==x]\n",
    "        dff=dffx.copy()\n",
    "        dff['Y_FAIL_sumxx'] =(dff['Y_FAIL'].rolling(min_periods=1, window=(forecast_window)).sum())\n",
    "        df_fred= pd.concat([df_fred,dff])\n",
    "        "
   ]
  },
  {
   "cell_type": "code",
   "execution_count": 110,
   "metadata": {},
   "outputs": [],
   "source": [
    "yy=df_fred"
   ]
  },
  {
   "cell_type": "code",
   "execution_count": 111,
   "metadata": {},
   "outputs": [],
   "source": [
    "# if a signal has occured in the last 90 days, the signal is 0.\n",
    "\n",
    "yy['Y_FAILZ']=np.where((yy.Y_FAIL_sumxx>1), 0, yy.Y_FAIL)"
   ]
  },
  {
   "cell_type": "markdown",
   "metadata": {},
   "source": [
    "Now that we have defined the failure window and used this definition to clean up the failure indicator, we now need to associate the failure indicators or signals with the actual failures to determine prediction accuracy.\n",
    "\n",
    "In the next few steps, we will create a unique id for each failure signal, the machine (ID) associated with each signal, and each signal's date."
   ]
  },
  {
   "cell_type": "code",
   "execution_count": 112,
   "metadata": {},
   "outputs": [],
   "source": [
    "#sort the data by id and date.\n",
    "yy=yy.sort_values(by=['ID','Date'], ascending=[True, True])"
   ]
  },
  {
   "cell_type": "code",
   "execution_count": 113,
   "metadata": {},
   "outputs": [],
   "source": [
    "#create signal id with the cumsum function.\n",
    "yy['SIGNAL_ID'] = yy['Y_FAILZ'].cumsum()\n",
    "\n"
   ]
  },
  {
   "cell_type": "markdown",
   "metadata": {},
   "source": [
    "Now we will pull the records with a signal into a different data frame.\n",
    "Here we will create a new field that identifies the date of each signal (SIGNAL_DATE).\n",
    "Also, we will identify the ID Associated with each signal (ID_OF_SIGNAL)"
   ]
  },
  {
   "cell_type": "code",
   "execution_count": 114,
   "metadata": {},
   "outputs": [],
   "source": [
    "#create the signal date and ID_OF_SIGNAL\n",
    "\n",
    "yy_signals=yy[yy['Y_FAILZ'] == 1]\n",
    "yy_signal_date=yy_signals[['SIGNAL_ID','Date','ID']]\n",
    "yy_signal_date=yy_signal_date.rename(index=str, columns={\"Date\": \"SIGNAL_DATE\"})\n",
    "yy_signal_date=yy_signal_date.rename(index=str, columns={\"ID\": \"ID_OF_SIGNAL\"})"
   ]
  },
  {
   "cell_type": "code",
   "execution_count": 115,
   "metadata": {},
   "outputs": [],
   "source": [
    "#merge the two data frames back into one.\n",
    "\n",
    "yy =yy.merge(yy_signal_date, on=['SIGNAL_ID'], how='outer')\n"
   ]
  },
  {
   "cell_type": "code",
   "execution_count": 116,
   "metadata": {},
   "outputs": [],
   "source": [
    "#Keep on the fields we need\n",
    "yy=yy[['Date', 'ID', 'Machine_failure', 'FAILURE_TARGET','FAILURE_DATE','MODELING_GROUP',\n",
    "       'P_FAIL', 'Y_FAILZ','SIGNAL_ID',\n",
    "       'SIGNAL_DATE','ID_OF_SIGNAL']]"
   ]
  },
  {
   "cell_type": "code",
   "execution_count": 117,
   "metadata": {},
   "outputs": [],
   "source": [
    "# Calculate the warning time between each failure date and signal date.\n",
    "yy['C'] = yy['FAILURE_DATE'] - yy['SIGNAL_DATE']\n",
    "yy['WARNING'] = yy['C'] / np.timedelta64(1, 'D')\n",
    "yy['WARNING'].fillna(9999, inplace=True)"
   ]
  },
  {
   "cell_type": "markdown",
   "metadata": {},
   "source": [
    "Define true positives, true negatives, false positives, and false negatives."
   ]
  },
  {
   "cell_type": "code",
   "execution_count": 118,
   "metadata": {},
   "outputs": [],
   "source": [
    "# define a true positive\n",
    "yy['TRUE_POSITIVE'] = np.where(((yy.Machine_failure == 1) & (yy.WARNING<=forecast_window) &(yy.WARNING>=0) & (yy.ID_OF_SIGNAL==yy.ID)), 1, 0)"
   ]
  },
  {
   "cell_type": "code",
   "execution_count": 119,
   "metadata": {},
   "outputs": [],
   "source": [
    "# define a false negative\n",
    "yy['FALSE_NEGATIVE'] = np.where((yy.TRUE_POSITIVE==0) & (yy.Machine_failure==1), 1, 0)"
   ]
  },
  {
   "cell_type": "code",
   "execution_count": 120,
   "metadata": {},
   "outputs": [],
   "source": [
    "# define a false positive\n",
    "yy['BAD_S']=np.where((yy.WARNING<0) | (yy.WARNING>=forecast_window), 1, 0)\n",
    "\n",
    "yy['FALSE_POSITIVE'] = np.where(((yy.Y_FAILZ == 1) & (yy.BAD_S==1) & (yy.ID_OF_SIGNAL==yy.ID)), 1, 0)"
   ]
  },
  {
   "cell_type": "code",
   "execution_count": 121,
   "metadata": {},
   "outputs": [],
   "source": [
    "yy['bootie']=1"
   ]
  },
  {
   "cell_type": "code",
   "execution_count": 122,
   "metadata": {},
   "outputs": [],
   "source": [
    "yy['CATEGORY']=np.where((yy.FALSE_POSITIVE==1),'FALSE_POSITIVE',\n",
    "                                      (np.where((yy.FALSE_NEGATIVE==1),'FALSE_NEGATIVE',\n",
    "                                                (np.where((yy.TRUE_POSITIVE==1),'TRUE_POSITIVE','TRUE_NEGATIVE')))))"
   ]
  },
  {
   "cell_type": "markdown",
   "metadata": {},
   "source": [
    "Define metrics for the testing, training, and validation Data sets."
   ]
  },
  {
   "cell_type": "code",
   "execution_count": 123,
   "metadata": {},
   "outputs": [
    {
     "data": {
      "text/html": [
       "<div><div id=ab3e7b27-3d18-44af-bd5d-1a0877385ff2 style=\"display:none; background-color:#9D6CFF; color:white; width:200px; height:30px; padding-left:5px; border-radius:4px; flex-direction:row; justify-content:space-around; align-items:center;\" onmouseover=\"this.style.backgroundColor='#BA9BF8'\" onmouseout=\"this.style.backgroundColor='#9D6CFF'\" onclick=\"window.commands?.execute('create-mitosheet-from-dataframe-output');\">See Full Dataframe in Mito</div> <script> if (window.commands.hasCommand('create-mitosheet-from-dataframe-output')) document.getElementById('ab3e7b27-3d18-44af-bd5d-1a0877385ff2').style.display = 'flex' </script> <table border=\"1\" class=\"dataframe\">\n",
       "  <thead>\n",
       "    <tr>\n",
       "      <th></th>\n",
       "      <th colspan=\"4\" halign=\"left\">bootie</th>\n",
       "    </tr>\n",
       "    <tr>\n",
       "      <th>CATEGORY</th>\n",
       "      <th>FALSE_NEGATIVE</th>\n",
       "      <th>FALSE_POSITIVE</th>\n",
       "      <th>TRUE_NEGATIVE</th>\n",
       "      <th>TRUE_POSITIVE</th>\n",
       "    </tr>\n",
       "    <tr>\n",
       "      <th>MODELING_GROUP</th>\n",
       "      <th></th>\n",
       "      <th></th>\n",
       "      <th></th>\n",
       "      <th></th>\n",
       "    </tr>\n",
       "  </thead>\n",
       "  <tbody>\n",
       "    <tr>\n",
       "      <th>TESTING</th>\n",
       "      <td>1102</td>\n",
       "      <td>70</td>\n",
       "      <td>48674</td>\n",
       "      <td>154</td>\n",
       "    </tr>\n",
       "    <tr>\n",
       "      <th>TRAINING</th>\n",
       "      <td>697</td>\n",
       "      <td>4</td>\n",
       "      <td>38224</td>\n",
       "      <td>75</td>\n",
       "    </tr>\n",
       "    <tr>\n",
       "      <th>VALIDATION</th>\n",
       "      <td>18532</td>\n",
       "      <td>213</td>\n",
       "      <td>229108</td>\n",
       "      <td>2147</td>\n",
       "    </tr>\n",
       "  </tbody>\n",
       "</table></div>"
      ],
      "text/plain": [
       "                       bootie                                           \n",
       "CATEGORY       FALSE_NEGATIVE FALSE_POSITIVE TRUE_NEGATIVE TRUE_POSITIVE\n",
       "MODELING_GROUP                                                          \n",
       "TESTING                  1102             70         48674           154\n",
       "TRAINING                  697              4         38224            75\n",
       "VALIDATION              18532            213        229108          2147"
      ]
     },
     "execution_count": 123,
     "metadata": {},
     "output_type": "execute_result"
    }
   ],
   "source": [
    "table = pd.pivot_table(yy, values=['bootie'], index=['MODELING_GROUP'],columns=['CATEGORY'], aggfunc=np.sum)\n",
    "table"
   ]
  },
  {
   "cell_type": "markdown",
   "metadata": {},
   "source": [
    "Remember this chart?\n"
   ]
  },
  {
   "cell_type": "code",
   "execution_count": 140,
   "metadata": {},
   "outputs": [
    {
     "data": {
      "text/html": [
       "<img src=\"https://raw.githubusercontent.com/KhyleHickey/Python-projects/master/Maintenance_cost.png\"/>"
      ],
      "text/plain": [
       "<IPython.core.display.Image object>"
      ]
     },
     "execution_count": 140,
     "metadata": {},
     "output_type": "execute_result"
    }
   ],
   "source": [
    "from IPython.display import Image\n",
    "from IPython.core.display import HTML \n",
    "Image(url= \"https://raw.githubusercontent.com/KhyleHickey/Python-projects/master/Maintenance_cost.png\")"
   ]
  },
  {
   "cell_type": "markdown",
   "metadata": {},
   "source": [
    "A false positive is “Unnecessary Maintenance.” \n",
    "A true positive is a “Timely and Appropriate Maintenance.” \n",
    "A false negative is “Machine Runs to Failure.” \n",
    "\n",
    "This means that a false positive costs $1,500.   \n",
    "\n",
    "A false negative costs $30,000.   \n",
    "\n",
    "A true positive costs $7,500. \n",
    "\n",
    "A true negative has no cost because no action is taken.\n",
    "\n",
    "Now we can calculate the total cost."
   ]
  },
  {
   "cell_type": "code",
   "execution_count": 125,
   "metadata": {},
   "outputs": [],
   "source": [
    "yy['TOTAL_COST']=yy.FALSE_NEGATIVE*30000+yy.FALSE_POSITIVE*1500+yy.TRUE_POSITIVE*7500"
   ]
  },
  {
   "cell_type": "markdown",
   "metadata": {},
   "source": [
    "Aggregate the costs by modeling group."
   ]
  },
  {
   "cell_type": "code",
   "execution_count": 126,
   "metadata": {},
   "outputs": [
    {
     "data": {
      "text/html": [
       "<div><div id=c60c2c7d-0ec4-4a0f-97ca-568f594aa43d style=\"display:none; background-color:#9D6CFF; color:white; width:200px; height:30px; padding-left:5px; border-radius:4px; flex-direction:row; justify-content:space-around; align-items:center;\" onmouseover=\"this.style.backgroundColor='#BA9BF8'\" onmouseout=\"this.style.backgroundColor='#9D6CFF'\" onclick=\"window.commands?.execute('create-mitosheet-from-dataframe-output');\">See Full Dataframe in Mito</div> <script> if (window.commands.hasCommand('create-mitosheet-from-dataframe-output')) document.getElementById('c60c2c7d-0ec4-4a0f-97ca-568f594aa43d').style.display = 'flex' </script> <table border=\"1\" class=\"dataframe\">\n",
       "  <thead>\n",
       "    <tr style=\"text-align: right;\">\n",
       "      <th></th>\n",
       "      <th>TOTAL_COST</th>\n",
       "    </tr>\n",
       "    <tr>\n",
       "      <th>MODELING_GROUP</th>\n",
       "      <th></th>\n",
       "    </tr>\n",
       "  </thead>\n",
       "  <tbody>\n",
       "    <tr>\n",
       "      <th>TESTING</th>\n",
       "      <td>34380000</td>\n",
       "    </tr>\n",
       "    <tr>\n",
       "      <th>TRAINING</th>\n",
       "      <td>21508500</td>\n",
       "    </tr>\n",
       "    <tr>\n",
       "      <th>VALIDATION</th>\n",
       "      <td>572832000</td>\n",
       "    </tr>\n",
       "  </tbody>\n",
       "</table></div>"
      ],
      "text/plain": [
       "                TOTAL_COST\n",
       "MODELING_GROUP            \n",
       "TESTING           34380000\n",
       "TRAINING          21508500\n",
       "VALIDATION       572832000"
      ]
     },
     "execution_count": 126,
     "metadata": {},
     "output_type": "execute_result"
    }
   ],
   "source": [
    "\n",
    "table = pd.pivot_table(yy, values=['TOTAL_COST'],index=['MODELING_GROUP'], aggfunc=np.sum)\n",
    "table"
   ]
  },
  {
   "cell_type": "markdown",
   "metadata": {},
   "source": [
    "Calculate the number of machines in each modeling group."
   ]
  },
  {
   "cell_type": "code",
   "execution_count": 127,
   "metadata": {},
   "outputs": [],
   "source": [
    "wells=yy[['ID','MODELING_GROUP']]"
   ]
  },
  {
   "cell_type": "code",
   "execution_count": 128,
   "metadata": {},
   "outputs": [
    {
     "data": {
      "text/plain": [
       "(10, 2)"
      ]
     },
     "execution_count": 128,
     "metadata": {},
     "output_type": "execute_result"
    }
   ],
   "source": [
    "wells=wells.drop_duplicates(subset='ID')\n",
    "\n",
    "wells.shape"
   ]
  },
  {
   "cell_type": "code",
   "execution_count": 129,
   "metadata": {},
   "outputs": [],
   "source": [
    "wells = wells.groupby(['MODELING_GROUP'])['ID'].count()\n",
    "wells=pd.DataFrame(wells)\n",
    "wells=wells.rename(columns={\"ID\": \"WELLS\"})"
   ]
  },
  {
   "cell_type": "code",
   "execution_count": 130,
   "metadata": {},
   "outputs": [
    {
     "data": {
      "text/html": [
       "<div><div id=7ce69833-4220-4e76-92da-87d6ce6e5701 style=\"display:none; background-color:#9D6CFF; color:white; width:200px; height:30px; padding-left:5px; border-radius:4px; flex-direction:row; justify-content:space-around; align-items:center;\" onmouseover=\"this.style.backgroundColor='#BA9BF8'\" onmouseout=\"this.style.backgroundColor='#9D6CFF'\" onclick=\"window.commands?.execute('create-mitosheet-from-dataframe-output');\">See Full Dataframe in Mito</div> <script> if (window.commands.hasCommand('create-mitosheet-from-dataframe-output')) document.getElementById('7ce69833-4220-4e76-92da-87d6ce6e5701').style.display = 'flex' </script> <table border=\"1\" class=\"dataframe\">\n",
       "  <thead>\n",
       "    <tr style=\"text-align: right;\">\n",
       "      <th></th>\n",
       "      <th>WELLS</th>\n",
       "    </tr>\n",
       "    <tr>\n",
       "      <th>MODELING_GROUP</th>\n",
       "      <th></th>\n",
       "    </tr>\n",
       "  </thead>\n",
       "  <tbody>\n",
       "    <tr>\n",
       "      <th>TESTING</th>\n",
       "      <td>2</td>\n",
       "    </tr>\n",
       "    <tr>\n",
       "      <th>TRAINING</th>\n",
       "      <td>2</td>\n",
       "    </tr>\n",
       "    <tr>\n",
       "      <th>VALIDATION</th>\n",
       "      <td>6</td>\n",
       "    </tr>\n",
       "  </tbody>\n",
       "</table></div>"
      ],
      "text/plain": [
       "                WELLS\n",
       "MODELING_GROUP       \n",
       "TESTING             2\n",
       "TRAINING            2\n",
       "VALIDATION          6"
      ]
     },
     "execution_count": 130,
     "metadata": {},
     "output_type": "execute_result"
    }
   ],
   "source": [
    "wells"
   ]
  },
  {
   "cell_type": "markdown",
   "metadata": {},
   "source": [
    "Merge the total costs and total machines into one data frame."
   ]
  },
  {
   "cell_type": "code",
   "execution_count": 131,
   "metadata": {},
   "outputs": [],
   "source": [
    "tc = yy.groupby(['MODELING_GROUP'])['TOTAL_COST'].sum()\n",
    "tc=pd.DataFrame(tc)\n"
   ]
  },
  {
   "cell_type": "markdown",
   "metadata": {},
   "source": [
    "Calculate the average cost per machine."
   ]
  },
  {
   "cell_type": "code",
   "execution_count": 132,
   "metadata": {},
   "outputs": [],
   "source": [
    "ac =tc.merge(wells, on=['MODELING_GROUP'], how='inner')\n"
   ]
  },
  {
   "cell_type": "code",
   "execution_count": 144,
   "metadata": {},
   "outputs": [],
   "source": [
    "ac['AVERAGE_COST']=ac.TOTAL_COST/ac.WELLS\n",
    "ac['LIFT']= ac.AVERAGE_COST - 39000"
   ]
  },
  {
   "cell_type": "code",
   "execution_count": 145,
   "metadata": {
    "scrolled": true
   },
   "outputs": [
    {
     "data": {
      "text/html": [
       "<div><div id=5f63ff74-2f1d-431f-a542-f5fce31c188c style=\"display:none; background-color:#9D6CFF; color:white; width:200px; height:30px; padding-left:5px; border-radius:4px; flex-direction:row; justify-content:space-around; align-items:center;\" onmouseover=\"this.style.backgroundColor='#BA9BF8'\" onmouseout=\"this.style.backgroundColor='#9D6CFF'\" onclick=\"window.commands?.execute('create-mitosheet-from-dataframe-output');\">See Full Dataframe in Mito</div> <script> if (window.commands.hasCommand('create-mitosheet-from-dataframe-output')) document.getElementById('5f63ff74-2f1d-431f-a542-f5fce31c188c').style.display = 'flex' </script> <table border=\"1\" class=\"dataframe\">\n",
       "  <thead>\n",
       "    <tr style=\"text-align: right;\">\n",
       "      <th></th>\n",
       "      <th>TOTAL_COST</th>\n",
       "      <th>WELLS</th>\n",
       "      <th>AVERAGE_COST</th>\n",
       "      <th>LIFT</th>\n",
       "    </tr>\n",
       "    <tr>\n",
       "      <th>MODELING_GROUP</th>\n",
       "      <th></th>\n",
       "      <th></th>\n",
       "      <th></th>\n",
       "      <th></th>\n",
       "    </tr>\n",
       "  </thead>\n",
       "  <tbody>\n",
       "    <tr>\n",
       "      <th>TESTING</th>\n",
       "      <td>34380000</td>\n",
       "      <td>2</td>\n",
       "      <td>17190000.0</td>\n",
       "      <td>17151000.0</td>\n",
       "    </tr>\n",
       "    <tr>\n",
       "      <th>TRAINING</th>\n",
       "      <td>21508500</td>\n",
       "      <td>2</td>\n",
       "      <td>10754250.0</td>\n",
       "      <td>10715250.0</td>\n",
       "    </tr>\n",
       "    <tr>\n",
       "      <th>VALIDATION</th>\n",
       "      <td>572832000</td>\n",
       "      <td>6</td>\n",
       "      <td>95472000.0</td>\n",
       "      <td>95433000.0</td>\n",
       "    </tr>\n",
       "  </tbody>\n",
       "</table></div>"
      ],
      "text/plain": [
       "                TOTAL_COST  WELLS  AVERAGE_COST        LIFT\n",
       "MODELING_GROUP                                             \n",
       "TESTING           34380000      2    17190000.0  17151000.0\n",
       "TRAINING          21508500      2    10754250.0  10715250.0\n",
       "VALIDATION       572832000      6    95472000.0  95433000.0"
      ]
     },
     "execution_count": 145,
     "metadata": {},
     "output_type": "execute_result"
    }
   ],
   "source": [
    "ac"
   ]
  },
  {
   "cell_type": "markdown",
   "metadata": {},
   "source": [
    "### Conclusions"
   ]
  },
  {
   "cell_type": "code",
   "execution_count": null,
   "metadata": {},
   "outputs": [],
   "source": []
  },
  {
   "cell_type": "code",
   "execution_count": 140,
   "metadata": {},
   "outputs": [
    {
     "data": {
      "text/html": [
       "<img src=\"https://raw.githubusercontent.com/KhyleHickey/Python-projects/master/Maintenance_cost.png\"/>"
      ],
      "text/plain": [
       "<IPython.core.display.Image object>"
      ]
     },
     "execution_count": 140,
     "metadata": {},
     "output_type": "execute_result"
    }
   ],
   "source": [
    "from IPython.display import Image\n",
    "from IPython.core.display import HTML \n",
    "Image(url= \"https://raw.githubusercontent.com/KhyleHickey/Python-projects/master/Maintenance_cost.png\")"
   ]
  },
  {
   "cell_type": "code",
   "execution_count": null,
   "metadata": {},
   "outputs": [],
   "source": []
  }
 ],
 "metadata": {
  "kernelspec": {
   "display_name": "Python 3 (ipykernel)",
   "language": "python",
   "name": "python3"
  },
  "language_info": {
   "codemirror_mode": {
    "name": "ipython",
    "version": 3
   },
   "file_extension": ".py",
   "mimetype": "text/x-python",
   "name": "python",
   "nbconvert_exporter": "python",
   "pygments_lexer": "ipython3",
   "version": "3.8.12"
  },
  "toc-autonumbering": false,
  "toc-showcode": false,
  "toc-showmarkdowntxt": false
 },
 "nbformat": 4,
 "nbformat_minor": 4
}
